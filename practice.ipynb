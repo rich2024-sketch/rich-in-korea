{
 "cells": [
  {
   "cell_type": "markdown",
   "id": "c11f36fb-4994-4ab9-b11a-5f8e1b7b3155",
   "metadata": {},
   "source": [
    "Chapter 1"
   ]
  },
  {
   "cell_type": "markdown",
   "id": "0b804441-c910-4c0c-a7ff-9e3f2b97a8d5",
   "metadata": {},
   "source": [
    "Programing: provided a computer or machine with a coded instructions for the performance of a task\n",
    "\n",
    "Interpreter: It is computer program that translate high-level programming into machine codes, without first compiling them into machine language.\n",
    "\n",
    "Compiler: is a computer program that translate code written in one programming language to another.\n",
    "\n",
    "Integrated Development Environment(IDE): A software Application that helps programmer develop software code efficiently.\n",
    "\n",
    "Prompt: it is a message or texts that ask the user for their input or provides instruction.\n",
    "\n",
    "String: A sequence of character that represents text.\n",
    "\n",
    "Expression: A combination of Variables, Operators, Literals and function calls, that provide a value when executed."
   ]
  },
  {
   "cell_type": "markdown",
   "id": "92e7eb8f-4e81-4705-9174-17fbc75aa238",
   "metadata": {},
   "source": [
    "Shortcut to create a new Python script module: \n",
    "To run a Python script module:\n",
    "Load the Python script code:\n",
    "Load previously executed code from the Python shell:\n",
    "Loading script code for Python development from the Python Shell:"
   ]
  },
  {
   "cell_type": "code",
   "execution_count": 1,
   "id": "2d48f28e-56aa-4e2d-bd56-3cded187ee83",
   "metadata": {},
   "outputs": [
    {
     "name": "stdout",
     "output_type": "stream",
     "text": [
      "100\n"
     ]
    }
   ],
   "source": [
    "print(100)"
   ]
  },
  {
   "cell_type": "code",
   "execution_count": 2,
   "id": "0330bcc2-5723-4a07-b478-d086aa8bc4e8",
   "metadata": {},
   "outputs": [
    {
     "name": "stdout",
     "output_type": "stream",
     "text": [
      "300\n"
     ]
    }
   ],
   "source": [
    "print(100 + 200)"
   ]
  },
  {
   "cell_type": "code",
   "execution_count": 3,
   "id": "614474d6-2ca7-4414-86a1-052461b20a39",
   "metadata": {},
   "outputs": [
    {
     "name": "stdout",
     "output_type": "stream",
     "text": [
      "100 + 200\n"
     ]
    }
   ],
   "source": [
    "print('100 + 200')"
   ]
  },
  {
   "cell_type": "code",
   "execution_count": 4,
   "id": "620e2c20-836c-4450-8a51-83b8339fce9a",
   "metadata": {},
   "outputs": [
    {
     "name": "stdout",
     "output_type": "stream",
     "text": [
      "100 200\n"
     ]
    }
   ],
   "source": [
    "print(100, 200)"
   ]
  },
  {
   "cell_type": "code",
   "execution_count": 5,
   "id": "1fdcef74-e59a-48a6-9f5c-906e2097bfbb",
   "metadata": {},
   "outputs": [
    {
     "name": "stdout",
     "output_type": "stream",
     "text": [
      "100 200\n"
     ]
    }
   ],
   "source": [
    "print('100', '200')"
   ]
  },
  {
   "cell_type": "code",
   "execution_count": 10,
   "id": "398fc245-7765-45e5-9f95-7498b7af6de0",
   "metadata": {},
   "outputs": [
    {
     "name": "stdout",
     "output_type": "stream",
     "text": [
      "100200\n"
     ]
    }
   ],
   "source": [
    "print('100''200')"
   ]
  },
  {
   "cell_type": "code",
   "execution_count": 8,
   "id": "f73727ec-3799-46f9-a3ab-75d801002572",
   "metadata": {},
   "outputs": [
    {
     "name": "stdout",
     "output_type": "stream",
     "text": [
      "Hello Python!\n"
     ]
    }
   ],
   "source": [
    "print('Hello Python!')"
   ]
  },
  {
   "cell_type": "code",
   "execution_count": 9,
   "id": "5b59a357-a98e-45e9-a633-3432ffe3dc89",
   "metadata": {},
   "outputs": [
    {
     "name": "stdout",
     "output_type": "stream",
     "text": [
      "Hello Python !\n"
     ]
    }
   ],
   "source": [
    "print('Hello', 'Python', '!')"
   ]
  },
  {
   "cell_type": "code",
   "execution_count": 11,
   "id": "d36518f3-2f2c-478c-b419-868a6b826987",
   "metadata": {},
   "outputs": [
    {
     "name": "stdout",
     "output_type": "stream",
     "text": [
      "HelloPython!\n"
     ]
    }
   ],
   "source": [
    "print('Hello' + 'Python' + '!')"
   ]
  },
  {
   "cell_type": "code",
   "execution_count": 12,
   "id": "0c672753-24f0-4855-9c6a-5b3c6da76514",
   "metadata": {},
   "outputs": [
    {
     "name": "stdout",
     "output_type": "stream",
     "text": [
      "HelloPython!\n"
     ]
    }
   ],
   "source": [
    "print('Hello''Python''!')"
   ]
  },
  {
   "cell_type": "code",
   "execution_count": 13,
   "id": "1e1a00bf-f8eb-4037-990a-ec442cdd0faa",
   "metadata": {},
   "outputs": [
    {
     "name": "stdout",
     "output_type": "stream",
     "text": [
      "**************\n"
     ]
    }
   ],
   "source": [
    "print('**************')"
   ]
  },
  {
   "cell_type": "code",
   "execution_count": 14,
   "id": "9c76d42b-cb42-4de1-ad30-73506b2ee2f7",
   "metadata": {},
   "outputs": [
    {
     "name": "stdout",
     "output_type": "stream",
     "text": [
      "********\n"
     ]
    }
   ],
   "source": [
    "print('*' * 8)"
   ]
  },
  {
   "cell_type": "code",
   "execution_count": 15,
   "id": "a9efb274-b8c6-4704-8499-30258a71a11c",
   "metadata": {},
   "outputs": [
    {
     "ename": "SyntaxError",
     "evalue": "unterminated string literal (detected at line 1) (1408595535.py, line 1)",
     "output_type": "error",
     "traceback": [
      "\u001b[1;36m  Cell \u001b[1;32mIn[15], line 1\u001b[1;36m\u001b[0m\n\u001b[1;33m    print('Hello Python!\")\u001b[0m\n\u001b[1;37m          ^\u001b[0m\n\u001b[1;31mSyntaxError\u001b[0m\u001b[1;31m:\u001b[0m unterminated string literal (detected at line 1)\n"
     ]
    }
   ],
   "source": [
    "print('Hello Python!\") # unterminated string literal"
   ]
  },
  {
   "cell_type": "code",
   "execution_count": 16,
   "id": "8d78db8d-44b9-4bea-871b-bc258d874bd6",
   "metadata": {},
   "outputs": [
    {
     "name": "stdout",
     "output_type": "stream",
     "text": [
      "Hello Python!\n"
     ]
    }
   ],
   "source": [
    "print('Hello Python!')"
   ]
  },
  {
   "cell_type": "code",
   "execution_count": 17,
   "id": "6921c8f5-bbb6-4861-88c5-b5ba5ad162a8",
   "metadata": {},
   "outputs": [
    {
     "ename": "SyntaxError",
     "evalue": "invalid syntax. Perhaps you forgot a comma? (1333417461.py, line 1)",
     "output_type": "error",
     "traceback": [
      "\u001b[1;36m  Cell \u001b[1;32mIn[17], line 1\u001b[1;36m\u001b[0m\n\u001b[1;33m    print('*' 20)\u001b[0m\n\u001b[1;37m          ^\u001b[0m\n\u001b[1;31mSyntaxError\u001b[0m\u001b[1;31m:\u001b[0m invalid syntax. Perhaps you forgot a comma?\n"
     ]
    }
   ],
   "source": [
    "print('*' 20) # invalid syntax"
   ]
  },
  {
   "cell_type": "code",
   "execution_count": 19,
   "id": "3610caa4-8380-425e-bf02-79a039149aff",
   "metadata": {},
   "outputs": [
    {
     "ename": "SyntaxError",
     "evalue": "invalid syntax. Perhaps you forgot a comma? (1823810997.py, line 1)",
     "output_type": "error",
     "traceback": [
      "\u001b[1;36m  Cell \u001b[1;32mIn[19], line 1\u001b[1;36m\u001b[0m\n\u001b[1;33m    print(20 20)\u001b[0m\n\u001b[1;37m          ^\u001b[0m\n\u001b[1;31mSyntaxError\u001b[0m\u001b[1;31m:\u001b[0m invalid syntax. Perhaps you forgot a comma?\n"
     ]
    }
   ],
   "source": [
    "print('*', 20)"
   ]
  },
  {
   "cell_type": "code",
   "execution_count": 21,
   "id": "02b654f6-a2e3-483d-a7d3-2d9a6f6c682e",
   "metadata": {},
   "outputs": [
    {
     "ename": "SyntaxError",
     "evalue": "invalid syntax (4129943471.py, line 1)",
     "output_type": "error",
     "traceback": [
      "\u001b[1;36m  Cell \u001b[1;32mIn[21], line 1\u001b[1;36m\u001b[0m\n\u001b[1;33m    print(Life, is, short, learn, Python!) # invalid syntax\u001b[0m\n\u001b[1;37m                ^\u001b[0m\n\u001b[1;31mSyntaxError\u001b[0m\u001b[1;31m:\u001b[0m invalid syntax\n"
     ]
    }
   ],
   "source": [
    "print(Life is short learn Python!) # invalid syntax"
   ]
  },
  {
   "cell_type": "code",
   "execution_count": 22,
   "id": "91c1d193-02ed-4472-92e6-002a08605ce4",
   "metadata": {},
   "outputs": [
    {
     "name": "stdout",
     "output_type": "stream",
     "text": [
      "Life is short learn Python!\n"
     ]
    }
   ],
   "source": [
    "print('Life is short learn Python!')"
   ]
  },
  {
   "cell_type": "code",
   "execution_count": 23,
   "id": "06929476-ba37-4ac6-b7d5-53890075e026",
   "metadata": {},
   "outputs": [
    {
     "ename": "TypeError",
     "evalue": "unsupported operand type(s) for +: 'int' and 'str'",
     "output_type": "error",
     "traceback": [
      "\u001b[1;31m---------------------------------------------------------------------------\u001b[0m",
      "\u001b[1;31mTypeError\u001b[0m                                 Traceback (most recent call last)",
      "Cell \u001b[1;32mIn[23], line 1\u001b[0m\n\u001b[1;32m----> 1\u001b[0m \u001b[38;5;28mprint\u001b[39m(\u001b[38;5;241m100\u001b[39m \u001b[38;5;241m+\u001b[39m \u001b[38;5;124m'\u001b[39m\u001b[38;5;124m200\u001b[39m\u001b[38;5;124m'\u001b[39m)\n",
      "\u001b[1;31mTypeError\u001b[0m: unsupported operand type(s) for +: 'int' and 'str'"
     ]
    }
   ],
   "source": [
    "print(100 + '200') # unsupported operand type(s) for +: 'int' and 'str'"
   ]
  },
  {
   "cell_type": "code",
   "execution_count": 24,
   "id": "b5d638fd-0e26-4065-89fb-b4a1ca58c177",
   "metadata": {},
   "outputs": [
    {
     "name": "stdout",
     "output_type": "stream",
     "text": [
      "100200\n"
     ]
    }
   ],
   "source": [
    "print('100' + '200') # either it is string + string operand type"
   ]
  },
  {
   "cell_type": "code",
   "execution_count": 25,
   "id": "7c75c579-337d-44a4-80a5-4c5182aa2f4e",
   "metadata": {},
   "outputs": [
    {
     "name": "stdout",
     "output_type": "stream",
     "text": [
      "300\n"
     ]
    }
   ],
   "source": [
    "print(100 + 200) # or it is int + int operand type"
   ]
  },
  {
   "cell_type": "code",
   "execution_count": 28,
   "id": "77b3142f-48db-48da-af5f-51289d70a94e",
   "metadata": {},
   "outputs": [
    {
     "name": "stdout",
     "output_type": "stream",
     "text": [
      "*\n",
      "**\n",
      "***\n",
      "****\n",
      "*****\n",
      "******\n"
     ]
    }
   ],
   "source": [
    "print('*')\n",
    "print('**')\n",
    "print('***')\n",
    "print('****')\n",
    "print('*****')\n",
    "print('******')"
   ]
  },
  {
   "cell_type": "code",
   "execution_count": 1,
   "id": "8ef537b5-200c-4148-b0b3-fd1a971c711d",
   "metadata": {},
   "outputs": [],
   "source": [
    "import turtle\n",
    "\n",
    "t = turtle.Turtle()\n",
    "t.shape('turtle')\n",
    "\n",
    "t.forward(100)\n",
    "t.left(135)\n",
    "t.forward(141.4)\n",
    "t.left(135)\n",
    "t.forward(100)"
   ]
  },
  {
   "cell_type": "code",
   "execution_count": 1,
   "id": "37033eff-e6ab-45e6-a720-69efbfe67b56",
   "metadata": {},
   "outputs": [],
   "source": [
    "import turtle\n",
    "\n",
    "t = turtle.Turtle()\n",
    "t.shape('turtle')\n",
    "\n",
    "t.forward(100)\n",
    "t.left(120)\n",
    "t.forward(100)\n",
    "t.left(60)\n",
    "t.forward(100)\n",
    "t.left(120)\n",
    "t.forward(100)\n",
    "t.left(120)\n",
    "t.forward(100)\n",
    "t.right(60)"
   ]
  },
  {
   "cell_type": "code",
   "execution_count": 1,
   "id": "1baee886-5e4a-4077-bca7-5178dbaa2fe5",
   "metadata": {},
   "outputs": [
    {
     "data": {
      "text/plain": [
       "300"
      ]
     },
     "execution_count": 1,
     "metadata": {},
     "output_type": "execute_result"
    }
   ],
   "source": [
    "400 - 200 + 100"
   ]
  },
  {
   "cell_type": "code",
   "execution_count": 2,
   "id": "0e11ce51-1946-4d2c-a8b9-b3e7ee0e91c8",
   "metadata": {},
   "outputs": [
    {
     "data": {
      "text/plain": [
       "81700"
      ]
     },
     "execution_count": 2,
     "metadata": {},
     "output_type": "execute_result"
    }
   ],
   "source": [
    "409 * 200 - 100"
   ]
  },
  {
   "cell_type": "code",
   "execution_count": 3,
   "id": "b0217456-5fc4-41e5-b62e-7bbc7a388fb2",
   "metadata": {},
   "outputs": [
    {
     "data": {
      "text/plain": [
       "2.0"
      ]
     },
     "execution_count": 3,
     "metadata": {},
     "output_type": "execute_result"
    }
   ],
   "source": [
    "6 * 3 / 9"
   ]
  },
  {
   "cell_type": "code",
   "execution_count": 4,
   "id": "bff3596b-1a64-4af7-8aa9-9392a18d725a",
   "metadata": {},
   "outputs": [
    {
     "data": {
      "text/plain": [
       "729"
      ]
     },
     "execution_count": 4,
     "metadata": {},
     "output_type": "execute_result"
    }
   ],
   "source": [
    "9 ** 3"
   ]
  },
  {
   "cell_type": "code",
   "execution_count": 5,
   "id": "e83f7e36-6f71-4fd1-b18c-02464deecf5c",
   "metadata": {},
   "outputs": [
    {
     "data": {
      "text/plain": [
       "3.0"
      ]
     },
     "execution_count": 5,
     "metadata": {},
     "output_type": "execute_result"
    }
   ],
   "source": [
    "9 / 3"
   ]
  },
  {
   "cell_type": "code",
   "execution_count": 6,
   "id": "897cdb88-8f32-4965-b5e3-20a466a3cd5c",
   "metadata": {},
   "outputs": [
    {
     "data": {
      "text/plain": [
       "3"
      ]
     },
     "execution_count": 6,
     "metadata": {},
     "output_type": "execute_result"
    }
   ],
   "source": [
    "9 // 3"
   ]
  },
  {
   "cell_type": "code",
   "execution_count": 7,
   "id": "e76c9d2d-642a-4326-b19b-ee77bc55fe32",
   "metadata": {},
   "outputs": [
    {
     "data": {
      "text/plain": [
       "55"
      ]
     },
     "execution_count": 7,
     "metadata": {},
     "output_type": "execute_result"
    }
   ],
   "source": [
    "1 + 2 + 3 + 4 + 5 + 6 + 7 + 8 + 9 + 10"
   ]
  },
  {
   "cell_type": "code",
   "execution_count": 8,
   "id": "0b74ded0-169a-4727-b945-ba975190faa4",
   "metadata": {},
   "outputs": [
    {
     "data": {
      "text/plain": [
       "157.0"
      ]
     },
     "execution_count": 8,
     "metadata": {},
     "output_type": "execute_result"
    }
   ],
   "source": [
    "2 * 3.14 * 5 ** 2"
   ]
  },
  {
   "cell_type": "code",
   "execution_count": 9,
   "id": "ca4dbc7d-4517-49f3-b159-03fde1882544",
   "metadata": {},
   "outputs": [
    {
     "data": {
      "text/plain": [
       "80"
      ]
     },
     "execution_count": 9,
     "metadata": {},
     "output_type": "execute_result"
    }
   ],
   "source": [
    "4 * 20"
   ]
  },
  {
   "cell_type": "code",
   "execution_count": 10,
   "id": "b33da188-db49-4914-97dc-9cc164bf55a4",
   "metadata": {},
   "outputs": [
    {
     "data": {
      "text/plain": [
       "400"
      ]
     },
     "execution_count": 10,
     "metadata": {},
     "output_type": "execute_result"
    }
   ],
   "source": [
    "20 * 20"
   ]
  },
  {
   "cell_type": "code",
   "execution_count": 12,
   "id": "c4586303-1c8f-444f-a594-48eb3ce009a4",
   "metadata": {},
   "outputs": [
    {
     "data": {
      "text/plain": [
       "80"
      ]
     },
     "execution_count": 12,
     "metadata": {},
     "output_type": "execute_result"
    }
   ],
   "source": [
    "2*10 + 2*30"
   ]
  },
  {
   "cell_type": "code",
   "execution_count": 13,
   "id": "fcd9f918-c811-4d0f-8a44-37cb0b20dd23",
   "metadata": {},
   "outputs": [
    {
     "data": {
      "text/plain": [
       "300"
      ]
     },
     "execution_count": 13,
     "metadata": {},
     "output_type": "execute_result"
    }
   ],
   "source": [
    "10 * 30"
   ]
  },
  {
   "cell_type": "code",
   "execution_count": 14,
   "id": "9012ebd0-9e59-485d-b113-91c1874da5d4",
   "metadata": {},
   "outputs": [
    {
     "data": {
      "text/plain": [
       "24"
      ]
     },
     "execution_count": 14,
     "metadata": {},
     "output_type": "execute_result"
    }
   ],
   "source": [
    "4 * 3 * 2 * 1"
   ]
  },
  {
   "cell_type": "code",
   "execution_count": 15,
   "id": "c0f52880-9fea-44fb-8d46-fb5fffadd16c",
   "metadata": {},
   "outputs": [
    {
     "data": {
      "text/plain": [
       "120"
      ]
     },
     "execution_count": 15,
     "metadata": {},
     "output_type": "execute_result"
    }
   ],
   "source": [
    "5 * 4 * 3 * 2 * 1"
   ]
  },
  {
   "cell_type": "code",
   "execution_count": 16,
   "id": "65cf4aea-2284-4885-b15f-bd95d2f1bc9c",
   "metadata": {},
   "outputs": [
    {
     "data": {
      "text/plain": [
       "720"
      ]
     },
     "execution_count": 16,
     "metadata": {},
     "output_type": "execute_result"
    }
   ],
   "source": [
    "6 * 5 * 4 * 3 * 2 * 1 "
   ]
  },
  {
   "cell_type": "markdown",
   "id": "81b3f20b-ff8b-40d9-a56a-36ea73f7af1f",
   "metadata": {},
   "source": [
    "Chapter 2"
   ]
  },
  {
   "cell_type": "code",
   "execution_count": 17,
   "id": "a1208f31-e526-4907-8665-cceffae409d5",
   "metadata": {},
   "outputs": [
    {
     "name": "stdout",
     "output_type": "stream",
     "text": [
      "100 + 200 = 300\n"
     ]
    }
   ],
   "source": [
    "print ( 100, '+', 200 ,'=', 100 + 200)"
   ]
  },
  {
   "cell_type": "code",
   "execution_count": 18,
   "id": "3e902886-56db-45d1-9c63-1e8311947288",
   "metadata": {},
   "outputs": [
    {
     "name": "stdout",
     "output_type": "stream",
     "text": [
      "200 + 300 + 400 = 900\n"
     ]
    }
   ],
   "source": [
    "print( 200, '+', 300, '+', 400, '=', 200 + 300 + 400)"
   ]
  },
  {
   "cell_type": "code",
   "execution_count": 19,
   "id": "a851f801-78a9-4470-a44c-8b6f296bb6db",
   "metadata": {},
   "outputs": [],
   "source": [
    "width = 30\n",
    "height = 60"
   ]
  },
  {
   "cell_type": "code",
   "execution_count": 20,
   "id": "486de4a7-e895-4f12-b23e-27f091df3e0f",
   "metadata": {},
   "outputs": [
    {
     "name": "stdout",
     "output_type": "stream",
     "text": [
      "30\n"
     ]
    }
   ],
   "source": [
    "print(width)"
   ]
  },
  {
   "cell_type": "code",
   "execution_count": 21,
   "id": "b98a1708-5eb9-40d8-b8b8-8420df9cfb0e",
   "metadata": {},
   "outputs": [
    {
     "name": "stdout",
     "output_type": "stream",
     "text": [
      "60\n"
     ]
    }
   ],
   "source": [
    "print(height)"
   ]
  },
  {
   "cell_type": "code",
   "execution_count": 22,
   "id": "08ddd05b-4ad5-4917-ae63-95032244ee53",
   "metadata": {},
   "outputs": [],
   "source": [
    "width, height = 30, 60"
   ]
  },
  {
   "cell_type": "code",
   "execution_count": 23,
   "id": "f3479d98-250b-46c5-8abb-cf2db77cc8bf",
   "metadata": {},
   "outputs": [
    {
     "name": "stdout",
     "output_type": "stream",
     "text": [
      "30\n"
     ]
    }
   ],
   "source": [
    "print(width)"
   ]
  },
  {
   "cell_type": "code",
   "execution_count": 24,
   "id": "1727e10e-9b79-4d4a-98a2-65b91fde79a9",
   "metadata": {},
   "outputs": [
    {
     "name": "stdout",
     "output_type": "stream",
     "text": [
      "60\n"
     ]
    }
   ],
   "source": [
    "print(height)"
   ]
  },
  {
   "cell_type": "code",
   "execution_count": 25,
   "id": "fd90f3d5-fdbb-4290-80d5-456d767c087d",
   "metadata": {},
   "outputs": [
    {
     "name": "stdin",
     "output_type": "stream",
     "text": [
      "input the length of the square:  40\n"
     ]
    },
    {
     "name": "stdout",
     "output_type": "stream",
     "text": [
      "1600\n"
     ]
    }
   ],
   "source": [
    "a = int(input('input the length of the square: '))\n",
    "area_square = a * a\n",
    "print(area_square)"
   ]
  },
  {
   "cell_type": "code",
   "execution_count": 26,
   "id": "59fabd49-1e12-41b2-ad49-1140d0f329d3",
   "metadata": {},
   "outputs": [
    {
     "name": "stdout",
     "output_type": "stream",
     "text": [
      "55\n"
     ]
    }
   ],
   "source": [
    "print(1 + 2 + 3 + 4 + 5 + 6 + 7 + 8 + 9 + 10)"
   ]
  },
  {
   "cell_type": "code",
   "execution_count": 27,
   "id": "710ad723-cc10-4e2c-8a99-a58f3c732609",
   "metadata": {},
   "outputs": [
    {
     "name": "stdout",
     "output_type": "stream",
     "text": [
      "3628800\n"
     ]
    }
   ],
   "source": [
    "print(10 * 9 * 8 * 7 * 6 * 5 * 4 * 3 * 2 * 1)"
   ]
  },
  {
   "cell_type": "code",
   "execution_count": 31,
   "id": "b480208c-dcb1-4dd9-ad99-c2817e0a0878",
   "metadata": {},
   "outputs": [
    {
     "name": "stdin",
     "output_type": "stream",
     "text": [
      " input a celcius value to get the equavalenet fahrenheit:  30\n"
     ]
    },
    {
     "name": "stdout",
     "output_type": "stream",
     "text": [
      "celcius degree is 30 fahrenheit degree is 86.0\n"
     ]
    }
   ],
   "source": [
    "celcius = int(input(' input a celcius value to get the equavalenet fahrenheit: '))\n",
    "fahrenheit = (9/5) * celcius + 32\n",
    "print('celcius degree is', celcius, 'fahrenheit degree is', fahrenheit)"
   ]
  },
  {
   "cell_type": "code",
   "execution_count": 33,
   "id": "4985fd89-4b78-4523-a0bb-b06e639b61c3",
   "metadata": {},
   "outputs": [
    {
     "name": "stdin",
     "output_type": "stream",
     "text": [
      "input the circle's radius to get it's area and circumference:  11\n"
     ]
    },
    {
     "name": "stdout",
     "output_type": "stream",
     "text": [
      "the area of the circle is: 380.132632 the area of the perimeter is: 69.115024\n"
     ]
    }
   ],
   "source": [
    "circle_radius = int(input(\"input the circle's radius to get it's area and circumference: \"))\n",
    "circle_area = 3.141592 * circle_radius ** 2\n",
    "circle_perimeter = 2 * 3.141592 * circle_radius\n",
    "print('the area of the circle is:', circle_area, 'the area of the perimeter is:', circle_perimeter)"
   ]
  },
  {
   "cell_type": "code",
   "execution_count": 47,
   "id": "1efd36d3-f2c8-4176-80ca-064d05584f49",
   "metadata": {},
   "outputs": [
    {
     "name": "stdout",
     "output_type": "stream",
     "text": [
      "It's really hot!\n",
      "I said \"Hello!\" to him.\n",
      "He said \"What's there?\\nNewline character is \\n, Tab character is \\t.\n",
      "Working directory is C:\\workspace\\mywork.\n"
     ]
    }
   ],
   "source": [
    "print(\"It's really hot!\\n\" \"I said \\\"Hello!\\\" to him.\\n\" \"He said \\\"What's there?\\\\n\" \"Newline character is \\\\n, Tab character is \\\\t.\\n\" \"Working directory is C:\\workspace\\mywork.\")"
   ]
  },
  {
   "cell_type": "markdown",
   "id": "1449bb08-75db-44d6-b1a9-59c3abbc9e5b",
   "metadata": {},
   "source": [
    "# chapter 3"
   ]
  },
  {
   "cell_type": "code",
   "execution_count": 50,
   "id": "67976979-12f7-4884-b734-436b779b29b8",
   "metadata": {},
   "outputs": [
    {
     "name": "stdin",
     "output_type": "stream",
     "text": [
      "input any number and you will get the square of it:  2\n"
     ]
    },
    {
     "name": "stdout",
     "output_type": "stream",
     "text": [
      " the square of the number 2 is 4\n"
     ]
    }
   ],
   "source": [
    "n = 2\n",
    "number = int(input('input any number and you will get the square of it: '))\n",
    "square = number ** 2 \n",
    "\n",
    "\n",
    "\n",
    "\n",
    "\n",
    "\n",
    "\n",
    "print('the square of the number', number, 'is', square)"
   ]
  },
  {
   "cell_type": "code",
   "execution_count": 51,
   "id": "07f99169-6b5c-4acc-8259-20813762b4d5",
   "metadata": {},
   "outputs": [
    {
     "name": "stdin",
     "output_type": "stream",
     "text": [
      "input any number and you will get the square root of it:  2\n"
     ]
    },
    {
     "name": "stdout",
     "output_type": "stream",
     "text": [
      "the square root of the number 2 is 1.4142135623730951\n"
     ]
    }
   ],
   "source": [
    "n = 0.5\n",
    "number = int(input('input any number and you will get the square root of it: '))\n",
    "square_root = number ** n\n",
    "print('the square root of the number', number, 'is', square_root)"
   ]
  },
  {
   "cell_type": "code",
   "execution_count": 48,
   "id": "4ea2fb6c-0038-4568-a3b0-34e2902f7faa",
   "metadata": {},
   "outputs": [
    {
     "name": "stdout",
     "output_type": "stream",
     "text": [
      "2 6 16 40 32 64 128 256 512 1024\n"
     ]
    }
   ],
   "source": [
    "print(2, 3 << 1, 4 << 2, 5 << 3, 2 << 4, 2 << 5, 2 << 6, 2 << 7, 2 << 8, 2 << 9)"
   ]
  },
  {
   "cell_type": "code",
   "execution_count": 58,
   "id": "200e4be7-9197-4b75-ade3-685c9afc9168",
   "metadata": {},
   "outputs": [
    {
     "name": "stdin",
     "output_type": "stream",
     "text": [
      "input a number and i will tell if it is a even number:  120\n"
     ]
    },
    {
     "name": "stdout",
     "output_type": "stream",
     "text": [
      "the integer you have entered between the even integers of the range 0 to 100?: False\n"
     ]
    }
   ],
   "source": [
    "n = int(input('input a number and i will tell if it is a even number: '))\n",
    "even_range = n % 2 == 0 and 0 <= n <= 100\n",
    "# range = 0 <= n <= 100 \n",
    "print('the integer you have entered between the even integers of the range 0 to 100?:', even_range)"
   ]
  },
  {
   "cell_type": "code",
   "execution_count": 59,
   "id": "099c14cd-a45a-44f5-ba08-06b384420e93",
   "metadata": {},
   "outputs": [
    {
     "name": "stdout",
     "output_type": "stream",
     "text": [
      "0b101\n"
     ]
    }
   ],
   "source": [
    "print(bin(5))"
   ]
  },
  {
   "cell_type": "code",
   "execution_count": 60,
   "id": "306a180a-0d51-410f-bda1-4ee40962730a",
   "metadata": {},
   "outputs": [
    {
     "name": "stdout",
     "output_type": "stream",
     "text": [
      "0b110\n"
     ]
    }
   ],
   "source": [
    "print(bin(6))"
   ]
  },
  {
   "cell_type": "code",
   "execution_count": 62,
   "id": "49704ef4-1a03-421c-9b7e-f874bca8da00",
   "metadata": {},
   "outputs": [
    {
     "name": "stdout",
     "output_type": "stream",
     "text": [
      "0b101 & 0b110 = 0b100\n",
      "0b101 | 0b110 = 0b111\n",
      "0b101 ^ 0b110 = 0b11\n"
     ]
    }
   ],
   "source": [
    "print('0b101 & 0b110 =', bin(0b101 & 0b110))\n",
    "print('0b101 | 0b110 =', bin(0b101 | 0b110))\n",
    "print('0b101 ^ 0b110 =', bin(0b101 ^ 0b110))"
   ]
  },
  {
   "cell_type": "code",
   "execution_count": 64,
   "id": "9494a92c-8e66-4156-bf1a-74915f4197ae",
   "metadata": {},
   "outputs": [
    {
     "name": "stdin",
     "output_type": "stream",
     "text": [
      "input a number:  202\n",
      "input a number:  50\n"
     ]
    },
    {
     "name": "stdout",
     "output_type": "stream",
     "text": [
      "4\n",
      "2\n"
     ]
    }
   ],
   "source": [
    "a = int(input('input a number: '))\n",
    "b = int(input('input a number: '))\n",
    "division = a // b\n",
    "remainder = a % b\n",
    "print(division)\n",
    "print(remainder)"
   ]
  },
  {
   "cell_type": "code",
   "execution_count": 65,
   "id": "b429a802-7d3a-436a-9163-747a94e76cc4",
   "metadata": {},
   "outputs": [
    {
     "name": "stdin",
     "output_type": "stream",
     "text": [
      "input a number:  349\n"
     ]
    },
    {
     "name": "stdout",
     "output_type": "stream",
     "text": [
      "3\n",
      "4\n",
      "9\n"
     ]
    }
   ],
   "source": [
    "n = int(input('input a number: '))\n",
    "h = n // 100\n",
    "t = (n % 100) // 10\n",
    "u = (n % 100) % 10\n",
    "print(h)\n",
    "print(t)\n",
    "print(u)"
   ]
  },
  {
   "cell_type": "code",
   "execution_count": 66,
   "id": "4d0aea3a-f125-4058-b0b8-99dada7c1c51",
   "metadata": {},
   "outputs": [
    {
     "name": "stdin",
     "output_type": "stream",
     "text": [
      "input a number:  349\n"
     ]
    },
    {
     "name": "stdout",
     "output_type": "stream",
     "text": [
      "9\n",
      "4\n",
      "3\n"
     ]
    }
   ],
   "source": [
    "n = int(input('input a number: '))\n",
    "h = n // 100\n",
    "t = (n % 100) // 10\n",
    "u = (n % 100) % 10\n",
    "print(u)\n",
    "print(t)\n",
    "print(h)"
   ]
  },
  {
   "cell_type": "code",
   "execution_count": 78,
   "id": "656fd33f-7bb9-430d-9550-156d980a14d7",
   "metadata": {},
   "outputs": [
    {
     "name": "stdin",
     "output_type": "stream",
     "text": [
      "input a number:  349\n"
     ]
    },
    {
     "name": "stdout",
     "output_type": "stream",
     "text": [
      "3 4 9\n"
     ]
    }
   ],
   "source": [
    "n = int(input('input a number: '))\n",
    "h = n // 100\n",
    "t = (n % 100) // 10\n",
    "u = (n % 100) % 10\n",
    "print(h, t, u)"
   ]
  },
  {
   "cell_type": "code",
   "execution_count": 89,
   "id": "8572f0a8-f489-43d3-b400-5573ac84854b",
   "metadata": {},
   "outputs": [
    {
     "name": "stdin",
     "output_type": "stream",
     "text": [
      "input a number:  12.342\n"
     ]
    },
    {
     "name": "stdout",
     "output_type": "stream",
     "text": [
      "12 20 31\n"
     ]
    }
   ],
   "source": [
    "m = float(input('input a number: '))\n",
    "hour = int(m)\n",
    "minute1 = ((m % hour) * 60)\n",
    "minute2 = int(((m % hour) * 60))\n",
    "sec = int((minute1 % minute2) * 60)\n",
    "print(hour, minute2, sec)"
   ]
  },
  {
   "cell_type": "markdown",
   "id": "aecfc06d-eb40-4d73-97ad-4a28f3847713",
   "metadata": {},
   "source": [
    "Chapter 4"
   ]
  },
  {
   "cell_type": "code",
   "execution_count": null,
   "id": "12781862-29ee-49b1-9daa-35aa44f3c00e",
   "metadata": {},
   "outputs": [],
   "source": [
    "for i in [a,b,c,d,e,f,g,h,i,j,k,l,m,n,o,p,q,r,s,t,u,v,w,x,y,z]:\n",
    "    alphabet = input('input an alphabet: ')\n",
    "    if alphabet in [a,e,i,o,u]:\n",
    "        print(alphabet, 'is a vowel\n",
    "    "
   ]
  },
  {
   "cell_type": "markdown",
   "id": "390dc014-ce29-4a66-ac4c-83c6ac2e7100",
   "metadata": {},
   "source": [
    "## chapter 4"
   ]
  },
  {
   "cell_type": "markdown",
   "id": "11175563-671c-463d-81c1-035615558904",
   "metadata": {},
   "source": [
    "#### 4.1"
   ]
  },
  {
   "cell_type": "code",
   "execution_count": 18,
   "id": "a0c8b5c9-1102-49db-8d29-66febfce5959",
   "metadata": {},
   "outputs": [
    {
     "name": "stdin",
     "output_type": "stream",
     "text": [
      "Enter an alphabet:  z\n"
     ]
    },
    {
     "name": "stdout",
     "output_type": "stream",
     "text": [
      "z is a consonant\n"
     ]
    }
   ],
   "source": [
    "alphabet = input('Enter an alphabet: ')\n",
    "\n",
    "if alphabet == 'a' or alphabet == 'e' or alphabet == 'i' or alphabet == 'o' or alphabet == 'u':\n",
    "    print(alphabet, 'is a vowel')\n",
    "else:\n",
    "    print(alphabet, 'is a consonant')"
   ]
  },
  {
   "cell_type": "markdown",
   "id": "d5c1feea-d2e8-4ae9-a548-caad1bc3e98e",
   "metadata": {},
   "source": [
    "#### 4.2"
   ]
  },
  {
   "cell_type": "code",
   "execution_count": 4,
   "id": "1d79ad58-66d6-4e50-bc89-3e3b5c93771d",
   "metadata": {},
   "outputs": [
    {
     "name": "stdin",
     "output_type": "stream",
     "text": [
      "Enter three random numbers:  9 4 122\n"
     ]
    },
    {
     "name": "stdout",
     "output_type": "stream",
     "text": [
      "122 9 4\n"
     ]
    }
   ],
   "source": [
    "a, b, c = map(int, input('Enter three random numbers: ').split())\n",
    "\n",
    "if a > b > c:\n",
    "    print(a, b, c)\n",
    "elif a > c > b:\n",
    "    print(a, c, b)\n",
    "elif b > a > c:\n",
    "    print(b, a, c)\n",
    "elif b > c > a:\n",
    "    print(b, c, a)\n",
    "elif c > b > a:\n",
    "    print(c, b, a)\n",
    "elif c > a > b:\n",
    "    print( c, a, b)\n",
    "else:\n",
    "    print('You entered something incorrectly')"
   ]
  },
  {
   "cell_type": "markdown",
   "id": "defe0e00-8fa6-4cf3-95e1-6bab7488372a",
   "metadata": {},
   "source": [
    "#### 4.3"
   ]
  },
  {
   "cell_type": "code",
   "execution_count": 20,
   "id": "5a4fdff3-1106-4282-9405-b120ac1f84ba",
   "metadata": {},
   "outputs": [
    {
     "name": "stdin",
     "output_type": "stream",
     "text": [
      "Enter your age:  3\n"
     ]
    },
    {
     "name": "stdout",
     "output_type": "stream",
     "text": [
      "You still a kid\n"
     ]
    }
   ],
   "source": [
    "age = int(input('Enter your age: '))\n",
    "\n",
    "if 0 <= age < 10:\n",
    "    print('You still a kid')\n",
    "elif 10 <= age < 20:\n",
    "    print('You are a Youth')\n",
    "else:\n",
    "    print('You are an Adult')"
   ]
  },
  {
   "cell_type": "markdown",
   "id": "a8d7c57d-ec9b-4a46-92cb-b4dc577ee05e",
   "metadata": {},
   "source": [
    "#### 4.4"
   ]
  },
  {
   "cell_type": "code",
   "execution_count": 24,
   "id": "48a44cb1-5899-4cc9-ae68-f2bb9c03ba30",
   "metadata": {},
   "outputs": [
    {
     "name": "stdin",
     "output_type": "stream",
     "text": [
      "Enter an integer:  15\n"
     ]
    },
    {
     "name": "stdout",
     "output_type": "stream",
     "text": [
      "15 is divisible by 3\n",
      "15 is not divisible by 2\n",
      "15 is not divisible by 2 and 3\n"
     ]
    }
   ],
   "source": [
    "number = int(input('Enter an integer: '))\n",
    "\n",
    "if number % 2 == 0:\n",
    "    print(number, 'is divisible by 2')\n",
    "if number % 3 == 0:\n",
    "    print(number, 'is divisible by 3')\n",
    "if number % 3 == 0 and number % 2 == 0:\n",
    "    print(number, 'is divisible by both 2 and 3')\n",
    "if number % 2 != 0:\n",
    "    print(number, 'is not divisible by 2')\n",
    "if number % 3 != 0:\n",
    "    print(number, 'is not divisible by 3')\n",
    "else:\n",
    "    print(number, 'is not divisible by 2 and 3')"
   ]
  },
  {
   "cell_type": "markdown",
   "id": "363bd62e-89d3-462b-943a-4abbe613f011",
   "metadata": {},
   "source": [
    "#### 4.5"
   ]
  },
  {
   "cell_type": "code",
   "execution_count": 45,
   "id": "5636a45d-e8eb-4fdd-83d7-e2441d8fc8ed",
   "metadata": {},
   "outputs": [
    {
     "name": "stdin",
     "output_type": "stream",
     "text": [
      "Guess the three lucky numbers:  3 5 8\n"
     ]
    },
    {
     "name": "stdout",
     "output_type": "stream",
     "text": [
      "you won 10 thousand\n",
      "lucky number:  8 9 0\n"
     ]
    }
   ],
   "source": [
    "import random\n",
    "\n",
    "a, b, c = map(int, input('Guess the three lucky numbers: ').split())\n",
    "lucky1 = random.randint(0, 9)\n",
    "lucky2 = random.randint(0, 9)\n",
    "lucky3 = random.randint(0, 9)\n",
    "\n",
    "if (a == lucky1 or a == lucky2 or a == lucky3) and (b == lucky1 or b == lucky2 or b == lucky3) and (c == lucky1 or c == lucky2 or c == lucky3):\n",
    "    print('You won 100 million')\n",
    "elif (a == lucky1 or a == lucky2 or a == lucky3) and (b == lucky1 or b == lucky2 or b == lucky3):\n",
    "    print('you won 10 million')\n",
    "elif (a == lucky1 or a == lucky2 or a == lucky3) and (c == lucky1 or c == lucky2 or c == lucky3):\n",
    "    print('you won 10 million')\n",
    "elif (b == lucky1 or b == lucky2 or b == lucky3) and (c == lucky1 or c == lucky2 or c == lucky3):\n",
    "    print('you won 10 million')\n",
    "elif (a == lucky1 or a == lucky2 or a == lucky3) or (b == lucky1 or b == lucky2 or b == lucky3) or (c == lucky1 or c == lucky2 or c == lucky3):\n",
    "    print('you won 10 thousand')\n",
    "else:\n",
    "    print('Try again')\n",
    "print('lucky number: ', lucky1, lucky2, lucky3)"
   ]
  },
  {
   "cell_type": "markdown",
   "id": "d535bf4f-8052-46bd-be6a-5a355185220d",
   "metadata": {},
   "source": [
    "#### 4.6"
   ]
  },
  {
   "cell_type": "code",
   "execution_count": 51,
   "id": "269d950d-328e-41e1-a47a-6caf6795819d",
   "metadata": {},
   "outputs": [
    {
     "name": "stdin",
     "output_type": "stream",
     "text": [
      "choose between alphabet b, c, p:  o\n"
     ]
    },
    {
     "name": "stdout",
     "output_type": "stream",
     "text": [
      "the alphabet you inputed has no menu !\n"
     ]
    }
   ],
   "source": [
    "menu_select = input('choose between alphabet b, c, p: ')\n",
    "\n",
    "if menu_select == 'b':\n",
    "    print('you selected hamburger')\n",
    "elif menu_select == 'c':\n",
    "    print('you selected chicken')\n",
    "elif menu_select == 'p':\n",
    "    print('you selected pizza')\n",
    "else:\n",
    "    print('the alphabet you inputed has no menu !')"
   ]
  },
  {
   "cell_type": "markdown",
   "id": "fb7a7183-f155-4ed9-8d3f-5140dfdaeeae",
   "metadata": {},
   "source": [
    "#### 4.7"
   ]
  },
  {
   "cell_type": "code",
   "execution_count": 56,
   "id": "d955ad9c-afb4-4040-8571-846aeca66611",
   "metadata": {},
   "outputs": [
    {
     "name": "stdin",
     "output_type": "stream",
     "text": [
      "70 + 84=  67\n"
     ]
    },
    {
     "name": "stdout",
     "output_type": "stream",
     "text": [
      "You missed it, the correct answer is 154\n"
     ]
    }
   ],
   "source": [
    "import random\n",
    "\n",
    "random_number_1 = random.randint(1, 100)\n",
    "random_number_2 = random.randint(1, 100)\n",
    "answer = random_number_1 + random_number_2\n",
    "user_answer = int(input(str(random_number_1) + ' + ' + str(random_number_2) + ' = '))\n",
    "if user_answer == answer:\n",
    "    print('You got it right!')\n",
    "else:\n",
    "    print('You missed it, the correct answer is', answer)"
   ]
  },
  {
   "cell_type": "markdown",
   "id": "307bcc3c-9f2c-4d2d-ad21-54f21c5a6c24",
   "metadata": {},
   "source": [
    "#### 4.8"
   ]
  },
  {
   "cell_type": "code",
   "execution_count": 60,
   "id": "6f1ca5f6-038b-4ae0-a36d-de747d15fe43",
   "metadata": {},
   "outputs": [
    {
     "name": "stdout",
     "output_type": "stream",
     "text": [
      "1 for addition, 2 for substraction, 3 for multiplication, 4 for division\n"
     ]
    },
    {
     "name": "stdin",
     "output_type": "stream",
     "text": [
      "Enter the mathematical operation number you would like to use:  4\n",
      "Enter the two digits number you want to work on:  3 4\n"
     ]
    },
    {
     "name": "stdout",
     "output_type": "stream",
     "text": [
      "3 / 4 = 0.75\n"
     ]
    }
   ],
   "source": [
    "print('1 for addition, 2 for substraction, 3 for multiplication, 4 for division')\n",
    "user_operation = input('Enter the mathematical operation number you would like to use: ')\n",
    "a, b = map(int, input('Enter the two digits number you want to work on: ').split())\n",
    "if user_operation == '1':\n",
    "    print(a, '+', b, '=', a + b)\n",
    "elif user_operation == '2':\n",
    "    print(a, '-', b, '=', a - b)\n",
    "elif user_operation == '3':\n",
    "    print(a, '*', b, '=', a * b)\n",
    "elif user_operation == '4':\n",
    "    print(a, '/', b, '=', a / b)\n",
    "else:\n",
    "    print('you typed a wrong number')"
   ]
  },
  {
   "cell_type": "markdown",
   "id": "276fc505-0870-41d1-a8d6-27b24eb9b12a",
   "metadata": {},
   "source": [
    "#### 4.9"
   ]
  },
  {
   "cell_type": "code",
   "execution_count": 3,
   "id": "2758811c-b3e3-4700-bcbf-3a5ac173b235",
   "metadata": {},
   "outputs": [],
   "source": [
    "import turtle\n",
    "\n",
    "# Function to draw a rectangle\n",
    "def draw_rectangle(x1, y1, x2, y2):\n",
    "    turtle.penup()\n",
    "    turtle.goto(x1, y1)\n",
    "    turtle.pendown()\n",
    "    turtle.goto(x2, y1)\n",
    "    turtle.goto(x2, y2)\n",
    "    turtle.goto(x1, y2)\n",
    "    turtle.goto(x1, y1)\n",
    "\n",
    "# Function to draw a point\n",
    "def draw_point(x, y):\n",
    "    turtle.penup()\n",
    "    turtle.goto(x, y)\n",
    "    turtle.dot(5)  # Draw the point as a circle\n",
    "\n",
    "# Input coordinates\n",
    "left_bottom_x, left_bottom_y = map(int, turtle.textinput(\"Input\", \"Left bottom corner coordinates x, y: \").split())\n",
    "right_top_x, right_top_y = map(int, turtle.textinput(\"Input\", \"Right top corner coordinates x, y: \").split())\n",
    "point_x, point_y = map(int, turtle.textinput(\"Input\", \"Point coordinates x, y: \").split())\n",
    "\n",
    "# Check if the coordinates make a valid rectangle\n",
    "if left_bottom_x >= right_top_x or left_bottom_y >= right_top_y:\n",
    "    print(\"Error: Invalid coordinates for the rectangle.\")\n",
    "    turtle.done()\n",
    "    exit()\n",
    "\n",
    "# Draw the rectangle\n",
    "draw_rectangle(left_bottom_x, left_bottom_y, right_top_x, right_top_y)\n",
    "\n",
    "# Draw the point\n",
    "draw_point(point_x, point_y)\n",
    "\n",
    "# Check if the point is inside the rectangle and display the result\n",
    "if left_bottom_x < point_x < right_top_x and left_bottom_y < point_y < right_top_y:\n",
    "    turtle.write('The point is inside the rectangle', align='center')\n",
    "else:\n",
    "    turtle.write('The point is outside the rectangle', align='center')\n",
    "\n",
    "# Keep the window open to see the drawing\n",
    "turtle.done()\n"
   ]
  },
  {
   "cell_type": "markdown",
   "id": "e2262eff-ea1f-407e-b81c-b83895218414",
   "metadata": {},
   "source": [
    "#### 5.1"
   ]
  },
  {
   "cell_type": "code",
   "execution_count": 4,
   "id": "c01c3b1b-5e66-4d41-b582-b23559f64756",
   "metadata": {},
   "outputs": [
    {
     "name": "stdout",
     "output_type": "stream",
     "text": [
      "1 3 5 7 9 11 13 15 17 19 21 23 25 27 29 31 33 35 37 39 41 43 45 47 49 51 53 55 57 59 61 63 65 67 69 71 73 75 77 79 81 83 85 87 89 91 93 95 97 99 "
     ]
    }
   ],
   "source": [
    "for odd in range(1, 101, 2):\n",
    "    print(odd, end = ' ')"
   ]
  },
  {
   "cell_type": "markdown",
   "id": "2952e555-cec9-40e2-ac96-b77e4a376271",
   "metadata": {},
   "source": [
    "#### 5.1_2"
   ]
  },
  {
   "cell_type": "code",
   "execution_count": 6,
   "id": "722b678f-7d2f-4f43-80aa-660dd8c05f11",
   "metadata": {},
   "outputs": [
    {
     "name": "stdout",
     "output_type": "stream",
     "text": [
      "1 3 5 7 9 11 13 15 17 19 21 23 25 27 29 31 33 35 37 39 41 43 45 47 49 51 53 55 57 59 61 63 65 67 69 71 73 75 77 79 81 83 85 87 89 91 93 95 97 99 "
     ]
    }
   ],
   "source": [
    "count = 1\n",
    "while count < 100:\n",
    "    print(count, end = ' ')\n",
    "    count += 2"
   ]
  },
  {
   "cell_type": "markdown",
   "id": "861aee22-79e4-4908-b1c2-47928a32fc08",
   "metadata": {},
   "source": [
    "#### 5.1_3"
   ]
  },
  {
   "cell_type": "code",
   "execution_count": 7,
   "id": "c897b21c-8f70-4c02-873a-5bc622509116",
   "metadata": {},
   "outputs": [
    {
     "name": "stdout",
     "output_type": "stream",
     "text": [
      "2 4 6 8 10 12 14 16 18 20 22 24 26 28 30 32 34 36 38 40 42 44 46 48 50 52 54 56 58 60 62 64 66 68 70 72 74 76 78 80 82 84 86 88 90 92 94 96 98 "
     ]
    }
   ],
   "source": [
    "for even in range(2, 100, 2):\n",
    "    print(even, end = ' ')"
   ]
  },
  {
   "cell_type": "markdown",
   "id": "4d0aa61c-765c-499e-a285-68164cf269c4",
   "metadata": {},
   "source": [
    "#### 5.1_4"
   ]
  },
  {
   "cell_type": "code",
   "execution_count": 9,
   "id": "1dd4b686-1dc6-453e-affb-efc9e57f21b0",
   "metadata": {},
   "outputs": [
    {
     "name": "stdout",
     "output_type": "stream",
     "text": [
      "2 4 6 8 10 12 14 16 18 20 22 24 26 28 30 32 34 36 38 40 42 44 46 48 50 52 54 56 58 60 62 64 66 68 70 72 74 76 78 80 82 84 86 88 90 92 94 96 98 100 "
     ]
    }
   ],
   "source": [
    "count = 2\n",
    "while count <= 100:\n",
    "    print(count, end = ' ')\n",
    "    count += 2"
   ]
  },
  {
   "cell_type": "markdown",
   "id": "d5a24956-8aa0-40de-b9df-e03ceceb7620",
   "metadata": {},
   "source": [
    "#### 5.2_1a"
   ]
  },
  {
   "cell_type": "code",
   "execution_count": 10,
   "id": "f4156eb6-9407-42c7-99ba-b18f6aa15e93",
   "metadata": {},
   "outputs": [
    {
     "name": "stdout",
     "output_type": "stream",
     "text": [
      "2500\n"
     ]
    }
   ],
   "source": [
    "sum = 0\n",
    "for num in range(1, 101, 2):\n",
    "    sum += num\n",
    "print(sum)"
   ]
  },
  {
   "cell_type": "markdown",
   "id": "d768b859-29aa-4120-8072-b78e48a526be",
   "metadata": {},
   "source": [
    "#### 5.2_1b"
   ]
  },
  {
   "cell_type": "code",
   "execution_count": 12,
   "id": "f6ad98e2-6f2b-494a-a898-beab640d7e4d",
   "metadata": {},
   "outputs": [
    {
     "name": "stdout",
     "output_type": "stream",
     "text": [
      "2500\n"
     ]
    }
   ],
   "source": [
    "sum = 0\n",
    "count = 1\n",
    "while count < 100:\n",
    "    sum += count \n",
    "    count += 2\n",
    "print(sum)"
   ]
  },
  {
   "cell_type": "markdown",
   "id": "69a610bd-52a1-4acb-9183-ef52813c61e9",
   "metadata": {},
   "source": [
    "#### 5.2_2a"
   ]
  },
  {
   "cell_type": "code",
   "execution_count": 13,
   "id": "aa6e7504-117d-48d8-9bd6-22ddfa79781b",
   "metadata": {},
   "outputs": [
    {
     "name": "stdout",
     "output_type": "stream",
     "text": [
      "2550\n"
     ]
    }
   ],
   "source": [
    "sum = 0\n",
    "for even in range(2, 101, 2):\n",
    "    sum += even\n",
    "print(sum)"
   ]
  },
  {
   "cell_type": "markdown",
   "id": "efbb9aa6-7b41-420e-a181-12505c897c87",
   "metadata": {},
   "source": [
    "#### 5.2_2b"
   ]
  },
  {
   "cell_type": "code",
   "execution_count": 20,
   "id": "86d87923-7719-447a-8d9e-a0a6132a7ed4",
   "metadata": {},
   "outputs": [
    {
     "name": "stdout",
     "output_type": "stream",
     "text": [
      "2550\n"
     ]
    }
   ],
   "source": [
    "sum = 0\n",
    "count = 2\n",
    "while count <= 100:\n",
    "    sum += count\n",
    "    count += 2\n",
    "print(sum)"
   ]
  },
  {
   "cell_type": "markdown",
   "id": "45c4c411-7fca-4096-8f5c-24b7b0da7e38",
   "metadata": {},
   "source": [
    "#### 5.2_3"
   ]
  },
  {
   "cell_type": "code",
   "execution_count": 21,
   "id": "c73d608d-05ab-4672-a801-e35e8ad92d93",
   "metadata": {},
   "outputs": [
    {
     "name": "stdin",
     "output_type": "stream",
     "text": [
      "enter your first number:  2\n",
      "enter your second number:  6\n"
     ]
    },
    {
     "name": "stdout",
     "output_type": "stream",
     "text": [
      "20\n"
     ]
    }
   ],
   "source": [
    "num1 = int(input('enter your first number: '))\n",
    "num2 = int(input('enter your second number: '))\n",
    "sum = 0\n",
    "for i in range(num1, num2+1):\n",
    "    sum += i\n",
    "print(sum)"
   ]
  },
  {
   "cell_type": "markdown",
   "id": "c264cbb4-d1e1-4388-9f92-37414fc2c1bb",
   "metadata": {},
   "source": [
    "#### 5.3"
   ]
  },
  {
   "cell_type": "code",
   "execution_count": null,
   "id": "1b712eb0-373b-41f1-a125-3bd08b65cb57",
   "metadata": {},
   "outputs": [],
   "source": [
    "print('맛나 식당에 오신 것을 환영합니다. 메뉴는 다음과 같습니다.')\n",
    "print(\"1) 햄버거 n/\", \"2) 치킨 n/\", \"3) 피자 n/\")\n",
    "user_menu = int(input('select a number from 1 to 3: '))\n",
    "\n",
    "if user_menu == 1:\n",
    "    print('hamburger')\n",
    "elif user_menu == 2:\n",
    "    print('chicken')\n",
    "elif user_menu == 3:\n",
    "    print('pizza')\n",
    "else:\n",
    "    while (user_menu != 1) or (user_menu != 2) or (user_menu != 3):\n",
    "        print('Select a different menu')\n",
    "        break"
   ]
  },
  {
   "cell_type": "markdown",
   "id": "1073a53c-6b09-4699-aa8d-8fda13af3132",
   "metadata": {},
   "source": [
    "5.4"
   ]
  },
  {
   "cell_type": "code",
   "execution_count": 9,
   "id": "a149f54a-f876-43b2-8e5b-3102d04ada7f",
   "metadata": {},
   "outputs": [
    {
     "name": "stdin",
     "output_type": "stream",
     "text": [
      "enter a number:  5\n"
     ]
    },
    {
     "name": "stdout",
     "output_type": "stream",
     "text": [
      "*\n",
      "**\n",
      "***\n",
      "****\n",
      "*****\n"
     ]
    }
   ],
   "source": [
    "user_num = int(input('enter a number: '))\n",
    "\n",
    "for i in range(1, user_num + 1):\n",
    "    print('*' * i)"
   ]
  },
  {
   "cell_type": "markdown",
   "id": "50cbf1ad-cb9b-444e-b8bb-5d1927229ba4",
   "metadata": {},
   "source": [
    "5.5"
   ]
  },
  {
   "cell_type": "code",
   "execution_count": 31,
   "id": "1fd67178-cade-4a33-869e-211c88bc1c83",
   "metadata": {},
   "outputs": [
    {
     "name": "stdout",
     "output_type": "stream",
     "text": [
      "day : 1 position : 7\n",
      "day : 2 position : 9\n",
      "day : 3 position : 11\n",
      "day : 4 position : 13\n",
      "day : 5 position : 15\n",
      "day : 6 position : 17\n",
      "day : 7 position : 19\n",
      "day : 8 position : 21\n",
      "day : 9 position : 23\n",
      "day : 10 position : 25\n",
      "day : 11 position : 27\n",
      "day : 12 position : 29\n",
      "day : 13 position : 31\n"
     ]
    }
   ],
   "source": [
    "climb = 7\n",
    "fall = 5\n",
    "day_steps = 0\n",
    "days = 0\n",
    "\n",
    "while climb < 30:\n",
    "    climb += day_steps\n",
    "    days += 1\n",
    "    print('day : {0} position : {1}'.format(days, climb))\n",
    "    day_steps = 2"
   ]
  },
  {
   "cell_type": "markdown",
   "id": "689131ca-7d1b-41fa-84c2-33c014e11fa6",
   "metadata": {},
   "source": [
    "5.6 "
   ]
  },
  {
   "cell_type": "code",
   "execution_count": 27,
   "id": "4c542e0a-61e3-41a9-a758-4c2815c2439d",
   "metadata": {},
   "outputs": [
    {
     "name": "stdin",
     "output_type": "stream",
     "text": [
      "Please enter fuel charged or used with +/- signs:  +60\n"
     ]
    },
    {
     "name": "stdout",
     "output_type": "stream",
     "text": [
      "Current tank volume is:  560\n"
     ]
    },
    {
     "name": "stdin",
     "output_type": "stream",
     "text": [
      "Please enter fuel charged or used with +/- signs:  -300\n"
     ]
    },
    {
     "name": "stdout",
     "output_type": "stream",
     "text": [
      "Current tank volume is:  260\n"
     ]
    },
    {
     "name": "stdin",
     "output_type": "stream",
     "text": [
      "Please enter fuel charged or used with +/- signs:  -220\n"
     ]
    },
    {
     "name": "stdout",
     "output_type": "stream",
     "text": [
      "Current tank volume is:  40\n",
      "Warning!!!, your tank volume has gone below 10%\n"
     ]
    }
   ],
   "source": [
    "fuel_amount = 500\n",
    "\n",
    "while initial_fuel_amount > 50:\n",
    "    user_input = int(input('Please enter fuel charged or used with +/- signs: '))\n",
    "    initial_fuel_amount += user_input\n",
    "    print('Current tank volume is: ', initial_fuel_amount)\n",
    "print('Warning!!!, your tank volume has gone below 10%')"
   ]
  },
  {
   "cell_type": "markdown",
   "id": "2d913905-6fa7-4b0e-8f22-65249751e0e8",
   "metadata": {},
   "source": [
    "5.7"
   ]
  },
  {
   "cell_type": "code",
   "execution_count": 32,
   "id": "a1ef54e6-9a50-4c6b-af45-1f730c0b1e40",
   "metadata": {},
   "outputs": [
    {
     "name": "stdout",
     "output_type": "stream",
     "text": [
      "Armstrong number in three digits: 153 370 371 407\n"
     ]
    }
   ],
   "source": [
    "def find_armstrong_numbers():\n",
    "    armstrong_numbers = []\n",
    "    for number in range(100, 1000):\n",
    "        x = number // 100         # Extract the hundreds digit\n",
    "        y = (number // 10) % 10   # Extract the tens digit\n",
    "        z = number % 10           # Extract the units digit\n",
    "        \n",
    "        # Calculate the sum of cubes of the digits\n",
    "        if number == x**3 + y**3 + z**3:\n",
    "            armstrong_numbers.append(number)\n",
    "    \n",
    "    return armstrong_numbers\n",
    "\n",
    "# Find and print all three-digit Armstrong numbers\n",
    "armstrong_numbers = find_armstrong_numbers()\n",
    "print(\"Armstrong number in three digits:\", ' '.join(map(str, armstrong_numbers)))\n"
   ]
  },
  {
   "cell_type": "markdown",
   "id": "cc021e52-792b-49d3-91d7-8eed381e4033",
   "metadata": {},
   "source": [
    "5.8"
   ]
  },
  {
   "cell_type": "code",
   "execution_count": 50,
   "id": "c19c740d-6f0e-48c4-b69e-b1a1cf48312c",
   "metadata": {},
   "outputs": [
    {
     "name": "stdin",
     "output_type": "stream",
     "text": [
      "enter an integer:  3443\n"
     ]
    },
    {
     "name": "stdout",
     "output_type": "stream",
     "text": [
      "3443 is an inverted integer\n"
     ]
    },
    {
     "name": "stdin",
     "output_type": "stream",
     "text": [
      "enter an integer:  324\n"
     ]
    },
    {
     "name": "stdout",
     "output_type": "stream",
     "text": [
      "324 is not an inverted integer\n"
     ]
    },
    {
     "name": "stdin",
     "output_type": "stream",
     "text": [
      "enter an integer:  -99\n"
     ]
    },
    {
     "name": "stdout",
     "output_type": "stream",
     "text": [
      "This program has just being terminated\n"
     ]
    }
   ],
   "source": [
    "while True:\n",
    "    num = input('enter an integer: ')\n",
    "    num_list = list(num)\n",
    "    if num_list[::] == num_list[::-1]:\n",
    "        print('{} is an inverted integer'.format(num))\n",
    "    if num_list[::] != num_list[::-1] and num != '-99':\n",
    "        print('{} is not an inverted integer'.format(num))\n",
    "    if num == '-99':\n",
    "        print('This program has just being terminated')\n",
    "        break\n",
    "       "
   ]
  },
  {
   "cell_type": "markdown",
   "id": "050c6720-e2d9-4bb1-b6c1-47968b257b80",
   "metadata": {},
   "source": [
    "5.9"
   ]
  },
  {
   "cell_type": "code",
   "execution_count": 25,
   "id": "c78a9863-00c2-44c6-afe2-e204c5b90d4f",
   "metadata": {},
   "outputs": [
    {
     "name": "stdin",
     "output_type": "stream",
     "text": [
      "enter a postitive integer:  34\n",
      "enter a postitive integer:  920\n",
      "enter a postitive integer:  320\n",
      "enter a postitive integer:  30\n",
      "enter a postitive integer:  -99\n"
     ]
    },
    {
     "name": "stdout",
     "output_type": "stream",
     "text": [
      "highest 34\n",
      "highest 920\n",
      "highest 920\n",
      "highest 920\n",
      "lowest 34\n",
      "lowest 34\n",
      "lowest 34\n",
      "lowest 30\n",
      "among this 4 numbers typed by you, 920 was the heighest and 30 was the lowest.\n"
     ]
    }
   ],
   "source": [
    "num_list = []\n",
    "highest = 0\n",
    "lowest = 0\n",
    "counter = 0\n",
    "while True:\n",
    "    num = int(input('enter a postitive integer: '))\n",
    "    if num == -99: \n",
    "        break\n",
    "    num_list.append(num)\n",
    "    counter += 1\n",
    "for i in num_list:\n",
    "    if highest > i:\n",
    "        print('highest', highest)\n",
    "    else:\n",
    "        highest = i\n",
    "        print('highest', highest)\n",
    "for l in num_list:\n",
    "    if num_list[0] > l:\n",
    "        lowest = l\n",
    "        print('lowest',lowest)\n",
    "    else:\n",
    "        lowest = num_list[0]\n",
    "        print('lowest',lowest)\n",
    "    \n",
    "    \n",
    "print('among this {0} numbers typed by you, {1} was the heighest and {2} was the lowest.'.format(counter, highest, lowest))           "
   ]
  },
  {
   "cell_type": "markdown",
   "id": "1492a385-cb5f-4553-b838-911645b664f8",
   "metadata": {},
   "source": [
    "5.10_for"
   ]
  },
  {
   "cell_type": "code",
   "execution_count": 1,
   "id": "f6ae3895-981e-4fa1-a671-ef3717c7d5e0",
   "metadata": {},
   "outputs": [],
   "source": [
    "import turtle\n",
    "import random\n",
    "\n",
    "t = turtle.Turtle()\n",
    "t.shape('turtle')\n",
    "\n",
    "for i in range(30):\n",
    "    random_num = random.randrange(2)\n",
    "    if random_num == 0:\n",
    "        t.left(90)\n",
    "        t.forward(50)\n",
    "    if random_num == 1:\n",
    "        t.right(90)\n",
    "        t.forward(50)"
   ]
  },
  {
   "cell_type": "markdown",
   "id": "d874cc5f-aad9-4270-9a97-2b2af4dded1e",
   "metadata": {},
   "source": [
    "5.10_while"
   ]
  },
  {
   "cell_type": "code",
   "execution_count": 1,
   "id": "1561f489-a482-4563-bf9b-867e449f06f8",
   "metadata": {},
   "outputs": [],
   "source": [
    "import turtle\n",
    "import random\n",
    "\n",
    "t = turtle.Turtle()\n",
    "t.shape('turtle')\n",
    "\n",
    "i = 0\n",
    "\n",
    "while i < 30:\n",
    "    random_num = random.randrange(2)\n",
    "    if random.randrange(2) == 0:\n",
    "        t.left(90)\n",
    "    else:\n",
    "        t.right(90)\n",
    "    t.forward(50)\n",
    "    i +=1"
   ]
  },
  {
   "cell_type": "markdown",
   "id": "823addee-c71d-4f95-8b7d-dfcf27cbd769",
   "metadata": {},
   "source": [
    "6.1"
   ]
  },
  {
   "cell_type": "code",
   "execution_count": 3,
   "id": "8863bd58-1c33-41a9-8675-15dbc29f4fb5",
   "metadata": {},
   "outputs": [
    {
     "name": "stdout",
     "output_type": "stream",
     "text": [
      "3의 제곱은 :  9\n",
      "4의 제곱은 :  16\n"
     ]
    }
   ],
   "source": [
    "def square(n):\n",
    "    return n**2\n",
    "\n",
    "print('3의 제곱은 : ', square(3))\n",
    "print('4의 제곱은 : ', square(4))"
   ]
  },
  {
   "cell_type": "markdown",
   "id": "81ca0b45-d3d1-43e5-9773-7e68445b7be2",
   "metadata": {},
   "source": [
    "6.2"
   ]
  },
  {
   "cell_type": "code",
   "execution_count": 5,
   "id": "27515bde-5884-45f0-baa6-ee0d8896640a",
   "metadata": {},
   "outputs": [
    {
     "name": "stdout",
     "output_type": "stream",
     "text": [
      "100과 200중 큰 수는 : 200\n",
      "100과 200중 작은 수는 : 100\n"
     ]
    }
   ],
   "source": [
    "def max2(m, n):\n",
    "    if m > n:\n",
    "        return m\n",
    "    else:\n",
    "        return n\n",
    "\n",
    "def min2(m, n):\n",
    "    if m < n:\n",
    "        return m\n",
    "    else:\n",
    "        return n\n",
    "\n",
    "print('100과 200중 큰 수는 :', max2(100, 200))\n",
    "print('100과 200중 작은 수는 :', min2(100, 200))"
   ]
  },
  {
   "cell_type": "markdown",
   "id": "737e92bf-8837-4ac0-9292-a4cf91950d6c",
   "metadata": {},
   "source": [
    "6.3"
   ]
  },
  {
   "cell_type": "code",
   "execution_count": 7,
   "id": "c975af9a-aa15-4917-96e8-4397fb7bbe7d",
   "metadata": {},
   "outputs": [
    {
     "name": "stdin",
     "output_type": "stream",
     "text": [
      "enter 3 numbers:  34 66 20\n"
     ]
    },
    {
     "name": "stdout",
     "output_type": "stream",
     "text": [
      "the biggest number among the inputed 3 numbers is:  66\n",
      "the smallest number among the inputed 3 numbers is:  20\n"
     ]
    }
   ],
   "source": [
    "def max3(m, n, p):\n",
    "    if m > n and m > p:\n",
    "        return m\n",
    "    if n > p and n > p:\n",
    "        return n\n",
    "    if p > n and p > m:\n",
    "        return p\n",
    "\n",
    "def min3(m, n, p):\n",
    "    if m < n and m < p:\n",
    "        return m\n",
    "    if n < p and n < p:\n",
    "        return n\n",
    "    if p < n and p < m:\n",
    "        return p\n",
    "\n",
    "a, b, c = map(int, input('enter 3 numbers: ').split())\n",
    "print('the biggest number among the inputed 3 numbers is: ', max3(a, b, c))\n",
    "print('the smallest number among the inputed 3 numbers is: ', min3(a, b, c))"
   ]
  },
  {
   "cell_type": "markdown",
   "id": "b73b8852-3202-4db2-afc2-97444b60a2b1",
   "metadata": {},
   "source": [
    "6.4"
   ]
  },
  {
   "cell_type": "code",
   "execution_count": 15,
   "id": "df8c8929-12c3-417b-b095-734908a114fd",
   "metadata": {},
   "outputs": [
    {
     "name": "stdin",
     "output_type": "stream",
     "text": [
      "Enter 3 numbers:  34 66 20\n"
     ]
    },
    {
     "name": "stdout",
     "output_type": "stream",
     "text": [
      "The biggest number is: 66\n",
      "The smallest number is: 20\n"
     ]
    }
   ],
   "source": [
    "def max_and_min(n1, n2, n3):\n",
    "    max_value = max(n1, n2, n3)\n",
    "    min_value = min(n1, n2, n3)\n",
    "    return max_value, min_value\n",
    "\n",
    "# Input from the user\n",
    "a, b, c = map(int, input('Enter 3 numbers: ').split())\n",
    "\n",
    "# Get the maximum and minimum values\n",
    "max_value, min_value = max_and_min(a, b, c)\n",
    "\n",
    "# Print the results\n",
    "print('The biggest number is:', max_value)\n",
    "print('The smallest number is:', min_value)\n"
   ]
  },
  {
   "cell_type": "markdown",
   "id": "0803cb84-481f-4523-883a-dd88bba7221d",
   "metadata": {},
   "source": [
    "6.5"
   ]
  },
  {
   "cell_type": "code",
   "execution_count": 16,
   "id": "dc6552cc-4582-4df5-bc3f-26040a8f0049",
   "metadata": {},
   "outputs": [
    {
     "name": "stdout",
     "output_type": "stream",
     "text": [
      "Celcius temperature: 0, corresponding Farenheit temperature: 32.0.\n",
      "Celcius temperature: 10, corresponding Farenheit temperature: 50.0.\n",
      "Celcius temperature: 20, corresponding Farenheit temperature: 68.0.\n",
      "Celcius temperature: 30, corresponding Farenheit temperature: 86.0.\n",
      "Celcius temperature: 40, corresponding Farenheit temperature: 104.0.\n"
     ]
    }
   ],
   "source": [
    "def cel2fah(celsius):\n",
    "    fahrenheit = (9/5) * celsius + 32\n",
    "    return fahrenheit\n",
    "\n",
    "for i in range(0, 50, 10):\n",
    "    fahrenheit = cel2fah(i)\n",
    "    print('Celcius temperature: {0}, corresponding Farenheit temperature: {1}.'.format(i, fahrenheit))\n"
   ]
  },
  {
   "cell_type": "markdown",
   "id": "1267e265-6887-4dc6-bbd7-3d006ffd7eb6",
   "metadata": {},
   "source": [
    "6.6"
   ]
  },
  {
   "cell_type": "code",
   "execution_count": 30,
   "id": "b6e9ded9-ce09-4217-9a80-4201a2bb90f9",
   "metadata": {},
   "outputs": [
    {
     "name": "stdin",
     "output_type": "stream",
     "text": [
      "enter a number:  13\n"
     ]
    },
    {
     "name": "stdout",
     "output_type": "stream",
     "text": [
      "is it a prime number?  True\n"
     ]
    }
   ],
   "source": [
    "def is_prime(n):\n",
    "    if n <= 1:\n",
    "        return False\n",
    "    for i in range(2, n-1):\n",
    "        if n % i == 0:\n",
    "            return False\n",
    "    return True\n",
    "user_num = int(input('enter a number: '))\n",
    "print('is it a prime number? ', is_prime(user_num))"
   ]
  },
  {
   "cell_type": "markdown",
   "id": "2ed74b6a-be88-47fe-8a41-362bba2db6f1",
   "metadata": {},
   "source": [
    "6.7"
   ]
  },
  {
   "cell_type": "code",
   "execution_count": 41,
   "id": "38ef8a4f-cb5b-4ebb-9632-a54beccc85d3",
   "metadata": {},
   "outputs": [
    {
     "name": "stdout",
     "output_type": "stream",
     "text": [
      "5040\n"
     ]
    }
   ],
   "source": [
    "def factorial(n):\n",
    "    m = 1\n",
    "    for i in range(n, 1, -1):\n",
    "        m = m * i\n",
    "    print(m)\n",
    "\n",
    "factorial(7)"
   ]
  },
  {
   "cell_type": "markdown",
   "id": "787eb16d-640e-4599-9660-31e7ff9d9b22",
   "metadata": {},
   "source": [
    "6.8"
   ]
  },
  {
   "cell_type": "code",
   "execution_count": 46,
   "id": "5185939f-1567-4e34-8fb9-c1ef2f0975b3",
   "metadata": {},
   "outputs": [
    {
     "name": "stdin",
     "output_type": "stream",
     "text": [
      "enter the values of each respectively:  4 2 2 1\n"
     ]
    },
    {
     "name": "stdout",
     "output_type": "stream",
     "text": [
      "(4,2)과 (2,1) 사이의 거리는 2.23606797749979.\n"
     ]
    }
   ],
   "source": [
    "def distance(x1, y1, x2, y2):\n",
    "    distance = (((x2-x1)**2) + ((y2-y1)**2))**0.5\n",
    "    return distance\n",
    "\n",
    "x1, y1, x2, y2 = map(int, input('enter the values of each respectively: ').split())\n",
    "print('({},{})과 ({},{}) 사이의 거리는 {}.'.format(x1, x2, y1, y2, distance(x1, y1, x2, y2)))"
   ]
  },
  {
   "cell_type": "markdown",
   "id": "0e9da7f1-56a4-45d4-a055-049d7a859156",
   "metadata": {},
   "source": [
    "## chapter 7"
   ]
  },
  {
   "cell_type": "markdown",
   "id": "4792fd4b-36fd-4b61-a298-5e3f121d4b41",
   "metadata": {},
   "source": [
    "7.1"
   ]
  },
  {
   "cell_type": "markdown",
   "id": "f4ce80d1-3c07-475d-881d-a63b687c665f",
   "metadata": {},
   "source": [
    "#### num_list = [100, 200, 300, 400, 500, 600, 700, 800]\n",
    "high = 6\n",
    "low = 3"
   ]
  },
  {
   "cell_type": "code",
   "execution_count": 2,
   "id": "dcc6e44e-b2a8-4550-830c-6de6d2fccd96",
   "metadata": {},
   "outputs": [
    {
     "data": {
      "text/plain": [
       "700"
      ]
     },
     "execution_count": 2,
     "metadata": {},
     "output_type": "execute_result"
    }
   ],
   "source": [
    "num_list[high]"
   ]
  },
  {
   "cell_type": "code",
   "execution_count": 3,
   "id": "d4fff5e9-4e46-4508-9c96-cb730f7a36a6",
   "metadata": {},
   "outputs": [
    {
     "data": {
      "text/plain": [
       "500"
      ]
     },
     "execution_count": 3,
     "metadata": {},
     "output_type": "execute_result"
    }
   ],
   "source": [
    "num_list[high - 2]"
   ]
  },
  {
   "cell_type": "code",
   "execution_count": 4,
   "id": "e3aa7913-2767-404c-ab41-18277556c7dd",
   "metadata": {},
   "outputs": [
    {
     "data": {
      "text/plain": [
       "400"
      ]
     },
     "execution_count": 4,
     "metadata": {},
     "output_type": "execute_result"
    }
   ],
   "source": [
    "num_list[high - low]"
   ]
  },
  {
   "cell_type": "code",
   "execution_count": 5,
   "id": "f301f873-9bf1-493a-845d-889b997dc0ad",
   "metadata": {},
   "outputs": [
    {
     "data": {
      "text/plain": [
       "600"
      ]
     },
     "execution_count": 5,
     "metadata": {},
     "output_type": "execute_result"
    }
   ],
   "source": [
    "num_list[low - high]"
   ]
  },
  {
   "cell_type": "code",
   "execution_count": 6,
   "id": "af17fa92-2695-4687-b70a-6d8b59bdfbba",
   "metadata": {},
   "outputs": [
    {
     "data": {
      "text/plain": [
       "800"
      ]
     },
     "execution_count": 6,
     "metadata": {},
     "output_type": "execute_result"
    }
   ],
   "source": [
    "num_list[-1]"
   ]
  },
  {
   "cell_type": "code",
   "execution_count": 7,
   "id": "e84b5973-7557-4400-8499-0d026d2f6c0d",
   "metadata": {},
   "outputs": [
    {
     "data": {
      "text/plain": [
       "600"
      ]
     },
     "execution_count": 7,
     "metadata": {},
     "output_type": "execute_result"
    }
   ],
   "source": [
    "num_list[-low]"
   ]
  },
  {
   "cell_type": "code",
   "execution_count": 8,
   "id": "71644bac-2d13-47d5-b880-06760178eed3",
   "metadata": {},
   "outputs": [
    {
     "data": {
      "text/plain": [
       "700"
      ]
     },
     "execution_count": 8,
     "metadata": {},
     "output_type": "execute_result"
    }
   ],
   "source": [
    "num_list[2 * 3]"
   ]
  },
  {
   "cell_type": "code",
   "execution_count": 9,
   "id": "d5c24f01-247f-486f-aa2a-bef198cc2136",
   "metadata": {},
   "outputs": [
    {
     "data": {
      "text/plain": [
       "900"
      ]
     },
     "execution_count": 9,
     "metadata": {},
     "output_type": "execute_result"
    }
   ],
   "source": [
    "num_list[2] * 3"
   ]
  },
  {
   "cell_type": "code",
   "execution_count": 10,
   "id": "b8635f7e-7fb8-4b86-b32f-6bfdf72d459e",
   "metadata": {},
   "outputs": [
    {
     "data": {
      "text/plain": [
       "200"
      ]
     },
     "execution_count": 10,
     "metadata": {},
     "output_type": "execute_result"
    }
   ],
   "source": [
    "num_list[5 % 4]"
   ]
  },
  {
   "cell_type": "code",
   "execution_count": 11,
   "id": "f64f457e-9d39-483f-b47e-bec22143ec81",
   "metadata": {},
   "outputs": [
    {
     "data": {
      "text/plain": [
       "8"
      ]
     },
     "execution_count": 11,
     "metadata": {},
     "output_type": "execute_result"
    }
   ],
   "source": [
    "len(num_list)"
   ]
  },
  {
   "cell_type": "code",
   "execution_count": 12,
   "id": "cc7a7f3c-3b6a-4fe0-b652-619860db6cb0",
   "metadata": {},
   "outputs": [
    {
     "data": {
      "text/plain": [
       "100"
      ]
     },
     "execution_count": 12,
     "metadata": {},
     "output_type": "execute_result"
    }
   ],
   "source": [
    "min(num_list)"
   ]
  },
  {
   "cell_type": "code",
   "execution_count": 13,
   "id": "7bf397f9-bb18-4ac1-8010-4f992b6d14e1",
   "metadata": {},
   "outputs": [
    {
     "data": {
      "text/plain": [
       "800"
      ]
     },
     "execution_count": 13,
     "metadata": {},
     "output_type": "execute_result"
    }
   ],
   "source": [
    "max(num_list)"
   ]
  },
  {
   "cell_type": "code",
   "execution_count": 14,
   "id": "5257f1e0-60a7-440d-bc09-1d86d8e53c7d",
   "metadata": {},
   "outputs": [
    {
     "data": {
      "text/plain": [
       "[100, 200, 300]"
      ]
     },
     "execution_count": 14,
     "metadata": {},
     "output_type": "execute_result"
    }
   ],
   "source": [
    "num_list[:3]"
   ]
  },
  {
   "cell_type": "code",
   "execution_count": 15,
   "id": "cf609e92-096b-4d0f-a00d-8ba4484d3bbd",
   "metadata": {},
   "outputs": [
    {
     "data": {
      "text/plain": [
       "[200, 300, 400, 500]"
      ]
     },
     "execution_count": 15,
     "metadata": {},
     "output_type": "execute_result"
    }
   ],
   "source": [
    "num_list[1:5]"
   ]
  },
  {
   "cell_type": "code",
   "execution_count": 16,
   "id": "d09fb880-fb6e-40ae-ba06-641dafd6d12c",
   "metadata": {},
   "outputs": [
    {
     "data": {
      "text/plain": [
       "[800, 700, 600, 500]"
      ]
     },
     "execution_count": 16,
     "metadata": {},
     "output_type": "execute_result"
    }
   ],
   "source": [
    "num_list[-1:-5:-1]"
   ]
  },
  {
   "cell_type": "code",
   "execution_count": 17,
   "id": "288a850b-4b8c-4743-b614-b2619de69d0a",
   "metadata": {},
   "outputs": [
    {
     "data": {
      "text/plain": [
       "[400, 500, 600, 700]"
      ]
     },
     "execution_count": 17,
     "metadata": {},
     "output_type": "execute_result"
    }
   ],
   "source": [
    "num_list[-5:-1:1]"
   ]
  },
  {
   "cell_type": "markdown",
   "id": "2174b2f1-d454-40c4-a89c-93a030a29eb5",
   "metadata": {},
   "source": [
    "7.2"
   ]
  },
  {
   "cell_type": "code",
   "execution_count": 26,
   "id": "c67efaa9-8049-40ad-805a-39a6fc9673a0",
   "metadata": {},
   "outputs": [
    {
     "name": "stdout",
     "output_type": "stream",
     "text": [
      "3 * 2 = 6\n",
      "3 * 3 = 9\n",
      "3 * 4 = 12\n",
      "3 * 5 = 15\n",
      "3 * 6 = 18\n",
      "5 * 2 = 10\n",
      "5 * 3 = 15\n",
      "5 * 4 = 20\n",
      "5 * 5 = 25\n",
      "5 * 6 = 30\n",
      "7 * 2 = 14\n",
      "7 * 3 = 21\n",
      "7 * 4 = 28\n",
      "7 * 5 = 35\n",
      "7 * 6 = 42\n"
     ]
    }
   ],
   "source": [
    "list1 = [3, 5, 7]\n",
    "list2 = [2, 3, 4, 5, 6]\n",
    "\n",
    "for i in list1:\n",
    "    for a in list2:\n",
    "        print(i, '*', a, '=', i * a)"
   ]
  },
  {
   "cell_type": "markdown",
   "id": "8099d023-3830-4543-963a-dcc67e0f5606",
   "metadata": {},
   "source": [
    "7.3"
   ]
  },
  {
   "cell_type": "code",
   "execution_count": 2,
   "id": "59835048-1afa-4571-8f6c-d7d5c85e1ee8",
   "metadata": {},
   "outputs": [
    {
     "name": "stdout",
     "output_type": "stream",
     "text": [
      "I like pancakes.\n",
      "I like kiwi juice.\n",
      "I like espresso.\n",
      "I love pancakes.\n",
      "I love kiwi juice.\n",
      "I love espresso.\n"
     ]
    }
   ],
   "source": [
    "list1 = ['I like', 'I love']\n",
    "list2 = ['pancakes.', 'kiwi juice.', 'espresso.']\n",
    "\n",
    "for i in list1:\n",
    "    for a in list2:\n",
    "        print(i, a)"
   ]
  },
  {
   "cell_type": "markdown",
   "id": "85576a4d-5d16-445d-ad0b-cbc8873eedec",
   "metadata": {},
   "source": [
    "7.4"
   ]
  },
  {
   "cell_type": "code",
   "execution_count": 50,
   "id": "c44ada88-d51a-4f15-a44c-82f07b1f665e",
   "metadata": {},
   "outputs": [
    {
     "data": {
      "text/plain": [
       "[10, 20, 30, 40, 50]"
      ]
     },
     "execution_count": 50,
     "metadata": {},
     "output_type": "execute_result"
    }
   ],
   "source": [
    "t = [10, 20, 30, 40]\n",
    "t.append(50)\n",
    "t"
   ]
  },
  {
   "cell_type": "code",
   "execution_count": 51,
   "id": "c9a6269b-cfaf-48d2-b7ed-90fc38b484a6",
   "metadata": {},
   "outputs": [
    {
     "data": {
      "text/plain": [
       "[10, 20, 30, 40]"
      ]
     },
     "execution_count": 51,
     "metadata": {},
     "output_type": "execute_result"
    }
   ],
   "source": [
    "t.remove(50)\n",
    "t"
   ]
  },
  {
   "cell_type": "code",
   "execution_count": 55,
   "id": "df94435e-7542-4355-9e3d-83f4f3debd14",
   "metadata": {},
   "outputs": [
    {
     "data": {
      "text/plain": [
       "['A1', 'B1', 'C1', 'A2', 'B2', 'C2']"
      ]
     },
     "execution_count": 55,
     "metadata": {},
     "output_type": "execute_result"
    }
   ],
   "source": [
    "num = [1, 2]\n",
    "alph = ['A', 'B', 'C']\n",
    "num_alph = []\n",
    "for i in num:\n",
    "    for m in alph:\n",
    "        a = m + str(i)\n",
    "        num_alph.append(a)\n",
    "\n",
    "num_alph"
   ]
  },
  {
   "cell_type": "code",
   "execution_count": 71,
   "id": "20be676a-aa81-4686-8c39-be9ed964ce73",
   "metadata": {},
   "outputs": [
    {
     "name": "stdout",
     "output_type": "stream",
     "text": [
      "16160\n"
     ]
    }
   ],
   "source": [
    "population = ['Seoul', 9765, 'Busan', 3441, 'Incheon', 2954]\n",
    "\n",
    "pops = population[1::2]\n",
    "print(sum(pops))"
   ]
  },
  {
   "cell_type": "code",
   "execution_count": 3,
   "id": "101c1311-c2b9-4ee6-b084-1e04617571f8",
   "metadata": {},
   "outputs": [
    {
     "name": "stdin",
     "output_type": "stream",
     "text": [
      "input an alphabet:  python\n"
     ]
    },
    {
     "ename": "TypeError",
     "evalue": "'int' object is not callable",
     "output_type": "error",
     "traceback": [
      "\u001b[1;31m---------------------------------------------------------------------------\u001b[0m",
      "\u001b[1;31mTypeError\u001b[0m                                 Traceback (most recent call last)",
      "Cell \u001b[1;32mIn[3], line 6\u001b[0m\n\u001b[0;32m      3\u001b[0m length \u001b[38;5;241m=\u001b[39m \u001b[38;5;28mlen\u001b[39m(word)\n\u001b[0;32m      4\u001b[0m total_length \u001b[38;5;241m=\u001b[39m length \u001b[38;5;241m*\u001b[39m \u001b[38;5;241m2\u001b[39m\n\u001b[1;32m----> 6\u001b[0m \u001b[38;5;28;01mfor\u001b[39;00m i \u001b[38;5;129;01min\u001b[39;00m \u001b[38;5;28mrange\u001b[39m(length):\n\u001b[0;32m      7\u001b[0m     \u001b[38;5;28;01mfor\u001b[39;00m m \u001b[38;5;129;01min\u001b[39;00m \u001b[38;5;28mrange\u001b[39m(total_length):\n\u001b[0;32m      8\u001b[0m         \u001b[38;5;28;01mif\u001b[39;00m m \u001b[38;5;241m!=\u001b[39m total_length \u001b[38;5;241m-\u001b[39m \u001b[38;5;241m1\u001b[39m:\n",
      "\u001b[1;31mTypeError\u001b[0m: 'int' object is not callable"
     ]
    }
   ],
   "source": [
    "word = input('input an alphabet: ')\n",
    "word = list(word)\n",
    "length = len(word)\n",
    "total_length = length * 2\n",
    "\n",
    "for i in range(length):\n",
    "    for m in range(total_length):\n",
    "        if m != total_length - 1:\n",
    "            a = word[i:m]\n",
    "            a = ''.join(a)\n",
    "            print(a)\n",
    "        else:\n",
    "            b = word[m:i]\n",
    "            b = ''.join(b)\n",
    "            print(b)"
   ]
  },
  {
   "cell_type": "code",
   "execution_count": 43,
   "id": "f2de9177-a6af-471f-9120-4bd6af3222f7",
   "metadata": {},
   "outputs": [
    {
     "name": "stdout",
     "output_type": "stream",
     "text": [
      "[2, 3, 5, 7, 11, 13, 17, 19, 23, 29, 31, 37, 41, 43, 47, 53, 59, 61, 67, 71, 73, 79, 83, 89, 97]"
     ]
    }
   ],
   "source": [
    "primes = []\n",
    "\n",
    "for i in range(2, 101): # the range of numbers i am looking for prime numbers\n",
    "    its_prime = True    # i created a variable called its_prime and made it True\n",
    "    for m in range(2, 101): # i created the same range as of the first inside the first loop so that \n",
    "                            # i can divided every single numbers of the first range by all the numbers in this range\n",
    "        if m == i:  # i made sure i don't divided by the same number.\n",
    "            pass\n",
    "        elif i % m == 0: # if i divided by a different number and, among the division i get zero then that number is not a prime number\n",
    "            its_prime = False\n",
    "    if its_prime == True:\n",
    "        primes.append(i)  # after i finding my prime number, i add to my primes[] list.\n",
    "\n",
    "print(primes, end = \"\")"
   ]
  },
  {
   "cell_type": "code",
   "execution_count": 8,
   "id": "92ac5036-7805-4411-bf58-94095534e03a",
   "metadata": {},
   "outputs": [
    {
     "name": "stdin",
     "output_type": "stream",
     "text": [
      "enter a word:  python\n"
     ]
    },
    {
     "name": "stdout",
     "output_type": "stream",
     "text": [
      "p\n",
      "py\n",
      "pyt\n",
      "pyth\n",
      "pytho\n",
      "python\n",
      "pytho\n",
      "pyth\n",
      "pyt\n",
      "py\n",
      "p\n"
     ]
    }
   ],
   "source": [
    "s = input('enter a word: ')\n",
    "s = list(s)\n",
    "length = len(s)\n",
    "\n",
    "for i in range(1):\n",
    "    for m in range(1, length + 1):\n",
    "        a = s[i : m]\n",
    "        a = ''.join(a)\n",
    "        print(a)\n",
    "        \n",
    "    for m in range(length-1, 0, -1):\n",
    "        a = s[i : m]\n",
    "        a = ''.join(a)\n",
    "        print(a)"
   ]
  },
  {
   "cell_type": "markdown",
   "id": "6e530288-79e5-40db-9593-543ae365101e",
   "metadata": {},
   "source": [
    "7.7a"
   ]
  },
  {
   "cell_type": "code",
   "execution_count": 37,
   "id": "79ea20ee-5b9d-4e5d-9839-de5ca2fe9c26",
   "metadata": {},
   "outputs": [
    {
     "name": "stdout",
     "output_type": "stream",
     "text": [
      "None\n",
      "['banana', 'orange']\n",
      "[]\n"
     ]
    }
   ],
   "source": [
    "def highest_fruit_number_length_in_list(fruit_list):\n",
    "    # list_length = len(list)\n",
    "    highest_fruit_number_length = 0\n",
    "    for fruit in fruit_list:\n",
    "        fruit_length = len(fruit)\n",
    "        if fruit_length > highest_fruit_number_length:\n",
    "            highest_fruit_number_length = fruit_length\n",
    "    return highest_fruit_number_length\n",
    "            \n",
    "fruit_list = ['banana', 'orange', 'kiwi', 'apple', 'melon']\n",
    "\n",
    "highest_fruit_name_length_list = []\n",
    "fruit_name_length_list_remaining = []\n",
    "\n",
    "highest_length = highest_fruit_number_length_in_list(fruit_list)\n",
    "\n",
    "for fruit in fruit_list:\n",
    "    if len(fruit) == highest_length:\n",
    "        highest_fruit_name_length_list.append(fruit)\n",
    "    a = fruit_list.remove(fruit)\n",
    "    # fruit_name_length_list_remaining.append(a)\n",
    "        \n",
    "\n",
    "print(highest_fruit_name_length_list)\n",
    "print(fruit_name_length_list_remaining)\n"
   ]
  },
  {
   "cell_type": "code",
   "execution_count": 38,
   "id": "dc549c6a-ec2a-4d24-9ada-2f11171758b6",
   "metadata": {},
   "outputs": [
    {
     "name": "stdout",
     "output_type": "stream",
     "text": [
      "Fruits with the longest names: ['banana', 'orange']\n",
      "Remaining fruits: ['kiwi', 'apple', 'melon']\n"
     ]
    }
   ],
   "source": [
    "def highest_fruit_number_length_in_list(fruit_list):\n",
    "    highest_fruit_number_length = 0\n",
    "    for fruit in fruit_list:\n",
    "        fruit_length = len(fruit)\n",
    "        if fruit_length > highest_fruit_number_length:\n",
    "            highest_fruit_number_length = fruit_length\n",
    "    return highest_fruit_number_length\n",
    "            \n",
    "fruit_list = ['banana', 'orange', 'kiwi', 'apple', 'melon']\n",
    "\n",
    "highest_fruit_name_length_list = []\n",
    "fruit_name_length_list_remaining = []\n",
    "\n",
    "highest_length = highest_fruit_number_length_in_list(fruit_list)\n",
    "\n",
    "for fruit in fruit_list[:]:  # Iterate over a copy of the list to avoid altering it\n",
    "    if len(fruit) == highest_length:\n",
    "        highest_fruit_name_length_list.append(fruit)\n",
    "    else:\n",
    "        fruit_name_length_list_remaining.append(fruit)\n",
    "\n",
    "print(\"Fruits with the longest names:\", highest_fruit_name_length_list)\n",
    "print(\"Remaining fruits:\", fruit_name_length_list_remaining)"
   ]
  },
  {
   "cell_type": "markdown",
   "id": "7359cf24-20b6-40f4-a597-c608b6bcaf14",
   "metadata": {},
   "source": [
    "7.7b"
   ]
  },
  {
   "cell_type": "code",
   "execution_count": 30,
   "id": "6de2ae9c-48a7-4289-b676-0be5b54e7765",
   "metadata": {},
   "outputs": [
    {
     "name": "stdout",
     "output_type": "stream",
     "text": [
      "kiwi : string length is 4\n",
      "apple : string length is 5\n",
      "melon : string length is 5\n",
      "banana : string length is 6\n",
      "orange : string length is 6\n"
     ]
    }
   ],
   "source": [
    "fruit_list = ['kiwi', 'apple', 'melon', 'banana', 'orange']\n",
    "\n",
    "for fruit in fruit_list:\n",
    "    print(fruit, \": string length is\", len(fruit))"
   ]
  },
  {
   "cell_type": "markdown",
   "id": "59f5014e-63d5-46d3-b87d-7a76508622f4",
   "metadata": {},
   "source": [
    "7.8"
   ]
  },
  {
   "cell_type": "code",
   "execution_count": 92,
   "id": "8de5f9d8-dba6-4669-a77d-94a2e7df9e20",
   "metadata": {},
   "outputs": [
    {
     "name": "stdin",
     "output_type": "stream",
     "text": [
      "input a number not less than 1 and not greater than 10:  6\n"
     ]
    },
    {
     "name": "stdout",
     "output_type": "stream",
     "text": [
      "1 2 3 4 5 6  \n",
      "12 11 10 9 8 7  \n",
      "13 14 15 16 17 18  \n",
      "24 23 22 21 20 19  \n",
      "25 26 27 28 29 30  \n",
      "36 35 34 33 32 31  \n"
     ]
    }
   ],
   "source": [
    "n = int(input('input a number not less than 1 and not greater than 10: '))\n",
    "\n",
    "for s in range(0, (n*n), n*2):\n",
    "    for i in range(s+1, s+n+1):\n",
    "        print(i, end = ' ')\n",
    "        if i == s+n:\n",
    "            print(end = ' \\n')\n",
    "    for j in range((n*2)+s, n+s, -1):\n",
    "        if s != 20:\n",
    "            print(j, end = ' ')\n",
    "            if j == (n+s)+1:\n",
    "                print(end = ' \\n')\n"
   ]
  },
  {
   "cell_type": "code",
   "execution_count": 93,
   "id": "b2c9d90e-536e-4b59-906b-25331b7dbd65",
   "metadata": {},
   "outputs": [
    {
     "name": "stdin",
     "output_type": "stream",
     "text": [
      "Enter a value for n (greater than 1 and less than 10):  6\n"
     ]
    },
    {
     "name": "stdout",
     "output_type": "stream",
     "text": [
      "Snake Matrix:\n",
      "1 2 3 4 5 6\n",
      "12 11 10 9 8 7\n",
      "13 14 15 16 17 18\n",
      "24 23 22 21 20 19\n",
      "25 26 27 28 29 30\n",
      "36 35 34 33 32 31\n"
     ]
    }
   ],
   "source": [
    "def generate_snake_matrix(n):\n",
    "    matrix = [[0] * n for _ in range(n)]\n",
    "    num = 1\n",
    "    for i in range(n):\n",
    "        if i % 2 == 0:\n",
    "            for j in range(n):\n",
    "                matrix[i][j] = num\n",
    "                num += 1\n",
    "        else:\n",
    "            for j in range(n-1, -1, -1):\n",
    "                matrix[i][j] = num\n",
    "                num += 1\n",
    "    return matrix\n",
    "\n",
    "def print_matrix(matrix):\n",
    "    for row in matrix:\n",
    "        print(\" \".join(map(str, row)))\n",
    "\n",
    "def main():\n",
    "    n = int(input(\"Enter a value for n (greater than 1 and less than 10): \"))\n",
    "    if n <= 1 or n >= 10:\n",
    "        print(\"Invalid input. Please enter a value greater than 1 and less than 10.\")\n",
    "        return\n",
    "    snake_matrix = generate_snake_matrix(n)\n",
    "    print(\"Snake Matrix:\")\n",
    "    print_matrix(snake_matrix)\n",
    "\n",
    "if __name__ == \"__main__\":\n",
    "    main()\n"
   ]
  },
  {
   "cell_type": "code",
   "execution_count": null,
   "id": "b598424d-40c8-46c5-b8c9-30b732cd1b0e",
   "metadata": {},
   "outputs": [],
   "source": []
  },
  {
   "cell_type": "markdown",
   "id": "bb0f8b76-4089-4777-9661-c9809884a3af",
   "metadata": {},
   "source": [
    "chapter 10.1"
   ]
  },
  {
   "cell_type": "code",
   "execution_count": 3,
   "id": "12f2fed3-6725-4494-a5c4-9baf209a91ab",
   "metadata": {},
   "outputs": [],
   "source": [
    "import numpy as np"
   ]
  },
  {
   "cell_type": "code",
   "execution_count": 4,
   "id": "0e016a6c-01a3-45b3-8f0f-35bce5046262",
   "metadata": {},
   "outputs": [
    {
     "name": "stdout",
     "output_type": "stream",
     "text": [
      "[ 1  2  3  4  5  6  7  8  9 10 11 12 13 14 15 16 17 18 19 20]\n"
     ]
    }
   ],
   "source": [
    "num_arr = np.arange(1, 21)\n",
    "print(num_arr)"
   ]
  },
  {
   "cell_type": "code",
   "execution_count": 5,
   "id": "d89aaa8b-54b8-48c9-8d0d-b28afeebbb0d",
   "metadata": {},
   "outputs": [
    {
     "name": "stdout",
     "output_type": "stream",
     "text": [
      "[20 19 18 17 16 15 14 13 12 11 10  9  8  7  6  5  4  3  2  1]\n"
     ]
    }
   ],
   "source": [
    "reversed_array = num_arr[::-1]\n",
    "print(reversed_array)"
   ]
  },
  {
   "cell_type": "code",
   "execution_count": 52,
   "id": "62fc1421-389e-415d-b88d-fbbb526be550",
   "metadata": {},
   "outputs": [
    {
     "name": "stdout",
     "output_type": "stream",
     "text": [
      "210\n"
     ]
    }
   ],
   "source": [
    "total_sum = np.sum(num_arr)\n",
    "print(total_sum)"
   ]
  },
  {
   "cell_type": "code",
   "execution_count": 60,
   "id": "726f0dbc-5cd0-425a-8bc0-41ff80eb2b81",
   "metadata": {},
   "outputs": [
    {
     "name": "stdout",
     "output_type": "stream",
     "text": [
      "[[ 0  1  2  3]\n",
      " [ 4  5  6  7]\n",
      " [ 8  9 10 11]\n",
      " [12 13 14 15]\n",
      " [16 17 18 19]]\n",
      "2\n"
     ]
    }
   ],
   "source": [
    "array = np.array([num_arr[0:4], num_arr[4:8], num_arr[8:12], num_arr[12:16], num_arr[16:20]])\n",
    "print(array)\n",
    "# num_dimensions_arr = array.ndim\n",
    "# print(num_dimensions_arr)"
   ]
  },
  {
   "cell_type": "markdown",
   "id": "0621d38e-0ba9-4f67-8d6d-e7a2d481080e",
   "metadata": {},
   "source": [
    "10.2_1"
   ]
  },
  {
   "cell_type": "code",
   "execution_count": 64,
   "id": "4afc1055-1646-4bf9-81fd-19bbe1ca172c",
   "metadata": {},
   "outputs": [
    {
     "data": {
      "text/plain": [
       "array([[ 0,  1,  2,  3,  4],\n",
       "       [ 5,  6,  7,  8,  9],\n",
       "       [10, 11, 12, 13, 14],\n",
       "       [15, 16, 17, 18, 19],\n",
       "       [20, 21, 22, 23, 24]])"
      ]
     },
     "execution_count": 64,
     "metadata": {},
     "output_type": "execute_result"
    }
   ],
   "source": [
    "num_arr = np.arange(0, 25)\n",
    "n_arr = np.array([num_arr[0:5], num_arr[5: 10], num_arr[10: 15], num_arr[15: 20], num_arr[20: 25]])\n",
    "n_arr"
   ]
  },
  {
   "cell_type": "markdown",
   "id": "49cf3409-b4e3-493d-b66e-619dd3a1a332",
   "metadata": {},
   "source": [
    "10.2_2"
   ]
  },
  {
   "cell_type": "code",
   "execution_count": 73,
   "id": "94666f41-fd02-400d-9808-9dd0ff1e7860",
   "metadata": {},
   "outputs": [
    {
     "name": "stdout",
     "output_type": "stream",
     "text": [
      "first element :  0\n",
      "last element:  24\n"
     ]
    }
   ],
   "source": [
    "first_element = n_arr[0, 0]\n",
    "last_element = n_arr[4, 4]\n",
    "print('first element : ', first_element)\n",
    "print('last element: ', last_element)"
   ]
  },
  {
   "cell_type": "markdown",
   "id": "06bfbd33-8d4c-4248-85d3-985f91602441",
   "metadata": {},
   "source": [
    "10.2_3"
   ]
  },
  {
   "cell_type": "code",
   "execution_count": 74,
   "id": "0a4730d0-2a97-4f66-a6c2-bc60c8fe2459",
   "metadata": {},
   "outputs": [
    {
     "name": "stdout",
     "output_type": "stream",
     "text": [
      "[[0 1 2 3 4]\n",
      " [5 6 7 8 9]]\n"
     ]
    }
   ],
   "source": [
    "a = n_arr[0:2]\n",
    "print(a)"
   ]
  },
  {
   "cell_type": "markdown",
   "id": "5d6d1530-dcdd-4c5b-bdc4-6f102ebee7f3",
   "metadata": {},
   "source": [
    "10.2_4"
   ]
  },
  {
   "cell_type": "code",
   "execution_count": 76,
   "id": "8b5b724d-f442-48ad-8ee3-d546167f6b79",
   "metadata": {},
   "outputs": [
    {
     "name": "stdout",
     "output_type": "stream",
     "text": [
      "[[10 11 12 13 14]\n",
      " [15 16 17 18 19]\n",
      " [20 21 22 23 24]]\n"
     ]
    }
   ],
   "source": [
    "b = n_arr[2:5]\n",
    "print(b)"
   ]
  },
  {
   "cell_type": "markdown",
   "id": "428b3c5c-d967-45d1-a363-c62bea2ffdf8",
   "metadata": {},
   "source": [
    "10.2_5"
   ]
  },
  {
   "cell_type": "code",
   "execution_count": 78,
   "id": "88c39f33-2891-4d41-ac30-27c0a7156add",
   "metadata": {},
   "outputs": [
    {
     "data": {
      "text/plain": [
       "array([[ 0,  2,  4],\n",
       "       [ 5,  7,  9],\n",
       "       [10, 12, 14],\n",
       "       [15, 17, 19],\n",
       "       [20, 22, 24]])"
      ]
     },
     "execution_count": 78,
     "metadata": {},
     "output_type": "execute_result"
    }
   ],
   "source": [
    "new_n_arr = np.array([n_arr[0, 0:5:2], n_arr[1, 0:5:2], n_arr[2, 0:5:2], n_arr[3, 0:3:2], n_arr[4, 0:3:2]])\n",
    "new_n_arr"
   ]
  },
  {
   "cell_type": "markdown",
   "id": "f48938c0-e6e7-43ec-93ce-3aea28b0d384",
   "metadata": {},
   "source": [
    "10.2_6"
   ]
  },
  {
   "cell_type": "code",
   "execution_count": 79,
   "id": "adec2852-33a9-4255-afdc-3f0b2b441d23",
   "metadata": {},
   "outputs": [
    {
     "data": {
      "text/plain": [
       "array([[ 0,  2,  4],\n",
       "       [10, 12, 14],\n",
       "       [20, 22, 24]])"
      ]
     },
     "execution_count": 79,
     "metadata": {},
     "output_type": "execute_result"
    }
   ],
   "source": [
    "new_n_arr = np.array([n_arr[0, 0:5:2], n_arr[2, 0:5:2], n_arr[4, 0:5:2]])\n",
    "new_n_arr"
   ]
  },
  {
   "cell_type": "markdown",
   "id": "3edcf16d-f8d3-4985-9a07-3a846619aedd",
   "metadata": {},
   "source": [
    "10.2_7"
   ]
  },
  {
   "cell_type": "code",
   "execution_count": 98,
   "id": "c0ae1197-329b-4eb3-b267-3b61cb74a7f0",
   "metadata": {},
   "outputs": [
    {
     "name": "stdout",
     "output_type": "stream",
     "text": [
      "[[0 1]\n",
      " [2 3]\n",
      " [4 5]\n",
      " [6 7]\n",
      " [8 9]]\n"
     ]
    }
   ],
   "source": [
    "new_arr = np.array([n_arr[0,0], n_arr[0,1], n_arr[0,2], n_arr[0,3], n_arr[0,4], n_arr[1,0], n_arr[1,1], n_arr[1,2], n_arr[1,3], n_arr[1,4]])\n",
    "new_shape_arr = new_arr.reshape(5, 2)\n",
    "print(new_shape_arr)"
   ]
  },
  {
   "cell_type": "markdown",
   "id": "d7bc6e5e-2924-49c2-897b-2dcf2f6deb0c",
   "metadata": {},
   "source": [
    "10.3_1"
   ]
  },
  {
   "cell_type": "code",
   "execution_count": 112,
   "id": "83565bcb-e908-41d5-b071-1f764ab93169",
   "metadata": {},
   "outputs": [
    {
     "name": "stdout",
     "output_type": "stream",
     "text": [
      "[[[0.49762632 0.12644348 0.24477528]\n",
      "  [0.177752   0.73151629 0.37284479]\n",
      "  [0.51635496 0.78917257 0.28987017]]\n",
      "\n",
      " [[0.24219618 0.86484446 0.41615492]\n",
      "  [0.64191739 0.90013815 0.96248345]\n",
      "  [0.33923829 0.88446502 0.03242666]]\n",
      "\n",
      " [[0.36888471 0.94866047 0.43558717]\n",
      "  [0.99407371 0.03706153 0.26686014]\n",
      "  [0.43183396 0.25731189 0.60223715]]]\n"
     ]
    }
   ],
   "source": [
    "# import random\n",
    "random = np.random.rand(27)\n",
    "a = random.reshape(3, 3, 3)\n",
    "print(a)"
   ]
  },
  {
   "cell_type": "markdown",
   "id": "b970bcdc-e741-4dba-b64d-40ba44f7377e",
   "metadata": {},
   "source": [
    "10.3_2"
   ]
  },
  {
   "cell_type": "code",
   "execution_count": 115,
   "id": "17183d43-1797-4e0b-9a67-75a4a7d7da85",
   "metadata": {},
   "outputs": [
    {
     "data": {
      "text/plain": [
       "0.9940737105429681"
      ]
     },
     "execution_count": 115,
     "metadata": {},
     "output_type": "execute_result"
    }
   ],
   "source": [
    "max = a.max()\n",
    "max"
   ]
  },
  {
   "cell_type": "code",
   "execution_count": 116,
   "id": "b5b9fc32-8ecf-41c9-8773-5ad46617a0c7",
   "metadata": {},
   "outputs": [
    {
     "data": {
      "text/plain": [
       "21"
      ]
     },
     "execution_count": 116,
     "metadata": {},
     "output_type": "execute_result"
    }
   ],
   "source": [
    "maxs = a.argmax()\n",
    "maxs"
   ]
  },
  {
   "cell_type": "markdown",
   "id": "4f803769-3513-4167-b6f7-fa741886d053",
   "metadata": {},
   "source": [
    "10.4_1"
   ]
  },
  {
   "cell_type": "code",
   "execution_count": 131,
   "id": "ca285833-771b-4c27-9560-1859ab70a42f",
   "metadata": {},
   "outputs": [
    {
     "name": "stdout",
     "output_type": "stream",
     "text": [
      "[[1 0 1 0 1]\n",
      " [0 1 0 1 0]\n",
      " [1 0 1 0 1]\n",
      " [0 1 0 1 0]\n",
      " [1 0 1 0 1]]\n"
     ]
    }
   ],
   "source": [
    "num = np.arange(0, 2)\n",
    "arr = np.array([num[1], num[0], num[1], num[0], num[1], \n",
    "                num[0], num[1], num[0], num[1], num[0], \n",
    "                num[1], num[0], num[1], num[0], num[1], \n",
    "                num[0], num[1], num[0], num[1], num[0],\n",
    "                num[1], num[0], num[1], num[0], num[1]])\n",
    "new_arr = arr.reshape(5, 5)\n",
    "print(new_arr)"
   ]
  },
  {
   "cell_type": "markdown",
   "id": "004064b8-4af1-4a1d-9a69-42fa4775305c",
   "metadata": {},
   "source": [
    "10.4_2"
   ]
  },
  {
   "cell_type": "code",
   "execution_count": 134,
   "id": "c5e8664c-1955-48a6-8cd8-7974e83002df",
   "metadata": {},
   "outputs": [
    {
     "name": "stdout",
     "output_type": "stream",
     "text": [
      "[3 2 3 2 3]\n"
     ]
    }
   ],
   "source": [
    "sum_row = np.array([new_arr[0].sum(), new_arr[1].sum(), new_arr[2].sum(), new_arr[3].sum(), new_arr[4].sum()])\n",
    "print(sum_row)"
   ]
  },
  {
   "cell_type": "markdown",
   "id": "4fe4dca4-8cfd-431c-a585-355656a20445",
   "metadata": {},
   "source": [
    "10.5_1"
   ]
  },
  {
   "cell_type": "code",
   "execution_count": 138,
   "id": "61a66c56-990b-4707-aeeb-e451a26caddf",
   "metadata": {},
   "outputs": [
    {
     "name": "stdout",
     "output_type": "stream",
     "text": [
      "[[[ 0  1]\n",
      "  [ 2  3]\n",
      "  [ 4  5]\n",
      "  [ 6  7]]\n",
      "\n",
      " [[ 8  9]\n",
      "  [10 11]\n",
      "  [12 13]\n",
      "  [14 15]]\n",
      "\n",
      " [[16 17]\n",
      "  [18 19]\n",
      "  [20 21]\n",
      "  [22 23]]\n",
      "\n",
      " [[24 25]\n",
      "  [26 27]\n",
      "  [28 29]\n",
      "  [30 31]]]\n"
     ]
    }
   ],
   "source": [
    "a = np.arange(0, 32).reshape(4, 4, 2)\n",
    "print(a)"
   ]
  },
  {
   "cell_type": "code",
   "execution_count": 141,
   "id": "be4d63d1-b197-46e7-ba17-83dd3e55bb9f",
   "metadata": {},
   "outputs": [
    {
     "name": "stdout",
     "output_type": "stream",
     "text": [
      "the 10th element :  9\n",
      "the 10th element :  19\n"
     ]
    }
   ],
   "source": [
    "b = a.flatten()\n",
    "\n",
    "print('the 10th element : ', b[9])\n",
    "print('the 10th element : ', b[19])"
   ]
  },
  {
   "cell_type": "code",
   "execution_count": 11,
   "id": "a9c09f0b-c909-4ccc-a68d-ff0077b9eb6a",
   "metadata": {},
   "outputs": [
    {
     "name": "stdout",
     "output_type": "stream",
     "text": [
      "[[[1 2]\n",
      "  [3 4]]\n",
      "\n",
      " [[5 6]\n",
      "  [7 8]]\n",
      "\n",
      " [[6 6]\n",
      "  [9 7]]]\n"
     ]
    }
   ],
   "source": [
    "b = np.array([[[1,2], [3,4]], [[5,6], [7,8]],[[6,6],[9,7]]])\n",
    "print(b)"
   ]
  },
  {
   "cell_type": "code",
   "execution_count": 4,
   "id": "14b41495-62cb-4de0-8920-515d2bbeb1c1",
   "metadata": {},
   "outputs": [
    {
     "name": "stdout",
     "output_type": "stream",
     "text": [
      "3\n"
     ]
    }
   ],
   "source": [
    "a = b.ndim\n",
    "print(a)"
   ]
  },
  {
   "cell_type": "code",
   "execution_count": 13,
   "id": "b9589628-9132-4407-93c6-bed12add759e",
   "metadata": {},
   "outputs": [
    {
     "name": "stdout",
     "output_type": "stream",
     "text": [
      "[[[1 2]]\n",
      "\n",
      " [[7 8]]\n",
      "\n",
      " [[6 6]]]\n"
     ]
    }
   ],
   "source": [
    "new_arr = np.array([[b[0, 0, :]], [b[1, 1, :]],[b[2,0,:]]])\n",
    "print(new_arr)"
   ]
  },
  {
   "cell_type": "code",
   "execution_count": 14,
   "id": "4e8d3fa8-b7dc-4771-895c-584cea722917",
   "metadata": {},
   "outputs": [
    {
     "data": {
      "text/plain": [
       "[[array([1, 2])], [array([7, 8])], [array([6, 6])]]"
      ]
     },
     "execution_count": 14,
     "metadata": {},
     "output_type": "execute_result"
    }
   ],
   "source": []
  },
  {
   "cell_type": "code",
   "execution_count": null,
   "id": "92873b72-d309-4189-8403-73dfe6ae2d59",
   "metadata": {},
   "outputs": [],
   "source": []
  }
 ],
 "metadata": {
  "kernelspec": {
   "display_name": "Python 3 (ipykernel)",
   "language": "python",
   "name": "python3"
  },
  "language_info": {
   "codemirror_mode": {
    "name": "ipython",
    "version": 3
   },
   "file_extension": ".py",
   "mimetype": "text/x-python",
   "name": "python",
   "nbconvert_exporter": "python",
   "pygments_lexer": "ipython3",
   "version": "3.11.7"
  }
 },
 "nbformat": 4,
 "nbformat_minor": 5
}
