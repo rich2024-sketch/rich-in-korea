{
 "cells": [
  {
   "cell_type": "markdown",
   "id": "b305ce8c-3a25-4c9a-ba46-9932f011a0e9",
   "metadata": {},
   "source": [
    "# 07 데이터를 리스트와 튜플로 묶어보자\n",
    "\n",
    "7.1 리스트는 무엇이고 왜필요한가   \n",
    "7.2 리스트 연산을 해보자   \n",
    "LAB 7-1 입력을 받아 맛있는 과일의리스트를만들어보자   \n",
    "LAB 7-2 2에서 100까지의 소수를 구해보자   \n",
    "7.3 인덱싱과 슬라이싱을해보자   \n",
    "7.4 리스트의 원소 값을 자유롭게조작해보자   \n",
    "LAB 7-3 도시의 인구 자료에 대한슬라이싱을해보자   \n",
    "7.5 리스트의 메소드와 여러기능들   \n",
    "7.6 리스트를 크기에따라정렬해보자   \n",
    "LAB 7-4 오늘의 명언을 골라주는 기능을만들자   \n",
    "LAB 7-5 도시의 이름과 인구를 튜플로묶어보자   \n",
    "7.7 바퀴의 재발명?    \n",
    "7.8 리스트 객체의생성과참조라는깊이있는개념   \n",
    "7.9 리스트 함축은코드를짧고간결하게만드는데사용된다   \n",
    "7.10 한번 생성하면 그 값을고칠수없는자료형: 튜플   \n",
    "7.11 zip() 함수를 사용한 집적화   \n",
    "7.12 클래스와 객체가 무엇인가   \n",
    "\r\n"
   ]
  },
  {
   "cell_type": "markdown",
   "id": "31090e2f-9621-4805-ab00-3650c3528a0c",
   "metadata": {},
   "source": [
    "이장에서 배울 것들\n",
    "\n",
    "- 여러 개의 데이터를 하나로 묶어서 처리하는 리스트와 튜플을 배워 봅시다. \n",
    "- 리스트나 튜플의 항목들을 인덱스를 이용해서 접근해 봅시다. \n",
    "- 리스트는 가변속성을 갖고 튜플은 불변속성을 가집니다. 이를 상세하게 알아봅시다. \n",
    "- 리스트나 튜플 같이 데이터가 연속해서 나타나는 것을 시퀀스라고 합니다. \n",
    "- 시퀀스의 일부를 잘라내는 슬라이싱을 익혀 봅시다. \n",
    "- 슬라이싱을 이용하여 효율적으로 데이터를 다루도록 연습해 봅시다. \n",
    "- 복잡한 기능의 자료형을 설계하고 만드는 객체지향 개념을 살펴봅시다."
   ]
  },
  {
   "cell_type": "markdown",
   "id": "8f844640-e9a5-468d-9db1-5165c6d3d2e8",
   "metadata": {},
   "source": [
    "## 7.1 리스트는 무엇이고 왜 필요한가\n",
    "\n",
    "- 파이썬 자료형\n",
    "    - 단순한 자료형: int, float, bool\n",
    "    - 집단 자료형(collection data type):\n",
    "        - 문자열(string), 리스트(list), 퓨플(tuple), 사전(dictionary, dict), 집합(set)\n",
    "     "
   ]
  },
  {
   "cell_type": "code",
   "execution_count": 2,
   "id": "ff8e71ca-53a2-4bea-8ea7-4f60a4ca68a0",
   "metadata": {},
   "outputs": [
    {
     "data": {
      "text/plain": [
       "[178, 190, 165]"
      ]
     },
     "execution_count": 2,
     "metadata": {},
     "output_type": "execute_result"
    }
   ],
   "source": [
    "# list 만들기\n",
    "heights = [178, 190, 165]\n",
    "heights"
   ]
  },
  {
   "cell_type": "code",
   "execution_count": 3,
   "id": "0c25783d-1d42-4b3a-a6e7-d26f5d4ffcfb",
   "metadata": {},
   "outputs": [
    {
     "data": {
      "text/plain": [
       "[['Park', 187, 65.0], ['Lee', 190, 120.5], ['Choi', 165, 50]]"
      ]
     },
     "execution_count": 3,
     "metadata": {},
     "output_type": "execute_result"
    }
   ],
   "source": [
    "my_friends = [['Park', 187, 65.0], ['Lee', 190, 120.5], ['Choi', 165, 50]]\n",
    "my_friends"
   ]
  },
  {
   "cell_type": "code",
   "execution_count": 4,
   "id": "04c8e173-86d4-4411-8f72-e57af5980283",
   "metadata": {},
   "outputs": [
    {
     "data": {
      "text/plain": [
       "[]"
      ]
     },
     "execution_count": 4,
     "metadata": {},
     "output_type": "execute_result"
    }
   ],
   "source": [
    "# 빈 리스트 -  append\n",
    "heights = list()\n",
    "heights"
   ]
  },
  {
   "cell_type": "code",
   "execution_count": 5,
   "id": "5f37ba37-80a2-4c09-93f6-046fa75e3378",
   "metadata": {},
   "outputs": [
    {
     "data": {
      "text/plain": [
       "[178]"
      ]
     },
     "execution_count": 5,
     "metadata": {},
     "output_type": "execute_result"
    }
   ],
   "source": [
    "heights.append(178)\n",
    "heights"
   ]
  },
  {
   "cell_type": "code",
   "execution_count": 6,
   "id": "5706e831-cf77-4b4d-ab27-c68e4ed754dd",
   "metadata": {},
   "outputs": [],
   "source": [
    "heights.append(190)"
   ]
  },
  {
   "cell_type": "code",
   "execution_count": 7,
   "id": "f92ae1af-7529-4089-b269-7af0737c8e46",
   "metadata": {},
   "outputs": [
    {
     "data": {
      "text/plain": [
       "[178, 190]"
      ]
     },
     "execution_count": 7,
     "metadata": {},
     "output_type": "execute_result"
    }
   ],
   "source": [
    "heights"
   ]
  },
  {
   "cell_type": "code",
   "execution_count": 8,
   "id": "9c91159b-3c4d-454c-b868-a34a57eb4699",
   "metadata": {},
   "outputs": [
    {
     "data": {
      "text/plain": [
       "[0, 2, 4, 6, 8]"
      ]
     },
     "execution_count": 8,
     "metadata": {},
     "output_type": "execute_result"
    }
   ],
   "source": [
    "evens = [ ]\n",
    "for i in range(0, 10, 2):\n",
    "    evens.append(i) # method\n",
    "\n",
    "evens"
   ]
  },
  {
   "cell_type": "code",
   "execution_count": 9,
   "id": "ad1e0dc6-4888-48e3-bc0e-9f5047308874",
   "metadata": {},
   "outputs": [
    {
     "data": {
      "text/plain": [
       "[0, 2, 4, 6, 8]"
      ]
     },
     "execution_count": 9,
     "metadata": {},
     "output_type": "execute_result"
    }
   ],
   "source": [
    "# range()를 리스트로 변환\n",
    "list(range(0, 10, 2))"
   ]
  },
  {
   "cell_type": "markdown",
   "id": "0b757cb1-551d-4739-be45-8e39389a9962",
   "metadata": {},
   "source": [
    "- 리스트: 여러가지 자료형의 데이터를 하나로 묶어 놓은 자료 구조\n",
    " \n",
    "- 리스트 만들기\n",
    "    - 빈 리스트(empty list)\n",
    "    - 항목(element)의 추가\n",
    "    - range()를 리스트로 변환"
   ]
  },
  {
   "cell_type": "code",
   "execution_count": null,
   "id": "098dc68e-6ec3-4a67-ac8c-73680a19f517",
   "metadata": {},
   "outputs": [],
   "source": []
  },
  {
   "cell_type": "code",
   "execution_count": null,
   "id": "35024804-07ba-48d2-a5f7-649cb7b46ee6",
   "metadata": {},
   "outputs": [],
   "source": [
    "# list 만들기"
   ]
  },
  {
   "cell_type": "code",
   "execution_count": null,
   "id": "81cf4c36-8a31-44e4-b434-ca1c42f0d597",
   "metadata": {},
   "outputs": [],
   "source": [
    "# 빈 리스트 - append"
   ]
  },
  {
   "cell_type": "code",
   "execution_count": null,
   "id": "fab710bd-8e8d-4702-89da-cce15e70e6c3",
   "metadata": {},
   "outputs": [],
   "source": [
    "# range()를 리스트로 변환"
   ]
  },
  {
   "cell_type": "markdown",
   "id": "2e37c382-e93d-4066-9c34-5c98cd53c2e6",
   "metadata": {},
   "source": [
    "## 7.2 리스트 연산을 해보자\n",
    "\n",
    "- 리스트 합치기\n",
    "- 리스트의 반복\n",
    "- type: 자료형 확인\n",
    "- in/not in\n",
    "- len(), max(), min(), sum()\n",
    "- any(), all()"
   ]
  },
  {
   "cell_type": "code",
   "execution_count": 12,
   "id": "672c6520-9f5d-4b7a-b7ee-efb590ab5ef4",
   "metadata": {},
   "outputs": [
    {
     "data": {
      "text/plain": [
       "[190, 180, 175, 175, 186, 170]"
      ]
     },
     "execution_count": 12,
     "metadata": {},
     "output_type": "execute_result"
    }
   ],
   "source": [
    "# 리스트 합치기\n",
    "\n",
    "my_heights = [190, 180, 175]\n",
    "your_heights = [175, 186, 170]\n",
    "our_friends = my_heights + your_friends\n",
    "our_friends"
   ]
  },
  {
   "cell_type": "code",
   "execution_count": null,
   "id": "76647368-66cf-4170-9f7e-6e2b73d3d0e2",
   "metadata": {},
   "outputs": [],
   "source": []
  },
  {
   "cell_type": "code",
   "execution_count": 13,
   "id": "09005845-37e5-49b1-a880-5f063a0ebfc5",
   "metadata": {},
   "outputs": [
    {
     "data": {
      "text/plain": [
       "[1, 2, 3, 1, 2, 3, 1, 2, 3]"
      ]
     },
     "execution_count": 13,
     "metadata": {},
     "output_type": "execute_result"
    }
   ],
   "source": [
    "# 리스트의 반복\n",
    "numbers = [1, 2, 3]\n",
    "numbers * 3"
   ]
  },
  {
   "cell_type": "code",
   "execution_count": null,
   "id": "f042f402-4f74-434d-baba-f2b5395369ca",
   "metadata": {},
   "outputs": [],
   "source": []
  },
  {
   "cell_type": "code",
   "execution_count": 14,
   "id": "c98df2d2-9a8b-4dc2-a0c4-fc6abb19fda1",
   "metadata": {},
   "outputs": [
    {
     "data": {
      "text/plain": [
       "list"
      ]
     },
     "execution_count": 14,
     "metadata": {},
     "output_type": "execute_result"
    }
   ],
   "source": [
    "# type: 자료형 확인\n",
    "type(numbers)"
   ]
  },
  {
   "cell_type": "code",
   "execution_count": 15,
   "id": "b0bf5702-6abc-47bf-9b0d-0fdba8dad6a2",
   "metadata": {},
   "outputs": [
    {
     "data": {
      "text/plain": [
       "True"
      ]
     },
     "execution_count": 15,
     "metadata": {},
     "output_type": "execute_result"
    }
   ],
   "source": [
    "# in/not in\n",
    "numbers\n",
    "1 in numbers"
   ]
  },
  {
   "cell_type": "code",
   "execution_count": 17,
   "id": "f313a048-e187-4a03-9bb4-71a797760f47",
   "metadata": {},
   "outputs": [
    {
     "data": {
      "text/plain": [
       "False"
      ]
     },
     "execution_count": 17,
     "metadata": {},
     "output_type": "execute_result"
    }
   ],
   "source": [
    "10 in numbers"
   ]
  },
  {
   "cell_type": "code",
   "execution_count": 18,
   "id": "4f7385f9-4558-4f57-a8a6-947ecd9e3a9e",
   "metadata": {},
   "outputs": [
    {
     "data": {
      "text/plain": [
       "False"
      ]
     },
     "execution_count": 18,
     "metadata": {},
     "output_type": "execute_result"
    }
   ],
   "source": [
    "1 not in numbers"
   ]
  },
  {
   "cell_type": "code",
   "execution_count": 19,
   "id": "38657004-389e-4ad5-bf18-40c54efa3442",
   "metadata": {},
   "outputs": [
    {
     "data": {
      "text/plain": [
       "True"
      ]
     },
     "execution_count": 19,
     "metadata": {},
     "output_type": "execute_result"
    }
   ],
   "source": [
    "10 not in numbers"
   ]
  },
  {
   "cell_type": "code",
   "execution_count": null,
   "id": "4284436a-a09e-4ba1-bfb7-d5bd783553ba",
   "metadata": {},
   "outputs": [],
   "source": [
    "# len(), max(), min(), sum()"
   ]
  },
  {
   "cell_type": "code",
   "execution_count": 21,
   "id": "fa8862cb-6f67-4c19-8496-1901c94f06df",
   "metadata": {},
   "outputs": [
    {
     "data": {
      "text/plain": [
       "3"
      ]
     },
     "execution_count": 21,
     "metadata": {},
     "output_type": "execute_result"
    }
   ],
   "source": [
    "len(numbers)"
   ]
  },
  {
   "cell_type": "code",
   "execution_count": 22,
   "id": "a8a96cef-1c57-4f09-9baf-fe4294eaca6a",
   "metadata": {},
   "outputs": [
    {
     "data": {
      "text/plain": [
       "3"
      ]
     },
     "execution_count": 22,
     "metadata": {},
     "output_type": "execute_result"
    }
   ],
   "source": [
    "max(numbers)"
   ]
  },
  {
   "cell_type": "code",
   "execution_count": 23,
   "id": "2c9229e4-93a1-4b68-874f-ba3756d30be8",
   "metadata": {},
   "outputs": [
    {
     "data": {
      "text/plain": [
       "1"
      ]
     },
     "execution_count": 23,
     "metadata": {},
     "output_type": "execute_result"
    }
   ],
   "source": [
    "min(numbers)"
   ]
  },
  {
   "cell_type": "code",
   "execution_count": 24,
   "id": "0a5ec037-ccb8-4835-8a91-023bb0ae48f4",
   "metadata": {},
   "outputs": [
    {
     "data": {
      "text/plain": [
       "6"
      ]
     },
     "execution_count": 24,
     "metadata": {},
     "output_type": "execute_result"
    }
   ],
   "source": [
    "sum(numbers)"
   ]
  },
  {
   "cell_type": "code",
   "execution_count": 25,
   "id": "378aabf5-be33-4548-9c3f-c47f94c9c492",
   "metadata": {},
   "outputs": [
    {
     "data": {
      "text/plain": [
       "[190, 180, 175]"
      ]
     },
     "execution_count": 25,
     "metadata": {},
     "output_type": "execute_result"
    }
   ],
   "source": [
    "my_heights"
   ]
  },
  {
   "cell_type": "code",
   "execution_count": 26,
   "id": "40cba921-f8f9-4fc7-8385-14e4eb58247f",
   "metadata": {},
   "outputs": [
    {
     "data": {
      "text/plain": [
       "181.66666666666666"
      ]
     },
     "execution_count": 26,
     "metadata": {},
     "output_type": "execute_result"
    }
   ],
   "source": [
    "sum(my_heights) / len(my_heights)"
   ]
  },
  {
   "cell_type": "code",
   "execution_count": 27,
   "id": "b52c38eb-b8e2-4ece-83da-0188e13bdc2d",
   "metadata": {},
   "outputs": [
    {
     "data": {
      "text/plain": [
       "True"
      ]
     },
     "execution_count": 27,
     "metadata": {},
     "output_type": "execute_result"
    }
   ],
   "source": [
    "# any(), all()\n",
    "numbers = [4, 5, 0, 7]\n",
    "any(numbers)"
   ]
  },
  {
   "cell_type": "code",
   "execution_count": 28,
   "id": "e7e63dd2-ee14-4b9c-9bee-0bd8fc10f2cc",
   "metadata": {},
   "outputs": [
    {
     "data": {
      "text/plain": [
       "False"
      ]
     },
     "execution_count": 28,
     "metadata": {},
     "output_type": "execute_result"
    }
   ],
   "source": [
    "all(numbers)"
   ]
  },
  {
   "attachments": {},
   "cell_type": "markdown",
   "id": "55e003a4-4294-4aac-b04a-2ce5c951f240",
   "metadata": {},
   "source": [
    "**도전문제 7.1**\n",
    "![image.png](7-1.png)"
   ]
  },
  {
   "cell_type": "code",
   "execution_count": 1,
   "id": "2de93e71-865f-4874-a0f0-ffbe4fcc0de3",
   "metadata": {},
   "outputs": [],
   "source": [
    "black_pink = ['jennie', 'Rose', 'Lisa', 'Jisoo']"
   ]
  },
  {
   "cell_type": "code",
   "execution_count": null,
   "id": "2ab70737-fcb8-43fd-9ed4-0ed5d5a6563e",
   "metadata": {},
   "outputs": [],
   "source": [
    "'Psy' in black_pink"
   ]
  },
  {
   "attachments": {},
   "cell_type": "markdown",
   "id": "0067117c-94a7-4a71-93f4-b3fb1f348885",
   "metadata": {},
   "source": [
    "**LAB7-1** 입력을 받아 맛있는 과일의 리스트를 만들어 보자.\n",
    "\n",
    "![image.png](7-2.png)"
   ]
  },
  {
   "cell_type": "code",
   "execution_count": null,
   "id": "e7fd284c-f0d1-4dc1-9ff6-6e9abda50727",
   "metadata": {},
   "outputs": [],
   "source": []
  },
  {
   "cell_type": "markdown",
   "id": "4a80fbab-c729-4d03-9d32-79b8f6b5c2d2",
   "metadata": {},
   "source": [
    "**LAB7-2** 100보다 작은 모든 소수를 구해보자."
   ]
  },
  {
   "cell_type": "code",
   "execution_count": 18,
   "id": "166ffabc-b272-4b47-b855-5ca7fc2d758a",
   "metadata": {},
   "outputs": [
    {
     "name": "stdout",
     "output_type": "stream",
     "text": [
      "2,3,5,7,11,13,17,19,23,29,31,37,41,43,47,53,59,61,67,71,73,79,83,89,97,"
     ]
    }
   ],
   "source": [
    "n = 10\n",
    "def is_prime(n):\n",
    "    for i in range(2, n):\n",
    "        if n % i == 0:\n",
    "            return False\n",
    "    return True\n",
    "\n",
    "prime_number = []\n",
    "for i in range(2, 101):\n",
    "    if is_prime(i): \n",
    "        prime_number.append(i)\n",
    "        print(i, end=',')\n",
    "\n",
    "# prime_number"
   ]
  },
  {
   "cell_type": "markdown",
   "id": "238a0fb0-e176-4ef1-aa86-20f001cfcbba",
   "metadata": {},
   "source": [
    "## 7.3 인덱싱과 슬라이싱을 해 보자\n",
    "- 인덱싱(indexing)\n",
    "    - 리스트_이름[인덱스] \n",
    "- 슬라이싱(slicing)\n",
    "    - 리스트_이름[시작 인덱스:끝 인덱스: 증가] \n",
    "\n",
    "```\n",
    "letters = ['A', 'B', 'C', 'D', 'E', 'F']\n",
    "#           0    1    2    3    4    5\n",
    "#          -6   -5   -4   -3   -2   -1"
   ]
  },
  {
   "cell_type": "code",
   "execution_count": 33,
   "id": "86496e02-e496-4feb-a339-8177f7248816",
   "metadata": {},
   "outputs": [
    {
     "data": {
      "text/plain": [
       "['RM', 'J-Hop', 'Jin']"
      ]
     },
     "execution_count": 33,
     "metadata": {},
     "output_type": "execute_result"
    }
   ],
   "source": [
    "bts[1::2]"
   ]
  },
  {
   "cell_type": "code",
   "execution_count": 15,
   "id": "283bccd9-aaab-454a-8135-d1b49c2320d0",
   "metadata": {},
   "outputs": [
    {
     "data": {
      "text/plain": [
       "'RM'"
      ]
     },
     "execution_count": 15,
     "metadata": {},
     "output_type": "execute_result"
    }
   ],
   "source": [
    "letters = ['A', 'B', 'C', 'D', 'E', 'F']\n",
    "bts = ['V', 'RM', 'Jungkook', 'J-Hop', 'Suga', 'Jin', 'Jimin']\n",
    "#       0     1     2            3       4      5       6\n",
    "#            -6    -5          -4      -3      -2     -1\n",
    "\n",
    "bts[1]"
   ]
  },
  {
   "cell_type": "code",
   "execution_count": 16,
   "id": "e443feac-dd08-4c55-b020-ae966de83978",
   "metadata": {},
   "outputs": [
    {
     "data": {
      "text/plain": [
       "'Jimin'"
      ]
     },
     "execution_count": 16,
     "metadata": {},
     "output_type": "execute_result"
    }
   ],
   "source": [
    "# 인덱싱\n",
    "bts[-1]"
   ]
  },
  {
   "cell_type": "code",
   "execution_count": 32,
   "id": "b028bd0a-216a-4c16-92b5-4a1f10581d7f",
   "metadata": {},
   "outputs": [
    {
     "data": {
      "text/plain": [
       "['Jin', 'Suga', 'J-Hop', 'Jungkook']"
      ]
     },
     "execution_count": 32,
     "metadata": {},
     "output_type": "execute_result"
    }
   ],
   "source": [
    "bts[5:1:-1]"
   ]
  },
  {
   "cell_type": "code",
   "execution_count": null,
   "id": "bd29faa8-0785-47c8-8255-dc5205b12f13",
   "metadata": {},
   "outputs": [],
   "source": [
    "# 슬라이싱"
   ]
  },
  {
   "cell_type": "code",
   "execution_count": 26,
   "id": "c7de1243-7a30-4bd2-b332-b3fd5314b8c0",
   "metadata": {},
   "outputs": [
    {
     "data": {
      "text/plain": [
       "['V', 'Jungkook', 'Suga']"
      ]
     },
     "execution_count": 26,
     "metadata": {},
     "output_type": "execute_result"
    }
   ],
   "source": [
    "bts[0:6:2]"
   ]
  },
  {
   "cell_type": "code",
   "execution_count": 27,
   "id": "e857a199-2e89-4ff3-8994-ab96fdbf9766",
   "metadata": {},
   "outputs": [
    {
     "data": {
      "text/plain": [
       "['A', 'C', 'E']"
      ]
     },
     "execution_count": 27,
     "metadata": {},
     "output_type": "execute_result"
    }
   ],
   "source": [
    "letters[::2]"
   ]
  },
  {
   "cell_type": "code",
   "execution_count": 24,
   "id": "6c0f1a13-b26c-4d5d-8531-9d1b0908f9db",
   "metadata": {},
   "outputs": [
    {
     "data": {
      "text/plain": [
       "['V', 'RM', 'Jungkook', 'J-Hop']"
      ]
     },
     "execution_count": 24,
     "metadata": {},
     "output_type": "execute_result"
    }
   ],
   "source": [
    "bts[0:4]"
   ]
  },
  {
   "cell_type": "code",
   "execution_count": 28,
   "id": "7a4014d5-fbc6-41d2-8370-7127d7cab9e5",
   "metadata": {},
   "outputs": [
    {
     "data": {
      "text/plain": [
       "['F', 'E', 'D', 'C', 'B', 'A']"
      ]
     },
     "execution_count": 28,
     "metadata": {},
     "output_type": "execute_result"
    }
   ],
   "source": [
    "letters[::-1]"
   ]
  },
  {
   "attachments": {},
   "cell_type": "markdown",
   "id": "492ad54d-e2d6-4817-9d83-c4dcd936a1ab",
   "metadata": {},
   "source": [
    "**LAB7-3** 도시의 인구 자료에 대한 슬라이싱을 해보자.\n",
    "![image.png](7-4.png)"
   ]
  },
  {
   "attachments": {},
   "cell_type": "markdown",
   "id": "129af80a-06ab-4430-82b1-24f98ccf249e",
   "metadata": {},
   "source": [
    "## 7.4 리스트의 원소 값을 자유롭게 조작해 보자\n",
    "- 항목의 변경\n",
    "- append()\n",
    "- insert(index, item)\n",
    "\n",
    "![image.png](7-3.png)"
   ]
  },
  {
   "cell_type": "code",
   "execution_count": 35,
   "id": "3a0d3645-eccb-4c5b-9264-90be264e2137",
   "metadata": {},
   "outputs": [
    {
     "data": {
      "text/plain": [
       "['A', 'B', 'C', 'd', 'd', 'F']"
      ]
     },
     "execution_count": 35,
     "metadata": {},
     "output_type": "execute_result"
    }
   ],
   "source": [
    "# 항목의 변경\n",
    "letters[3] = 'd'\n",
    "letters"
   ]
  },
  {
   "cell_type": "code",
   "execution_count": 36,
   "id": "f5af9603-e758-48fd-85d8-08d1b93526de",
   "metadata": {},
   "outputs": [
    {
     "data": {
      "text/plain": [
       "['A', 'B', 'C', 'd', 'd', 'F', 'G']"
      ]
     },
     "execution_count": 36,
     "metadata": {},
     "output_type": "execute_result"
    }
   ],
   "source": [
    "# 항목의 추가 - append\n",
    "letters.append('G')\n",
    "letters"
   ]
  },
  {
   "cell_type": "code",
   "execution_count": 37,
   "id": "5f1ee0ad-9a59-4b55-893a-91c794d071d4",
   "metadata": {},
   "outputs": [
    {
     "data": {
      "text/plain": [
       "['A', 'B', 'C', 'd', 'e', 'd', 'F', 'G']"
      ]
     },
     "execution_count": 37,
     "metadata": {},
     "output_type": "execute_result"
    }
   ],
   "source": [
    "letters.insert(4,'e')\n",
    "letters"
   ]
  },
  {
   "cell_type": "code",
   "execution_count": 38,
   "id": "132f86cb-6f1b-4445-aa53-51e967e5a85d",
   "metadata": {},
   "outputs": [
    {
     "data": {
      "text/plain": [
       "['A',\n",
       " 'B',\n",
       " 'C',\n",
       " 'd',\n",
       " 'e',\n",
       " 'd',\n",
       " 'F',\n",
       " 'G',\n",
       " 'V',\n",
       " 'RM',\n",
       " 'Jungkook',\n",
       " 'J-Hop',\n",
       " 'Suga',\n",
       " 'Jin',\n",
       " 'Jimin']"
      ]
     },
     "execution_count": 38,
     "metadata": {},
     "output_type": "execute_result"
    }
   ],
   "source": [
    "# 항목의 삽입 - insert(index, item)\n",
    "letters.extend(bts)\n",
    "letters"
   ]
  },
  {
   "cell_type": "code",
   "execution_count": 39,
   "id": "24bfe5e4-27a5-4ba6-9f5d-8c7aecb6bf66",
   "metadata": {},
   "outputs": [
    {
     "data": {
      "text/plain": [
       "[1, 2, 3, 4]"
      ]
     },
     "execution_count": 39,
     "metadata": {},
     "output_type": "execute_result"
    }
   ],
   "source": [
    "numbers = [1, 2, 3]\n",
    "numbers.append(4) # this is the most important\n",
    "numbers"
   ]
  },
  {
   "cell_type": "code",
   "execution_count": 44,
   "id": "439f9b0c-7241-4b14-88bf-282f5c24cb13",
   "metadata": {},
   "outputs": [
    {
     "data": {
      "text/plain": [
       "[1, 2, 3, [10, 11], 10, 11]"
      ]
     },
     "execution_count": 44,
     "metadata": {},
     "output_type": "execute_result"
    }
   ],
   "source": [
    "# 리스트의 항목 결합 - extend(list)\n",
    "new_numbers = [10, 11]\n",
    "numbers.extend(new_numbers)\n",
    "numbers"
   ]
  },
  {
   "cell_type": "code",
   "execution_count": 48,
   "id": "3bc24dd9-10de-4d7f-a6f0-8fea4f382ff9",
   "metadata": {},
   "outputs": [
    {
     "data": {
      "text/plain": [
       "[1, 2, 3]"
      ]
     },
     "execution_count": 48,
     "metadata": {},
     "output_type": "execute_result"
    }
   ],
   "source": [
    "numbers = [1, 2, 3]\n",
    "numbers.append(new_numbers)\n"
   ]
  },
  {
   "cell_type": "code",
   "execution_count": 50,
   "id": "f2208359-f091-4ac4-8f32-2940958e8d28",
   "metadata": {},
   "outputs": [
    {
     "ename": "ValueError",
     "evalue": "list.remove(x): x not in list",
     "output_type": "error",
     "traceback": [
      "\u001b[1;31m---------------------------------------------------------------------------\u001b[0m",
      "\u001b[1;31mValueError\u001b[0m                                Traceback (most recent call last)",
      "Cell \u001b[1;32mIn[50], line 1\u001b[0m\n\u001b[1;32m----> 1\u001b[0m numbers\u001b[38;5;241m.\u001b[39mremove([\u001b[38;5;241m10\u001b[39m, \u001b[38;5;241m11\u001b[39m])\n\u001b[0;32m      2\u001b[0m numbers\n",
      "\u001b[1;31mValueError\u001b[0m: list.remove(x): x not in list"
     ]
    }
   ],
   "source": []
  },
  {
   "cell_type": "code",
   "execution_count": 49,
   "id": "432e5e22-c6fb-4ae2-a2cf-ddf9f7260a41",
   "metadata": {},
   "outputs": [
    {
     "ename": "ValueError",
     "evalue": "list.remove(x): x not in list",
     "output_type": "error",
     "traceback": [
      "\u001b[1;31m---------------------------------------------------------------------------\u001b[0m",
      "\u001b[1;31mValueError\u001b[0m                                Traceback (most recent call last)",
      "Cell \u001b[1;32mIn[49], line 2\u001b[0m\n\u001b[0;32m      1\u001b[0m \u001b[38;5;66;03m# 항목의 삭제 - remove(item)\u001b[39;00m\n\u001b[1;32m----> 2\u001b[0m numbers\u001b[38;5;241m.\u001b[39mremove([\u001b[38;5;241m10\u001b[39m, \u001b[38;5;241m11\u001b[39m])\n\u001b[0;32m      3\u001b[0m numbers\n",
      "\u001b[1;31mValueError\u001b[0m: list.remove(x): x not in list"
     ]
    }
   ],
   "source": [
    "# 항목의 삭제 - remove(item)\n",
    "numbers.remove([10, 11])\n",
    "numbers"
   ]
  },
  {
   "cell_type": "code",
   "execution_count": null,
   "id": "23831dbd-0441-42f6-b782-1a1159c4eba9",
   "metadata": {},
   "outputs": [],
   "source": [
    "# 항목의 삭제 - pop(item)"
   ]
  },
  {
   "cell_type": "code",
   "execution_count": 52,
   "id": "eba4da47-ded3-4d62-b8b4-7374c39d312a",
   "metadata": {},
   "outputs": [
    {
     "ename": "IndexError",
     "evalue": "pop index out of range",
     "output_type": "error",
     "traceback": [
      "\u001b[1;31m---------------------------------------------------------------------------\u001b[0m",
      "\u001b[1;31mIndexError\u001b[0m                                Traceback (most recent call last)",
      "Cell \u001b[1;32mIn[52], line 1\u001b[0m\n\u001b[1;32m----> 1\u001b[0m numbers\u001b[38;5;241m.\u001b[39mpop(\u001b[38;5;241m2\u001b[39m)\n",
      "\u001b[1;31mIndexError\u001b[0m: pop index out of range"
     ]
    }
   ],
   "source": [
    "numbers.pop(2)"
   ]
  },
  {
   "cell_type": "markdown",
   "id": "e8207aea-c450-4e90-abae-78d906eba507",
   "metadata": {},
   "source": [
    "numbers"
   ]
  },
  {
   "cell_type": "code",
   "execution_count": 53,
   "id": "9477e7b9-58ac-4a55-829e-90e3a0e1ce63",
   "metadata": {},
   "outputs": [],
   "source": [
    "# 항목의 수 - count(item)"
   ]
  },
  {
   "cell_type": "code",
   "execution_count": 54,
   "id": "dc7624ed-1ebd-4029-9d1d-30edd24857e3",
   "metadata": {},
   "outputs": [
    {
     "data": {
      "text/plain": [
       "3"
      ]
     },
     "execution_count": 54,
     "metadata": {},
     "output_type": "execute_result"
    }
   ],
   "source": [
    "numbers = [1, 2, 3, 2, 5, 2]\n",
    "numbers.count(2)"
   ]
  },
  {
   "cell_type": "code",
   "execution_count": null,
   "id": "539478c0-bfaa-4895-aa40-0a83a1beb345",
   "metadata": {},
   "outputs": [],
   "source": [
    "# 항목의 인덱스 - index(item)"
   ]
  },
  {
   "cell_type": "code",
   "execution_count": 55,
   "id": "1296d461-6516-4f68-aa18-2d8d2f5ce041",
   "metadata": {},
   "outputs": [
    {
     "data": {
      "text/plain": [
       "4"
      ]
     },
     "execution_count": 55,
     "metadata": {},
     "output_type": "execute_result"
    }
   ],
   "source": [
    "numbers.index(5)"
   ]
  },
  {
   "cell_type": "code",
   "execution_count": null,
   "id": "9be4e3f9-c6f3-4d5d-97a3-286e14cb70b2",
   "metadata": {},
   "outputs": [],
   "source": [
    "# 정렬 - sort()"
   ]
  },
  {
   "cell_type": "code",
   "execution_count": 56,
   "id": "2fbc8c6c-89cb-498e-9b23-8aea4990d10d",
   "metadata": {},
   "outputs": [
    {
     "data": {
      "text/plain": [
       "[5, 3, 2, 2, 2, 1]"
      ]
     },
     "execution_count": 56,
     "metadata": {},
     "output_type": "execute_result"
    }
   ],
   "source": [
    "numbers.sort(reverse=True)\n",
    "numbers"
   ]
  },
  {
   "cell_type": "code",
   "execution_count": null,
   "id": "cfbaddc2-521c-4a15-b6ed-03fac7ceefe2",
   "metadata": {},
   "outputs": [],
   "source": [
    "# 항목을 역순으로 - reverse()"
   ]
  },
  {
   "cell_type": "code",
   "execution_count": 58,
   "id": "d7321785-232d-4619-8907-e665099448ba",
   "metadata": {},
   "outputs": [
    {
     "data": {
      "text/plain": [
       "[2, 5, 2, 3, 2, 1]"
      ]
     },
     "execution_count": 58,
     "metadata": {},
     "output_type": "execute_result"
    }
   ],
   "source": [
    "numbers = [1, 2, 3, 2, 5, 2]\n",
    "numbers.reverse()\n",
    "numbers"
   ]
  },
  {
   "cell_type": "code",
   "execution_count": 59,
   "id": "4057c43c-f739-4615-b10e-a99ec6aabf47",
   "metadata": {},
   "outputs": [
    {
     "data": {
      "text/plain": [
       "[2, 5, 2, 2, 1]"
      ]
     },
     "execution_count": 59,
     "metadata": {},
     "output_type": "execute_result"
    }
   ],
   "source": [
    "numbers.remove(3)\n",
    "numbers"
   ]
  },
  {
   "cell_type": "code",
   "execution_count": 60,
   "id": "7bf30d90-20fb-43c2-a56a-3c41332d7199",
   "metadata": {},
   "outputs": [
    {
     "data": {
      "text/plain": [
       "[2, 2, 2, 1]"
      ]
     },
     "execution_count": 60,
     "metadata": {},
     "output_type": "execute_result"
    }
   ],
   "source": [
    "del numbers[1]\n",
    "numbers"
   ]
  },
  {
   "cell_type": "code",
   "execution_count": 61,
   "id": "b95f7d67-c37e-4f0d-814c-09ede9fb8860",
   "metadata": {},
   "outputs": [
    {
     "data": {
      "text/plain": [
       "[1, 2, 3, 4]"
      ]
     },
     "execution_count": 61,
     "metadata": {},
     "output_type": "execute_result"
    }
   ],
   "source": [
    "numbers = [4, 3, 2, 1]\n",
    "numbers.sort()\n",
    "numbers"
   ]
  },
  {
   "cell_type": "code",
   "execution_count": 64,
   "id": "25d04720-e86b-43aa-88c9-e087357a5b65",
   "metadata": {},
   "outputs": [
    {
     "data": {
      "text/plain": [
       "[4, 5, 2, 1]"
      ]
     },
     "execution_count": 64,
     "metadata": {},
     "output_type": "execute_result"
    }
   ],
   "source": [
    "numbers = [4, 3, 2, 1]\n",
    "sorted_numbers = sorted(numbers)\n",
    "numbers"
   ]
  },
  {
   "cell_type": "markdown",
   "id": "c2859e4d-6442-447b-a733-6dc7657fcc8f",
   "metadata": {},
   "source": [
    "## 7.5 리스트의 메소드와 여러 기능들\n",
    "- 항목 삭제: remove(item), pop(index)\n",
    "- del\n",
    "- 항목의 인덱스 찾기: index(item)\n",
    "- 정렬하기: sort(), sorted()\n"
   ]
  },
  {
   "cell_type": "code",
   "execution_count": null,
   "id": "b2fb89c8-b409-4cd0-92ab-b99aa06d7c11",
   "metadata": {},
   "outputs": [],
   "source": []
  },
  {
   "cell_type": "markdown",
   "id": "ad4ed7d7-5948-41a1-83d0-80e08cb28321",
   "metadata": {},
   "source": [
    "**문자열도 리스트와 유사하다**   \n",
    "\n",
    "- 문자열을 리스트로 바꾸기\n",
    "- 문자열의 길이: len()\n",
    "- 인덱싱, 슬라이싱\n",
    "- 문자열 합치기\n",
    "- 문자열의 반복\n",
    "- 문자열 분리하기: split()\n"
   ]
  },
  {
   "cell_type": "code",
   "execution_count": 71,
   "id": "deb4ae07-9c4c-4d51-9ca4-971e6b873aee",
   "metadata": {},
   "outputs": [
    {
     "data": {
      "text/plain": [
       "13"
      ]
     },
     "execution_count": 71,
     "metadata": {},
     "output_type": "execute_result"
    }
   ],
   "source": [
    "s = 'Python is fun'\n",
    "len(s)"
   ]
  },
  {
   "cell_type": "code",
   "execution_count": 73,
   "id": "8be5f3c9-ce68-4258-9c2d-50301b6da355",
   "metadata": {},
   "outputs": [
    {
     "data": {
      "text/plain": [
       "str"
      ]
     },
     "execution_count": 73,
     "metadata": {},
     "output_type": "execute_result"
    }
   ],
   "source": [
    "type(s)"
   ]
  },
  {
   "cell_type": "code",
   "execution_count": 72,
   "id": "b4224094-caee-4c26-a1a5-ff19079effa8",
   "metadata": {},
   "outputs": [
    {
     "data": {
      "text/plain": [
       "['P', 'y', 't', 'h', 'o', 'n', ' ', 'i', 's', ' ', 'f', 'u', 'n']"
      ]
     },
     "execution_count": 72,
     "metadata": {},
     "output_type": "execute_result"
    }
   ],
   "source": [
    "list(s)"
   ]
  },
  {
   "cell_type": "code",
   "execution_count": 66,
   "id": "53a10328-fdc6-4ff8-87a5-30c0c7ea815e",
   "metadata": {},
   "outputs": [
    {
     "data": {
      "text/plain": [
       "'fun'"
      ]
     },
     "execution_count": 66,
     "metadata": {},
     "output_type": "execute_result"
    }
   ],
   "source": [
    "s[10:]"
   ]
  },
  {
   "cell_type": "code",
   "execution_count": 68,
   "id": "91939b2d-eccb-4f04-bf0c-29deddce2187",
   "metadata": {},
   "outputs": [],
   "source": [
    "s1, s2, s3 = s.split()"
   ]
  },
  {
   "cell_type": "code",
   "execution_count": 69,
   "id": "8d2e6058-03a8-4195-9505-e561dc731e10",
   "metadata": {},
   "outputs": [
    {
     "data": {
      "text/plain": [
       "'Pythonis'"
      ]
     },
     "execution_count": 69,
     "metadata": {},
     "output_type": "execute_result"
    }
   ],
   "source": [
    "s1 + s2"
   ]
  },
  {
   "attachments": {},
   "cell_type": "markdown",
   "id": "1d1134d8-4108-4314-b2a3-188b499d8de6",
   "metadata": {},
   "source": [
    "**도전문제 7.3**\n",
    "\n",
    "![image.png](7-5.png)"
   ]
  },
  {
   "cell_type": "code",
   "execution_count": null,
   "id": "94f50da6-58c9-4c75-9f06-0a59fea53fc7",
   "metadata": {},
   "outputs": [],
   "source": []
  },
  {
   "cell_type": "markdown",
   "id": "e20a3e44-932a-42c4-8dd5-4b0082115527",
   "metadata": {},
   "source": [
    "**도전문제 7.5:** 간단한 산수 문제 만들기\n",
    "```\n",
    "eval('100 + 200')\n",
    "```"
   ]
  },
  {
   "cell_type": "code",
   "execution_count": 74,
   "id": "6fbc1bbd-29f8-4eb5-9369-fe10b1e56ffb",
   "metadata": {},
   "outputs": [
    {
     "data": {
      "text/plain": [
       "300"
      ]
     },
     "execution_count": 74,
     "metadata": {},
     "output_type": "execute_result"
    }
   ],
   "source": [
    "eval('100 + 200')"
   ]
  },
  {
   "cell_type": "markdown",
   "id": "fdd1da6d-65f0-4666-b421-5449e54fda99",
   "metadata": {},
   "source": [
    "## 7.7 바퀴의 재발명?\n",
    "> 이전에 다른 사람들에의해 만들어졌거나 최적화된 기초적인 방식(=바퀴)을 그\n",
    "대로 활용하는 것이 새로게 다시 만드는(=바퀴를 재발명) 시도보다 더 나은 방법이라\n",
    "는 의미를 가지고 있다. 즉, 굳이 for 문과 비교문을 사용해서 가장 큰 값과, 가장 작\n",
    "은 값을 얻는 시도를 할 필요는 없을 것이다."
   ]
  },
  {
   "cell_type": "code",
   "execution_count": 79,
   "id": "f954e2fc-8f5f-41fb-bb5c-13e0fb9c297d",
   "metadata": {},
   "outputs": [
    {
     "data": {
      "text/plain": [
       "10"
      ]
     },
     "execution_count": 79,
     "metadata": {},
     "output_type": "execute_result"
    }
   ],
   "source": [
    "numbers = [1, 10, 5, 6, 8]\n",
    "\n",
    "def max(numbers):\n",
    "    max_num = numbers[0]\n",
    "    for n in numbers:\n",
    "        if n > max_num:\n",
    "            max_num = n\n",
    "    return max_num\n",
    "\n",
    "max_numbers(numbers)"
   ]
  },
  {
   "cell_type": "code",
   "execution_count": 80,
   "id": "7c50d36c-40d0-4493-b09c-c42feb18acbd",
   "metadata": {},
   "outputs": [
    {
     "data": {
      "text/plain": [
       "10"
      ]
     },
     "execution_count": 80,
     "metadata": {},
     "output_type": "execute_result"
    }
   ],
   "source": [
    "max(numbers)"
   ]
  },
  {
   "cell_type": "markdown",
   "id": "2e30c098-f7b4-4102-b0aa-9b0bb7bb28e7",
   "metadata": {},
   "source": [
    "## 7.8 리스트의 객체의 생성과 참조라는 깊이있는 개념"
   ]
  },
  {
   "cell_type": "code",
   "execution_count": 3,
   "id": "c7bc15e8-beff-463f-9854-7d85e3a39308",
   "metadata": {},
   "outputs": [
    {
     "data": {
      "text/plain": [
       "2552023281856"
      ]
     },
     "execution_count": 3,
     "metadata": {},
     "output_type": "execute_result"
    }
   ],
   "source": [
    "alist = ['Kim', 'Park', 'Lee', 'Hong']\n",
    "id(alist)"
   ]
  },
  {
   "cell_type": "code",
   "execution_count": 4,
   "id": "3d87a6f5-b6e1-4004-b67a-6c79670a7c7c",
   "metadata": {},
   "outputs": [
    {
     "data": {
      "text/plain": [
       "['Kim', 'Park', 'Lee', 'Hong']"
      ]
     },
     "execution_count": 4,
     "metadata": {},
     "output_type": "execute_result"
    }
   ],
   "source": [
    "blist = alist\n",
    "blist"
   ]
  },
  {
   "cell_type": "code",
   "execution_count": 5,
   "id": "6a1e91ab-1c91-4114-a99b-2d430baa85b9",
   "metadata": {},
   "outputs": [
    {
     "data": {
      "text/plain": [
       "2552023281856"
      ]
     },
     "execution_count": 5,
     "metadata": {},
     "output_type": "execute_result"
    }
   ],
   "source": [
    "id(blist)"
   ]
  },
  {
   "cell_type": "code",
   "execution_count": 6,
   "id": "c9446f05-81f8-4158-b3c3-409e2348ac7a",
   "metadata": {},
   "outputs": [
    {
     "data": {
      "text/plain": [
       "['Kim', 'Choi', 'Lee', 'Hong']"
      ]
     },
     "execution_count": 6,
     "metadata": {},
     "output_type": "execute_result"
    }
   ],
   "source": [
    "blist[1] = 'Choi'\n",
    "blist"
   ]
  },
  {
   "cell_type": "code",
   "execution_count": 7,
   "id": "c7c84495-0fc4-4f97-b63c-785f6896c746",
   "metadata": {},
   "outputs": [
    {
     "data": {
      "text/plain": [
       "['Kim', 'Choi', 'Lee', 'Hong']"
      ]
     },
     "execution_count": 7,
     "metadata": {},
     "output_type": "execute_result"
    }
   ],
   "source": [
    "alist"
   ]
  },
  {
   "cell_type": "code",
   "execution_count": 13,
   "id": "a9aeed0c-702a-44fb-bd9e-acef314dcf9d",
   "metadata": {},
   "outputs": [
    {
     "data": {
      "text/plain": [
       "(2311408944000, 2311408944000)"
      ]
     },
     "execution_count": 13,
     "metadata": {},
     "output_type": "execute_result"
    }
   ],
   "source": [
    "id(alist), id(blist)"
   ]
  },
  {
   "cell_type": "code",
   "execution_count": 8,
   "id": "c359603f-5f3e-4845-a446-05cacc46869a",
   "metadata": {},
   "outputs": [
    {
     "data": {
      "text/plain": [
       "['Kim', 'Choi', 'Lee', 'Hong']"
      ]
     },
     "execution_count": 8,
     "metadata": {},
     "output_type": "execute_result"
    }
   ],
   "source": [
    "clist = alist[:]\n",
    "clist"
   ]
  },
  {
   "cell_type": "code",
   "execution_count": 15,
   "id": "85da58ed-0331-49e3-b8bb-59323e41c440",
   "metadata": {},
   "outputs": [],
   "source": [
    "dlist = alist.copy()"
   ]
  },
  {
   "cell_type": "code",
   "execution_count": 16,
   "id": "8a5e98a9-2cea-4b4b-8e6f-ac069a20a9de",
   "metadata": {},
   "outputs": [
    {
     "data": {
      "text/plain": [
       "(2311408944000, 2311408036992)"
      ]
     },
     "execution_count": 16,
     "metadata": {},
     "output_type": "execute_result"
    }
   ],
   "source": [
    "id(alist), id(dlist)"
   ]
  },
  {
   "cell_type": "code",
   "execution_count": null,
   "id": "7be34706-4a04-43c3-997d-5035e7710034",
   "metadata": {},
   "outputs": [],
   "source": []
  },
  {
   "cell_type": "markdown",
   "id": "aeb8a8b0-8e5c-48c5-a8b7-d3be204680e2",
   "metadata": {},
   "source": [
    "## 7.9 리스트 함축(list comprehension)\n",
    "- 리스트 함축은 코드를 짧고 간결하게 만드는데 사용된다\n",
    "    - 10보다 작은 정수의 제곱을 담은 리스트를 만들자.\n",
    "    - ['welcome', 'to', 'the', 'python', 'world']에서 각 항목의 첫 문자만으로 구성된 리스트를 만들자.\n",
    "    - ['welcome', 'to', 'the', 'python', 'world']를 모두 대문자로 바꾸자\n",
    "- 조건이 붙는 리스트 함축표현도 가능하다\n",
    "    - ['Hello', '12', 'World', '678']을 정수로 바꾸자."
   ]
  },
  {
   "cell_type": "code",
   "execution_count": 89,
   "id": "28ad7480-f668-4832-ac9c-d48afddd8106",
   "metadata": {},
   "outputs": [
    {
     "data": {
      "text/plain": [
       "[0, 1, 4, 9, 16, 25, 36, 49, 64, 81]"
      ]
     },
     "execution_count": 89,
     "metadata": {},
     "output_type": "execute_result"
    }
   ],
   "source": [
    "square = []\n",
    "for i in range(10):\n",
    "    square.append(i**2)\n",
    "\n",
    "square"
   ]
  },
  {
   "cell_type": "code",
   "execution_count": 90,
   "id": "5c2eb3c5-2c78-44b7-84c2-0d6ef1b96c08",
   "metadata": {},
   "outputs": [
    {
     "data": {
      "text/plain": [
       "[0, 1, 4, 9, 16, 25, 36, 49, 64, 81]"
      ]
     },
     "execution_count": 90,
     "metadata": {},
     "output_type": "execute_result"
    }
   ],
   "source": [
    "square = [i**2 for i in range(10)]\n",
    "square"
   ]
  },
  {
   "attachments": {},
   "cell_type": "markdown",
   "id": "5c537d88-6267-4ad6-bf17-3191bed486ad",
   "metadata": {},
   "source": [
    "## 7.10 튜플\n",
    "- 한번 생성하면 그 값을 고칠 수 없는 자료형\n",
    "    - 가변속성(mutable), 불변속성(immutable)\n",
    "![image.png](7-6.png)"
   ]
  },
  {
   "cell_type": "code",
   "execution_count": 9,
   "id": "ecf5d468-baaa-4c42-8413-05a467cd8088",
   "metadata": {},
   "outputs": [
    {
     "ename": "TypeError",
     "evalue": "'str' object does not support item assignment",
     "output_type": "error",
     "traceback": [
      "\u001b[1;31m---------------------------------------------------------------------------\u001b[0m",
      "\u001b[1;31mTypeError\u001b[0m                                 Traceback (most recent call last)",
      "Cell \u001b[1;32mIn[9], line 2\u001b[0m\n\u001b[0;32m      1\u001b[0m string \u001b[38;5;241m=\u001b[39m \u001b[38;5;124m'\u001b[39m\u001b[38;5;124mabcde\u001b[39m\u001b[38;5;124m'\u001b[39m\n\u001b[1;32m----> 2\u001b[0m string[\u001b[38;5;241m-\u001b[39m\u001b[38;5;241m1\u001b[39m] \u001b[38;5;241m=\u001b[39m \u001b[38;5;124m'\u001b[39m\u001b[38;5;124mq\u001b[39m\u001b[38;5;124m'\u001b[39m\n",
      "\u001b[1;31mTypeError\u001b[0m: 'str' object does not support item assignment"
     ]
    }
   ],
   "source": [
    "string = 'abcde'\n",
    "string[-1] = 'q' # immutable"
   ]
  },
  {
   "cell_type": "code",
   "execution_count": null,
   "id": "1f5b51c9-4296-4ab9-8db4-c699616ea9f4",
   "metadata": {},
   "outputs": [],
   "source": [
    "list = list(string)\n",
    "list[-1] = 'q' # "
   ]
  },
  {
   "cell_type": "markdown",
   "id": "a55e5019-14c6-46f2-bd2e-a829cb12da99",
   "metadata": {},
   "source": [
    "- 튜플 만들기\n",
    "- 인덱싱, 슬라이싱\n",
    "- 함수는 튜플을 돌려줄 수 있다"
   ]
  },
  {
   "cell_type": "code",
   "execution_count": 17,
   "id": "61d55773-6e05-4037-bae9-ec018a7ecf4f",
   "metadata": {},
   "outputs": [],
   "source": [
    "colors = ('red', 'green', 'blue')"
   ]
  },
  {
   "cell_type": "code",
   "execution_count": 10,
   "id": "17708890-d9f5-4138-83bc-157398c287c5",
   "metadata": {},
   "outputs": [
    {
     "data": {
      "text/plain": [
       "['red', 'green', 'blue']"
      ]
     },
     "execution_count": 10,
     "metadata": {},
     "output_type": "execute_result"
    }
   ],
   "source": [
    "color_list = ['red', 'green', 'blue']\n",
    "color_list"
   ]
  },
  {
   "cell_type": "code",
   "execution_count": 11,
   "id": "ff4b6cf3-0d26-439d-bc21-403d6ce4ecb5",
   "metadata": {},
   "outputs": [
    {
     "data": {
      "text/plain": [
       "('red', 'green', 'blue')"
      ]
     },
     "execution_count": 11,
     "metadata": {},
     "output_type": "execute_result"
    }
   ],
   "source": [
    "colors = ('red', 'green', 'blue') # turple\n",
    "colors"
   ]
  },
  {
   "cell_type": "code",
   "execution_count": 13,
   "id": "1fbc7a00-107d-4e47-abc1-e4a726e3495f",
   "metadata": {},
   "outputs": [
    {
     "data": {
      "text/plain": [
       "('green', 'blue')"
      ]
     },
     "execution_count": 13,
     "metadata": {},
     "output_type": "execute_result"
    }
   ],
   "source": [
    "colors[1:]"
   ]
  },
  {
   "cell_type": "code",
   "execution_count": 14,
   "id": "0dc01693-69e6-4858-889e-7d59af20b5da",
   "metadata": {},
   "outputs": [
    {
     "ename": "TypeError",
     "evalue": "'tuple' object does not support item assignment",
     "output_type": "error",
     "traceback": [
      "\u001b[1;31m---------------------------------------------------------------------------\u001b[0m",
      "\u001b[1;31mTypeError\u001b[0m                                 Traceback (most recent call last)",
      "Cell \u001b[1;32mIn[14], line 1\u001b[0m\n\u001b[1;32m----> 1\u001b[0m colors[\u001b[38;5;241m1\u001b[39m] \u001b[38;5;241m=\u001b[39m \u001b[38;5;124m'\u001b[39m\u001b[38;5;124mblack\u001b[39m\u001b[38;5;124m'\u001b[39m\n",
      "\u001b[1;31mTypeError\u001b[0m: 'tuple' object does not support item assignment"
     ]
    }
   ],
   "source": [
    "colors[1] = 'black'"
   ]
  },
  {
   "cell_type": "code",
   "execution_count": 18,
   "id": "6682887b-e336-477f-8269-d8fe343f00e2",
   "metadata": {},
   "outputs": [
    {
     "data": {
      "text/plain": [
       "(10, 5)"
      ]
     },
     "execution_count": 18,
     "metadata": {},
     "output_type": "execute_result"
    }
   ],
   "source": [
    "def min_max(n1, n2):\n",
    "    if n1 > n2:\n",
    "        return n1, n2\n",
    "    else:\n",
    "        return n2, n1\n",
    "\n",
    "min_max(10, 5)"
   ]
  },
  {
   "cell_type": "markdown",
   "id": "b5682ec2-a53a-4305-a82d-4d6019c96bff",
   "metadata": {},
   "source": [
    "## 7.11 zip() 함수를 사용한 집적화\n",
    "- 집적화:  zip() 함수는 다음과 같이 여러 개의 반\n",
    "복가능 자료형을 아을 모아서 하나의 반복가능 자료형을 만들 수\r\n",
    "있다"
   ]
  },
  {
   "cell_type": "code",
   "execution_count": null,
   "id": "2bd9c6c4-7708-4799-aab2-1d2731396e2e",
   "metadata": {},
   "outputs": [],
   "source": []
  },
  {
   "cell_type": "code",
   "execution_count": 20,
   "id": "ca1394fb-d509-408e-9dc3-a0f78275107b",
   "metadata": {},
   "outputs": [],
   "source": [
    "cities = ['Seoul', 'Busan', 'Incheon', 'Kwangju', 'Deajeon']\n",
    "pops   = [  9765,    3441,      2954,      1501,      1531]"
   ]
  },
  {
   "cell_type": "code",
   "execution_count": 21,
   "id": "b033a467-10ef-4be1-90aa-edca71cbd0b3",
   "metadata": {},
   "outputs": [
    {
     "data": {
      "text/plain": [
       "[('Seoul', 9765),\n",
       " ('Busan', 3441),\n",
       " ('Incheon', 2954),\n",
       " ('Kwangju', 1501),\n",
       " ('Deajeon', 1531)]"
      ]
     },
     "execution_count": 21,
     "metadata": {},
     "output_type": "execute_result"
    }
   ],
   "source": [
    "list(zip(cities, pops))"
   ]
  },
  {
   "cell_type": "code",
   "execution_count": 22,
   "id": "e0939763-fcac-4587-a475-04d44b5dc690",
   "metadata": {},
   "outputs": [
    {
     "name": "stdout",
     "output_type": "stream",
     "text": [
      "(cities[i]) 시의 인구는 9765천명입니다.\n",
      "(cities[i]) 시의 인구는 3441천명입니다.\n",
      "(cities[i]) 시의 인구는 2954천명입니다.\n",
      "(cities[i]) 시의 인구는 1501천명입니다.\n",
      "(cities[i]) 시의 인구는 1531천명입니다.\n"
     ]
    }
   ],
   "source": [
    "for i in range(len(cities)):\n",
    "    print(f\"(cities[i]) 시의 인구는 {pops[i]}천명입니다.\")"
   ]
  },
  {
   "cell_type": "code",
   "execution_count": 24,
   "id": "3798f89d-519f-44bc-84ed-378a1bcbead4",
   "metadata": {},
   "outputs": [
    {
     "data": {
      "text/plain": [
       "[1, 2, 3, 4, 6, 7, 8, 9]"
      ]
     },
     "execution_count": 24,
     "metadata": {},
     "output_type": "execute_result"
    }
   ],
   "source": [
    "alist = [1, 2, 3, 4]\n",
    "blist = [6, 7, 8, 9]\n",
    "alist + blist\n",
    "# alist + blist => [7, 9, 11, 13]"
   ]
  },
  {
   "cell_type": "code",
   "execution_count": 26,
   "id": "fa99a0bc-126a-40e1-b004-56927edd16a5",
   "metadata": {},
   "outputs": [
    {
     "data": {
      "text/plain": [
       "[7, 9, 11, 13]"
      ]
     },
     "execution_count": 26,
     "metadata": {},
     "output_type": "execute_result"
    }
   ],
   "source": [
    "[i + j for i, j in zip(alist, blist)]"
   ]
  },
  {
   "cell_type": "markdown",
   "id": "164aa85f-e6a0-4a96-9141-a8e3879f7d31",
   "metadata": {},
   "source": [
    "**도전문제 7.6**\n",
    "```\n",
    "['한국', '미국', '중국', '필리핀']\n",
    "['서울', '워싱턴DC', '베이징', '마닐라']\n",
    "[100.2, 9834, 9579, 300]\n",
    "\n",
    "- (나라이름, 면적)\n",
    "- 한국의 수도는 서울이고 면적은 100.2km2입니다"
   ]
  },
  {
   "cell_type": "code",
   "execution_count": null,
   "id": "1c84ef13-8405-41bd-80c7-8b631b445db7",
   "metadata": {},
   "outputs": [],
   "source": []
  },
  {
   "cell_type": "markdown",
   "id": "6197439d-1b1e-4224-9599-40f1356307bc",
   "metadata": {},
   "source": [
    "## 7.12 클래스와 객체가 무엇인가\n",
    "- 객체지향 프로그래밍object \n",
    "oriented programmin\n",
    "    - 클래스(class)\n",
    "    - 인스턴스 객체(instance object)\n",
    "- 파이썬은 ‘객체지향 프로그래밍 언어’이다. 그리고 이미 살펴본 자료형, 함수, 모듈은 \n",
    "모두 객체이다\n",
    "- 특정한 클래스에 속한 객체들이 사용할 수 있는 함수들을 해당 클래스\n",
    "의 메소드method라고 부른.다. "
   ]
  },
  {
   "cell_type": "code",
   "execution_count": 27,
   "id": "16ec9b52-b49e-4637-a6a5-94f15989a45d",
   "metadata": {},
   "outputs": [],
   "source": [
    "class Dog:\n",
    "    def __init__(self, name, weight, height):\n",
    "        self.name = name\n",
    "        self.weight = weight\n",
    "        self.height = height\n",
    "\n",
    "    def walk(self, speed):\n",
    "        print(f'{self.name}은 평균 {speed}로 걷는다')\n",
    "        \n",
    "    def eat(self, food):\n",
    "        print(f'{self.name}은 {food}를 먹는다')"
   ]
  },
  {
   "cell_type": "code",
   "execution_count": null,
   "id": "7646b8a3-86b3-4aa5-a0a8-9f1f9f82e9a9",
   "metadata": {},
   "outputs": [],
   "source": []
  }
 ],
 "metadata": {
  "kernelspec": {
   "display_name": "Python 3 (ipykernel)",
   "language": "python",
   "name": "python3"
  },
  "language_info": {
   "codemirror_mode": {
    "name": "ipython",
    "version": 3
   },
   "file_extension": ".py",
   "mimetype": "text/x-python",
   "name": "python",
   "nbconvert_exporter": "python",
   "pygments_lexer": "ipython3",
   "version": "3.11.7"
  }
 },
 "nbformat": 4,
 "nbformat_minor": 5
}
