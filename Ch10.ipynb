{
 "cells": [
  {
   "cell_type": "markdown",
   "id": "bc09b0fd-6a19-441c-a5f4-81bb9d123303",
   "metadata": {},
   "source": [
    " \n"
   ]
  },
  {
   "cell_type": "markdown",
   "id": "fe600f49-f9cd-42a5-8802-5a48ca852283",
   "metadata": {},
   "source": [
    "# Ch10 넘파이로 수치 데이터를 처리해보자\n",
    "\n",
    "10.1 리스트보다 넘파이의 배열이 훨~씬~ 빠르다   \n",
    "10.2 넘파이의 별칭 만들기, 그리고 간단한 배열 연산하   \n",
    "10.3 강력한 넘파이 배열의 연산을 알아보자  \n",
    "- LAB 10-1 ndarray 객체를 생성하고 속성을 알아보자   \n",
    "- LAB 10-2 여러 사람의 BMI를 빠르고 간편하게 계산하기\n",
    "  \n",
    "10.4 인덱싱과 슬라이싱을 넘파이에서도 할 수 있다   \n",
    "10.5 2차원 배열의 인덱싱   \n",
    "10.6 넘파이 스타일의 2차원 배열 슬라이싱   \n",
    "- LAB 10-3 2차원 배열 연습하기   \n",
    "- LAB 10-4 넘파이 배열의 형태를 알아내고 슬라이싱하여 연산하기\n",
    "  \n",
    "10.7 arange() 함수와 range() 함수의 비교   \n",
    "- LAB 10-5 2차원 배열에서 특정 조건을 만족하는 행만 추출하기\n",
    "  \n",
    "10.8 linspace() 함수와 logspace() 함수   \n",
    "10.9 난수를 생성해보자   \n",
    "10.10 정규 분포 난수 생성   \n",
    "- LAB 10-6 배열의 형태를 바꾸어 보자   \n",
    "- LAB 10-7 평균과 중앙값 계산 연습\n",
    "  \n",
    "10.11 상관관계 계산하기 "
   ]
  },
  {
   "cell_type": "markdown",
   "id": "7acb0586-9e9e-431d-9d85-a157c96aadff",
   "metadata": {},
   "source": [
    "**이 장에서 배울 것들**    \n",
    "\n",
    "넘파이를 사용하는 이유를 알아봅시다.   \n",
    "넘파이가 제공하는 다차원 배열의 속성에 대하여 살펴보도록 합시다.    \n",
    "넘파이의 강력한 기능을 직접 사용해 보며 익혀 봅시다.   \n",
    "넘파이로 각종 확률 분포에서 난수를 생성해 데이터를 생성해 봅시다.    \n",
    "고차원 배열의 인덱싱 기법에 대해서도 익숙해져 봅시다.   \n",
    "넘파이가 제공하는 데이터 분석 함수를 살펴봅시다.   \n",
    "다수 변수 간의 상관관계를 계산하는 일도 해 봅시다.    \n"
   ]
  },
  {
   "cell_type": "markdown",
   "id": "38333e20-de37-4c90-b6fc-5734474320ff",
   "metadata": {},
   "source": [
    "## 10.1 리스트보다 넘파이의 배열이 훨~씬~ 빠르다\n",
    "\n",
    "- 데이터 과학자들은 기본 리스트 대신에 넘파이Numpy를 선호한다.\n",
    "- 넘파이는 대용량의 배열과 행렬 연산을 빠르게 수행하며, 고차원적인 수학 연산자와 함수를 포함하고 있는 파이썬 라이브러리이다.\n",
    "- 파이썬의 리스트에 비하여 처리속도가 매우 빠름\n",
    "- 데이터 분석이나 기계 학습 프로젝트를 수행한다면 넘파이에 대한 확실한 이해가 필수적이다.\n",
    "- 데이터 분석을 위한 패키지인 판다스Pandas나 기계학습을 위한 Scikit-learn, Tensorflow 등이 넘파이를 기반으로 작동한다."
   ]
  },
  {
   "cell_type": "code",
   "execution_count": null,
   "id": "45339502-37d6-4d9a-b6da-2eee0cf002e8",
   "metadata": {},
   "outputs": [],
   "source": []
  },
  {
   "attachments": {},
   "cell_type": "markdown",
   "id": "78f7a831-ef54-43f1-8865-f6bd97c0a984",
   "metadata": {},
   "source": [
    "- 넘파이의 핵심적인 객체는 다차원 배열이다. 예를 들어서 정수들의 2차원 배열(테이블)을 넘파이를 이용해서 생성할 수 있다. 배열의 각 요소는 인덱스index라고 불리는 정수들로 참조된다.\n",
    "- 넘파이에서 차원은 축axis이라고도 한다.\r\n",
    "\n",
    "![276-2.png](276-2.jpg)"
   ]
  },
  {
   "cell_type": "code",
   "execution_count": null,
   "id": "9088b433-0ccb-4435-b1fa-07cef293a133",
   "metadata": {},
   "outputs": [],
   "source": [
    "import numpy as np \n",
    "\n",
    "x = np.array([2, 3, 4]) # 1차원 배열(array), 벡터(vector)\n",
    "x"
   ]
  },
  {
   "cell_type": "code",
   "execution_count": null,
   "id": "8c4bf976-b1ba-448b-a576-e8290c88bd33",
   "metadata": {},
   "outputs": [],
   "source": [
    "y = np.array([[2, 3, 4], [5, 6, 7]]) # 2 차원 배열, 행렬(matrix)\n",
    "y"
   ]
  },
  {
   "cell_type": "code",
   "execution_count": null,
   "id": "8591a61e-9e9d-4a96-8fd3-a47b7500b7c3",
   "metadata": {},
   "outputs": [],
   "source": [
    "import numpy\n",
    "numpy.array(3)"
   ]
  },
  {
   "cell_type": "code",
   "execution_count": null,
   "id": "3fc8f12d-6fae-47a7-a995-8b153f3ea3e7",
   "metadata": {},
   "outputs": [],
   "source": [
    "array(3)"
   ]
  },
  {
   "cell_type": "code",
   "execution_count": null,
   "id": "529933a6-e5ff-4266-8681-572e3285bbf9",
   "metadata": {},
   "outputs": [],
   "source": [
    "z = np.array([[[2, 3, 4], [6, 7, 8], [2, 3,4], [6, 7, 8],\n",
    "               [2, 3, 4], [6, 7, 8], [2, 3,4], [6, 7, 8]]])\n",
    "z"
   ]
  },
  {
   "cell_type": "code",
   "execution_count": null,
   "id": "06fe55cb-e6af-4fa2-94ad-0c7fd03a3e6e",
   "metadata": {},
   "outputs": [],
   "source": []
  },
  {
   "cell_type": "code",
   "execution_count": null,
   "id": "4c95e998-6be6-4203-ae62-d5cbcdc77ef3",
   "metadata": {},
   "outputs": [],
   "source": [
    "!pip install numpy"
   ]
  },
  {
   "cell_type": "code",
   "execution_count": null,
   "id": "875f49eb-60c9-4c99-b720-169b51ac3636",
   "metadata": {},
   "outputs": [],
   "source": []
  },
  {
   "cell_type": "markdown",
   "id": "03e2d2a8-fa4a-454c-bbcf-ab3cc88f3951",
   "metadata": {},
   "source": [
    "**리스트와 넘파이 배열은 무엇이 다른가**\n",
    "- 넘파이는 성능이 우수한 ndarray 객체를 제공한다.\n",
    "- 전통적으로 배열array은 동일한 자료형을 가진 데이터를 연속적으로 저장한다. \n",
    "- 파이썬의 리스트는 동일하지 않은 자료형을 가진 항목들을 담을 수 있다. \n",
    "- ndarray의 장점을 정리하면 아래와 같다.\n",
    "    - C언어를 기반으로 작성. 빠르고 적은 메모리 점유\n",
    "    - 배열을 이용한 수학적 연산 제공\n",
    "    - 다양한 연산자와 함수 제공\n"
   ]
  },
  {
   "cell_type": "markdown",
   "id": "c56e881b-7472-4856-b347-c35c184fc4bd",
   "metadata": {},
   "source": [
    "**리스트와 넘파이 배열은 무엇이 다른가**"
   ]
  },
  {
   "cell_type": "code",
   "execution_count": null,
   "id": "3bf44042-75c5-44b2-a5e0-8f6e89eb4253",
   "metadata": {},
   "outputs": [],
   "source": [
    "mid_scores = [70, 70, 80]\n",
    "final_scores = [70, 80, 90]\n",
    "\n",
    "mid_scores + final_scores"
   ]
  },
  {
   "cell_type": "code",
   "execution_count": null,
   "id": "ea095b59-9055-488a-89be-5c4536442afe",
   "metadata": {},
   "outputs": [],
   "source": [
    "[x + y for x, y in zip(mid_scores, final_scores)]"
   ]
  },
  {
   "cell_type": "markdown",
   "id": "57fda292-3633-45c4-8d6e-08742598605e",
   "metadata": {},
   "source": [
    "## 10.2 넘파이의 별칭 만들기, 그리고 간단한 배열 연산하기"
   ]
  },
  {
   "cell_type": "code",
   "execution_count": null,
   "id": "2f82e400-82b1-4c00-856c-3eab53777788",
   "metadata": {},
   "outputs": [],
   "source": [
    "import numpy as np\n",
    "\n",
    "mid_scores = np.array([70, 70, 80])\n",
    "final_scores = np.array([70, 80, 90])\n",
    "\n",
    "mid_scores + final_scores"
   ]
  },
  {
   "cell_type": "markdown",
   "id": "89282c02-dcd2-4941-abe8-906b1f64cba6",
   "metadata": {},
   "source": [
    "**도전문제 10.1**\n",
    "```\n",
    "a = np.arrray(range(1, 11))\n",
    "b = np.array(range(10, 101, 10))\n",
    "b + a, b - a, b * a, b / a\n",
    "```"
   ]
  },
  {
   "cell_type": "markdown",
   "id": "1d5879c5-ec3a-4b74-bb2b-0f7282805d57",
   "metadata": {},
   "source": [
    "**다차원 배열ndarray의 속성**"
   ]
  },
  {
   "cell_type": "code",
   "execution_count": null,
   "id": "7cddd00f-26d8-4b72-8af7-5d2d22224ef2",
   "metadata": {},
   "outputs": [],
   "source": [
    "import numpy as np\n",
    "\n",
    "a = np.array(range(1, 11))\n",
    "b = np.array(range(10, 101, 10))\n",
    "b + a, b - a, b * a, b / a"
   ]
  },
  {
   "cell_type": "code",
   "execution_count": null,
   "id": "c326fc18-1c98-4d7e-9d2d-a68897841abd",
   "metadata": {},
   "outputs": [],
   "source": [
    "a = np.array([1, 2, 3])\n",
    "b = np.array([2, 4])\n",
    "a + b"
   ]
  },
  {
   "cell_type": "code",
   "execution_count": null,
   "id": "54063c18-d644-49af-9cbc-da7471dc6f2c",
   "metadata": {},
   "outputs": [],
   "source": [
    "a = np.array([1, 2, 3])"
   ]
  },
  {
   "cell_type": "code",
   "execution_count": null,
   "id": "ec9e25f7-84db-44c4-808b-379071d14863",
   "metadata": {},
   "outputs": [],
   "source": [
    "# 차원(dimension)\n",
    "x.ndim"
   ]
  },
  {
   "cell_type": "code",
   "execution_count": null,
   "id": "c220c933-e6b7-431d-9f16-e4d3c38dc870",
   "metadata": {},
   "outputs": [],
   "source": [
    "# 자료형(type)\n",
    "type(z)"
   ]
  },
  {
   "cell_type": "code",
   "execution_count": null,
   "id": "43e86697-3cb5-4f62-9295-b1bacb20c9fa",
   "metadata": {},
   "outputs": [],
   "source": [
    "# 배열의 형태(shape)\n",
    "y.shape"
   ]
  },
  {
   "cell_type": "code",
   "execution_count": null,
   "id": "ad81e5bf-4fa0-4438-b9ef-3ecfb1727313",
   "metadata": {},
   "outputs": [],
   "source": [
    "z.shape"
   ]
  },
  {
   "cell_type": "code",
   "execution_count": null,
   "id": "b149c9f9-8da2-41d6-b295-d9ecc611bde1",
   "metadata": {},
   "outputs": [],
   "source": [
    "# 항목의 수(size)\n"
   ]
  },
  {
   "cell_type": "markdown",
   "id": "4ba424c3-cb88-4c41-a1e6-bbb856ad123c",
   "metadata": {},
   "source": [
    "**도전문제 10.2**   \n",
    "\n",
    "다음과 같이 결과를 출력해 보자.\n",
    "```\n",
    "a = np.arrray(range(1, 11)) + np.array(range(10, 101, 10))\n",
    "\n",
    "a.shape\n",
    "\n",
    "a.size\n",
    "```"
   ]
  },
  {
   "cell_type": "code",
   "execution_count": null,
   "id": "51180dc5-5a03-463c-ae28-4127ad781bb0",
   "metadata": {},
   "outputs": [],
   "source": []
  },
  {
   "cell_type": "markdown",
   "id": "908cac73-7112-4c9b-bd01-60e0507e02e3",
   "metadata": {},
   "source": [
    "## 10.3 강력한 넘파이 배열의 연산을 알아보자\n",
    "\n",
    "- +, -, *, /"
   ]
  },
  {
   "cell_type": "code",
   "execution_count": null,
   "id": "9467a605-349b-4aac-b09d-69ce09ec2d64",
   "metadata": {},
   "outputs": [],
   "source": [
    "salary = np.array([220, 250, 230])"
   ]
  },
  {
   "cell_type": "code",
   "execution_count": null,
   "id": "7099f938-e7a8-4c45-96d8-1bb35d7523a3",
   "metadata": {},
   "outputs": [],
   "source": [
    "salary = salary + 100 # broadcasting\n",
    "salary"
   ]
  },
  {
   "cell_type": "code",
   "execution_count": null,
   "id": "a38d1828-71ad-4922-9b0b-a2686d82f466",
   "metadata": {},
   "outputs": [],
   "source": [
    "array([320, 350, 330])"
   ]
  },
  {
   "cell_type": "code",
   "execution_count": null,
   "id": "89c2c91f-694d-458e-a962-cc2ecc0ddee5",
   "metadata": {},
   "outputs": [],
   "source": [
    "salary + np.array([100, 100, 100])"
   ]
  },
  {
   "cell_type": "code",
   "execution_count": null,
   "id": "a117aa96-109e-4494-ab4c-a751b24a9fcb",
   "metadata": {},
   "outputs": [],
   "source": [
    "salary = salary * 2.1\n",
    "salary"
   ]
  },
  {
   "cell_type": "code",
   "execution_count": null,
   "id": "2df544c8-d5b0-42e1-913a-10c012d4f3a1",
   "metadata": {},
   "outputs": [],
   "source": [
    "salary = salary / 2\n",
    "salary"
   ]
  },
  {
   "cell_type": "markdown",
   "id": "bf66e825-72ba-48fc-a4ae-c1cc27b430cc",
   "metadata": {},
   "source": [
    "넘파이의 계산은 왜 빠를까?\n",
    "\n",
    "- 파이썬의 리스트는 아래의 코드와 같이 다양한 자료형의 값을 가질 수 있다. 하지만 넘파이는 각 배열마다 동일한 자료형의 데이터만 \n",
    "가질 수 있다. "
   ]
  },
  {
   "cell_type": "code",
   "execution_count": null,
   "id": "461b2550-17fd-4be3-b4a9-04db009332ba",
   "metadata": {},
   "outputs": [],
   "source": [
    "lst = [3.0, 'park', 5, True]\n",
    "lst"
   ]
  },
  {
   "cell_type": "code",
   "execution_count": null,
   "id": "92052630-4000-4cfa-befb-929a2a6116e5",
   "metadata": {},
   "outputs": [],
   "source": [
    "array = np.array([3.0, 'park', 5, True])\n",
    "array"
   ]
  },
  {
   "cell_type": "markdown",
   "id": "1d9a2d0a-606f-4227-ad8a-2957f4860f1c",
   "metadata": {},
   "source": [
    "**강력한 벡터화 연산을 적극 활용하자**\n",
    "\n",
    "1에서 1000000까지의 정수를 하는 코드를 만든다."
   ]
  },
  {
   "cell_type": "code",
   "execution_count": null,
   "id": "0ad63877-672d-42b6-9f58-e32b3be2cfd0",
   "metadata": {},
   "outputs": [],
   "source": [
    "# list\n",
    "import time \n",
    "st = time.time()\n",
    "sum(range(1, 1000000))\n",
    "print(time.time() - st)"
   ]
  },
  {
   "cell_type": "code",
   "execution_count": null,
   "id": "5d0fdb41-f82f-46c1-9a60-7ea931166884",
   "metadata": {},
   "outputs": [],
   "source": [
    "# numpy\n",
    "st = time.time()\n",
    "np.sum(np.arange(1, 100000.))\n",
    "print(time.time() - st)"
   ]
  },
  {
   "cell_type": "markdown",
   "id": "d7ea92b8-e71f-4e84-a00a-f5ae8e955f1e",
   "metadata": {},
   "source": [
    "- **LAB10-1**nadrray 객체를 생성하고 속성을 알아보자\n",
    "\n",
    "![lab10-1.png](lab10-1.png)"
   ]
  },
  {
   "cell_type": "raw",
   "id": "aa8082f2-49e4-40e9-8ce5-c22a0a4f1778",
   "metadata": {},
   "source": []
  },
  {
   "cell_type": "code",
   "execution_count": null,
   "id": "f144f9d8-7623-441f-8fbe-e58cfd2a0219",
   "metadata": {},
   "outputs": [],
   "source": [
    "import numpy as np\n",
    "\n",
    "list = [0, 1, 2, 3, 4, 5, 6, 7, 8, 9]\n",
    "\n",
    "array = np.array(list)\n",
    "array"
   ]
  },
  {
   "cell_type": "code",
   "execution_count": null,
   "id": "e7d8568e-dde2-4391-a85f-53c1a5ac0699",
   "metadata": {},
   "outputs": [],
   "source": [
    "array_b = np.array(range(10))\n",
    "array_b"
   ]
  },
  {
   "cell_type": "code",
   "execution_count": null,
   "id": "638c7ad2-0747-425f-b853-4058ff6dae53",
   "metadata": {},
   "outputs": [],
   "source": [
    "array_c = np.array(range(0, 10, 2))\n",
    "array_c"
   ]
  },
  {
   "cell_type": "code",
   "execution_count": null,
   "id": "da1a5eb4-0145-487c-9780-e2448d6f36b7",
   "metadata": {},
   "outputs": [],
   "source": [
    "array_c.shape"
   ]
  },
  {
   "cell_type": "code",
   "execution_count": null,
   "id": "8eb17a52-a3d1-4af2-be9c-1d96fe97aef2",
   "metadata": {},
   "outputs": [],
   "source": [
    "array_c.ndim"
   ]
  },
  {
   "cell_type": "code",
   "execution_count": null,
   "id": "0bb3738c-8ea2-4d8d-95e0-2b4c830cbcdf",
   "metadata": {},
   "outputs": [],
   "source": [
    "array_c.dtype # 32 - bit 정수"
   ]
  },
  {
   "cell_type": "code",
   "execution_count": null,
   "id": "b35028e3-2e68-4b62-aa06-f1ce8cee99ff",
   "metadata": {},
   "outputs": [],
   "source": [
    "type(array_c)"
   ]
  },
  {
   "cell_type": "markdown",
   "id": "496d1753-98ab-484a-9781-ed251c6027d9",
   "metadata": {},
   "source": [
    "**LAB10-2** 여러 사람의 BMI를 빠르고 간편하게 계산하기\n",
    "\n",
    "![lab10-2.png](lab10-2.png)"
   ]
  },
  {
   "cell_type": "code",
   "execution_count": null,
   "id": "938a042f-0dba-4101-9996-3d0006a639d0",
   "metadata": {},
   "outputs": [],
   "source": [
    "heights = [1.83, 1.76, 1.69, 1.86, 1.77, 1.73]\n",
    "weights = [86, 74, 59, 95, 80, 68]\n",
    "\n",
    "bmi = [w / h **2 for h, w in zip(heights, weights)]\n",
    "bmi"
   ]
  },
  {
   "cell_type": "code",
   "execution_count": null,
   "id": "eec70271-d227-4685-b03e-50fa600567fb",
   "metadata": {},
   "outputs": [],
   "source": [
    "heights = np.array(heights)\n",
    "weights = np.array(weights)\n",
    "\n",
    "bmi = weights / heights ** 2\n",
    "bmi"
   ]
  },
  {
   "cell_type": "code",
   "execution_count": null,
   "id": "c559c50d-22e6-4a64-89ef-c922bfb0a8fd",
   "metadata": {},
   "outputs": [],
   "source": [
    "array_a = np.array([0, 1, 2, 3, 4, 5, 6, 7, 8, 9])\n",
    "array_a"
   ]
  },
  {
   "cell_type": "markdown",
   "id": "f4d346e4-7f94-4f58-927e-5b0f237f2456",
   "metadata": {},
   "source": [
    "## 10.4 인덱싱과 슬라이싱을 넘파이에서도 할 수 있다"
   ]
  },
  {
   "cell_type": "code",
   "execution_count": null,
   "id": "6dcc284a-c93a-4352-850b-35eefccd6003",
   "metadata": {},
   "outputs": [],
   "source": [
    "scores = np.array([88, 72, 93, 94, 89, 78, 99])\n",
    "#                   0  1    2   3  4    5   6"
   ]
  },
  {
   "cell_type": "code",
   "execution_count": null,
   "id": "36d525df-487b-4718-8190-3fbdaf67d9d1",
   "metadata": {},
   "outputs": [],
   "source": [
    "# indexing\n",
    "scores[3]"
   ]
  },
  {
   "cell_type": "code",
   "execution_count": null,
   "id": "a93907d7-a4ef-42eb-b388-60bed42abd90",
   "metadata": {},
   "outputs": [],
   "source": [
    "scores[-1]"
   ]
  },
  {
   "cell_type": "code",
   "execution_count": null,
   "id": "93ee4d84-4e8b-42f5-b937-0edcf0b739c9",
   "metadata": {},
   "outputs": [],
   "source": [
    "# slicing\n",
    "scores[2:5]"
   ]
  },
  {
   "cell_type": "code",
   "execution_count": null,
   "id": "fd90a073-762b-4e28-987c-748ad43e8a10",
   "metadata": {},
   "outputs": [],
   "source": [
    "scores[:3]"
   ]
  },
  {
   "cell_type": "code",
   "execution_count": null,
   "id": "8de53b11-8bf7-481b-b565-d709b7311b1d",
   "metadata": {},
   "outputs": [],
   "source": [
    "scores[4:]"
   ]
  },
  {
   "cell_type": "code",
   "execution_count": null,
   "id": "9dc16a28-00cc-4f49-ad2e-e1df220f6cdd",
   "metadata": {},
   "outputs": [],
   "source": [
    "scores[::2]"
   ]
  },
  {
   "cell_type": "code",
   "execution_count": null,
   "id": "c1acc047-eb48-48b4-9f55-9350c4fbffff",
   "metadata": {},
   "outputs": [],
   "source": [
    "scores[::-1]"
   ]
  },
  {
   "cell_type": "code",
   "execution_count": null,
   "id": "c1df6b5c-1ee2-432e-9cfa-607e8083f1d3",
   "metadata": {},
   "outputs": [],
   "source": [
    "# 요소의 변경\n",
    "scores[3] = 80\n",
    "scores"
   ]
  },
  {
   "cell_type": "code",
   "execution_count": null,
   "id": "cf8064f2-f2f9-4919-b039-c6f282f50073",
   "metadata": {},
   "outputs": [],
   "source": [
    "# 논리 인덱싱\n",
    "scores[scores > 90]"
   ]
  },
  {
   "cell_type": "code",
   "execution_count": null,
   "id": "a710fecd-233c-4f19-a82f-f097915d3f8b",
   "metadata": {},
   "outputs": [],
   "source": []
  },
  {
   "attachments": {},
   "cell_type": "markdown",
   "id": "e45d5fa8-bb6f-47b8-a7af-66cc684f6c99",
   "metadata": {},
   "source": [
    "## 10.5 2차원 배열의 인덱싱\n"
   ]
  },
  {
   "cell_type": "code",
   "execution_count": 1,
   "id": "fa2dcd15-8945-48eb-90b0-5d92d76ab662",
   "metadata": {},
   "outputs": [
    {
     "ename": "NameError",
     "evalue": "name 'np' is not defined",
     "output_type": "error",
     "traceback": [
      "\u001b[1;31m---------------------------------------------------------------------------\u001b[0m",
      "\u001b[1;31mNameError\u001b[0m                                 Traceback (most recent call last)",
      "Cell \u001b[1;32mIn[1], line 2\u001b[0m\n\u001b[0;32m      1\u001b[0m num_list \u001b[38;5;241m=\u001b[39m [[\u001b[38;5;241m1\u001b[39m, \u001b[38;5;241m2\u001b[39m, \u001b[38;5;241m3\u001b[39m], [\u001b[38;5;241m4\u001b[39m, \u001b[38;5;241m5\u001b[39m, \u001b[38;5;241m6\u001b[39m], [\u001b[38;5;241m7\u001b[39m, \u001b[38;5;241m8\u001b[39m, \u001b[38;5;241m9\u001b[39m]]\n\u001b[1;32m----> 2\u001b[0m np_array \u001b[38;5;241m=\u001b[39m np\u001b[38;5;241m.\u001b[39marray(num_list)\n\u001b[0;32m      3\u001b[0m np_array\u001b[38;5;241m.\u001b[39mshape\n",
      "\u001b[1;31mNameError\u001b[0m: name 'np' is not defined"
     ]
    }
   ],
   "source": [
    "num_list = [[1, 2, 3], [4, 5, 6], [7, 8, 9]]\n",
    "np_array = np.array(num_list)\n",
    "np_array.shape"
   ]
  },
  {
   "cell_type": "code",
   "execution_count": null,
   "id": "1f6db1ff-6f92-4171-8dd6-5c6ed0840bee",
   "metadata": {},
   "outputs": [],
   "source": [
    "np_array"
   ]
  },
  {
   "cell_type": "code",
   "execution_count": null,
   "id": "424dc953-53a0-43f3-8e68-e85f6c4c392f",
   "metadata": {},
   "outputs": [],
   "source": [
    "np_array[2, 1:]"
   ]
  },
  {
   "cell_type": "code",
   "execution_count": null,
   "id": "a81127a8-e0cf-4a2f-9d99-dbea6a2dbc37",
   "metadata": {},
   "outputs": [],
   "source": [
    "np_array[-1, 1:]"
   ]
  },
  {
   "cell_type": "code",
   "execution_count": null,
   "id": "e9a0adf1-7795-4a2f-a1f9-2c903e36871f",
   "metadata": {},
   "outputs": [],
   "source": [
    "# indexing [row, col]\n",
    "np_array[1, 2]"
   ]
  },
  {
   "cell_type": "code",
   "execution_count": null,
   "id": "15ec7c53-80ce-46a5-a3fe-f1a4130a117d",
   "metadata": {},
   "outputs": [],
   "source": [
    "np_array[1, 0]"
   ]
  },
  {
   "cell_type": "code",
   "execution_count": null,
   "id": "a781bb0c-d777-437e-9b91-02cc5efa99ae",
   "metadata": {},
   "outputs": [],
   "source": [
    "np_array[2]"
   ]
  },
  {
   "cell_type": "code",
   "execution_count": null,
   "id": "82839c02-1dc9-4449-955d-f402e8700056",
   "metadata": {},
   "outputs": [],
   "source": [
    "np_array[:, 2]"
   ]
  },
  {
   "cell_type": "code",
   "execution_count": null,
   "id": "e3f778a1-fc49-49ba-ba59-0c1566c9a482",
   "metadata": {},
   "outputs": [],
   "source": [
    "np_array[:, 1]"
   ]
  },
  {
   "cell_type": "code",
   "execution_count": null,
   "id": "02d14306-5562-4a2a-815c-af7a63bc79ea",
   "metadata": {},
   "outputs": [],
   "source": [
    "# slicing [st:end:step, st:end:step]\n",
    "\n"
   ]
  },
  {
   "cell_type": "markdown",
   "id": "75058d1e-2d3d-403f-a496-1df9a5e8c49f",
   "metadata": {},
   "source": [
    "슬라이싱 정리\n",
    "\n",
    "![288-1.jpg](288-1.jpg)"
   ]
  },
  {
   "cell_type": "code",
   "execution_count": null,
   "id": "1944b010-44f9-4d29-878d-d5a492803061",
   "metadata": {},
   "outputs": [],
   "source": [
    "A = np.arange(16).reshape(4, 4)\n",
    "A"
   ]
  },
  {
   "cell_type": "code",
   "execution_count": null,
   "id": "525cd456-8000-488c-95ff-c2ebd0d8daaf",
   "metadata": {},
   "outputs": [],
   "source": [
    "A[1:3, 1:3]"
   ]
  },
  {
   "cell_type": "code",
   "execution_count": null,
   "id": "eaf4bf7c-7050-4e51-a48c-eaa4cbe424a8",
   "metadata": {},
   "outputs": [],
   "source": [
    "# 요소의 변경\n",
    "A[1, 1] = 50\n",
    "A"
   ]
  },
  {
   "cell_type": "code",
   "execution_count": null,
   "id": "f9dbd504-504c-4800-ac93-bfbe5f748382",
   "metadata": {},
   "outputs": [],
   "source": [
    "# 논리 인덱싱"
   ]
  },
  {
   "cell_type": "code",
   "execution_count": null,
   "id": "cc6614d3-c86a-4095-9a8e-5927ecdbd682",
   "metadata": {},
   "outputs": [],
   "source": []
  },
  {
   "attachments": {},
   "cell_type": "markdown",
   "id": "4244d80d-ff8f-4de8-9e88-39630447ff07",
   "metadata": {},
   "source": [
    "**LAB10-3** 2차원 배열 연습하기\n",
    "\n",
    "![lab10-3.png](lab10-3.png)"
   ]
  },
  {
   "cell_type": "code",
   "execution_count": null,
   "id": "671cf258-0ed7-48d5-bd82-c15f2c1cf18b",
   "metadata": {},
   "outputs": [],
   "source": [
    "x = np.array([['a', 'b', 'c', 'd'],\n",
    "              ['c', 'c', 'g', 'h']])\n",
    "\n",
    "x[x == 'c']"
   ]
  },
  {
   "cell_type": "markdown",
   "id": "21132766-7b38-429d-8a58-e1cf7905b656",
   "metadata": {},
   "source": [
    "수학 용어 정리\n",
    "- 스칼라\n",
    "- 벡터\n",
    "- 행렬\n",
    "- 텐서"
   ]
  },
  {
   "cell_type": "markdown",
   "id": "fcfcf86a-fe0c-4927-84b0-8e8c326bb5dd",
   "metadata": {},
   "source": [
    "**LAB10-4** 넘파이 배열의 형태 알아내고 슬라이싱하여 연산\n",
    "\n",
    "![lab10-4.png](lab10-4.png)"
   ]
  },
  {
   "cell_type": "code",
   "execution_count": null,
   "id": "adec88e3-502e-420c-a57a-ae8c80e1e912",
   "metadata": {},
   "outputs": [],
   "source": [
    "x = np.array([[1.83, 1.76, 1.69, 1.86, 1.77, 1.73],\n",
    "              [86.0, 74.0, 59.0, 95.0, 80.0, 68.0]])\n"
   ]
  },
  {
   "cell_type": "code",
   "execution_count": null,
   "id": "b854f25e-fc87-4f6e-80ad-2ea7ad96c1a5",
   "metadata": {},
   "outputs": [],
   "source": []
  },
  {
   "cell_type": "markdown",
   "id": "1c7ab903-26e7-4e5c-9220-ac580365e9f2",
   "metadata": {},
   "source": [
    "## 10.7 arange() 함수와 range() 함수의 비교\n",
    "\n",
    "```\n",
    "numpy.arange([start], stop, [step])\n",
    "\n",
    "range([start], stop, [step])\n",
    "```\n"
   ]
  },
  {
   "cell_type": "code",
   "execution_count": null,
   "id": "bc14158b-8f70-4631-963c-17350a93dde5",
   "metadata": {},
   "outputs": [],
   "source": [
    "np.arange(5)"
   ]
  },
  {
   "cell_type": "code",
   "execution_count": null,
   "id": "17e1d011-4027-467f-a572-4909496d9aff",
   "metadata": {},
   "outputs": [],
   "source": [
    "np.arange(1, 6, 2)"
   ]
  },
  {
   "cell_type": "code",
   "execution_count": null,
   "id": "b755dc09-bb15-402a-90b8-46ca7c13e19c",
   "metadata": {},
   "outputs": [],
   "source": []
  },
  {
   "cell_type": "markdown",
   "id": "d453bf51-a8cd-4af2-8718-77f72e3282aa",
   "metadata": {},
   "source": [
    "**LAB10-5** 2차원 배열에서 특정 조건을 만족하는 행만 추출하기\n",
    "\n",
    "![lab10-5.png](lab10-5.png)"
   ]
  },
  {
   "cell_type": "code",
   "execution_count": null,
   "id": "cb92b566-d5a3-4995-8bec-f0ecc3fc56d9",
   "metadata": {},
   "outputs": [],
   "source": [
    "players = [[178, 76.4],\n",
    "           [183, 86.2],\n",
    "           [181, 78.5],\n",
    "           [176, 80.1]]\n",
    "\n",
    "players = np.array(players)\n",
    "players"
   ]
  },
  {
   "cell_type": "code",
   "execution_count": null,
   "id": "1b9277c0-2c87-4a6d-83a4-c4b94261f991",
   "metadata": {},
   "outputs": [],
   "source": [
    "players[players[:, 1] > 80]"
   ]
  },
  {
   "cell_type": "markdown",
   "id": "419028e4-d5c1-493b-83e4-1ff5e69c60fd",
   "metadata": {
    "jp-MarkdownHeadingCollapsed": true
   },
   "source": [
    "## 10.8 linspace() 함수와 logspace() 함수\n",
    "```\n",
    "numpy.linspace(start, stop, num)\n",
    "```"
   ]
  },
  {
   "cell_type": "code",
   "execution_count": null,
   "id": "4e5678e1-c6dc-440e-953d-cb18945ef9ac",
   "metadata": {},
   "outputs": [],
   "source": [
    "np.linspace(0, 1, 10)"
   ]
  },
  {
   "cell_type": "code",
   "execution_count": null,
   "id": "a1ebdf9f-e3b9-4302-930c-db35e49f7b16",
   "metadata": {},
   "outputs": [],
   "source": []
  },
  {
   "cell_type": "markdown",
   "id": "82a1da63-c8a4-4d1f-8723-e5181e9971d0",
   "metadata": {},
   "source": [
    "**배열의 형태를 바꾸는 reshape() 메소드와 flatten() 메소드**"
   ]
  },
  {
   "cell_type": "code",
   "execution_count": null,
   "id": "0d3fc232-d77f-4aa3-8be3-c54b7a14dd00",
   "metadata": {},
   "outputs": [],
   "source": [
    "y = np.arange(12)"
   ]
  },
  {
   "cell_type": "code",
   "execution_count": null,
   "id": "84c28e0e-8bb9-4d9d-a080-03802201231f",
   "metadata": {},
   "outputs": [],
   "source": [
    "# reshape\n",
    "z = y.reshape(3, 4)\n"
   ]
  },
  {
   "cell_type": "code",
   "execution_count": null,
   "id": "aa7f6b7d-5237-40b0-b22d-41af93c66a6b",
   "metadata": {},
   "outputs": [],
   "source": [
    "# flatten\n",
    "x = z.flatten()\n"
   ]
  },
  {
   "cell_type": "code",
   "execution_count": null,
   "id": "357dd93c-7a00-4541-b9f9-f49a9f3e82a6",
   "metadata": {},
   "outputs": [],
   "source": []
  },
  {
   "cell_type": "markdown",
   "id": "303f3874-43ae-4b05-aae2-1e54113a44da",
   "metadata": {},
   "source": [
    "## 10.9 난수를 생성해보자"
   ]
  },
  {
   "cell_type": "code",
   "execution_count": null,
   "id": "89407442-4e7f-4d48-8ef3-8e2f1b278a84",
   "metadata": {},
   "outputs": [],
   "source": [
    "np.random.seed(43)"
   ]
  },
  {
   "cell_type": "markdown",
   "id": "3b3ec5f8-74b3-4568-8252-1e1acec9d705",
   "metadata": {},
   "source": [
    "정규분포 난수\n",
    "![298-1.jpg](298-1.jpg)"
   ]
  },
  {
   "cell_type": "code",
   "execution_count": null,
   "id": "b0603759-318e-4460-a841-0b635406611c",
   "metadata": {},
   "outputs": [],
   "source": [
    "x = np.random.randn(10) # mu=0, sigma=1"
   ]
  },
  {
   "cell_type": "code",
   "execution_count": null,
   "id": "63c25a44-4805-4687-863f-10cfc18be67e",
   "metadata": {},
   "outputs": [],
   "source": [
    "x = np.random.randn(5, 4) # mu=0, sigma=1"
   ]
  },
  {
   "cell_type": "code",
   "execution_count": null,
   "id": "99e0ca11-12df-412f-83aa-2a115ac25941",
   "metadata": {},
   "outputs": [],
   "source": [
    "mu = 10\n",
    "sigma = 2\n",
    "x = mu + sigma * np.random.randn(5, 4)"
   ]
  },
  {
   "cell_type": "markdown",
   "id": "0fe06b56-c551-4363-91b4-acff2a39031c",
   "metadata": {},
   "source": [
    "**평균과 중앙값 계산하기**"
   ]
  },
  {
   "cell_type": "code",
   "execution_count": null,
   "id": "f35a1531-97a9-4699-a2be-bd21288ea079",
   "metadata": {},
   "outputs": [],
   "source": [
    "mu = 175\n",
    "sigma = 10\n",
    "heights = mu + sigma * np.random.randn(1000)"
   ]
  },
  {
   "cell_type": "code",
   "execution_count": null,
   "id": "33e514f9-998d-4888-95bc-4bef579444f8",
   "metadata": {},
   "outputs": [],
   "source": [
    "numbers = np.array([3, 7, 1, 2, 21])"
   ]
  },
  {
   "cell_type": "code",
   "execution_count": null,
   "id": "d43c5fcf-06ac-45d7-b3c0-a6a4bf81155a",
   "metadata": {},
   "outputs": [],
   "source": [
    "# 평균(mean)\n",
    "numbers.sum() / len(numbers), np.mean(numbers)"
   ]
  },
  {
   "cell_type": "code",
   "execution_count": null,
   "id": "acf00c3a-8e09-4ce5-bdf1-42da2d3a496b",
   "metadata": {},
   "outputs": [],
   "source": [
    "# 중앙값(median)\n"
   ]
  },
  {
   "cell_type": "code",
   "execution_count": null,
   "id": "bf78b7ef-2510-4c7e-9870-2dc078d73d04",
   "metadata": {},
   "outputs": [],
   "source": []
  },
  {
   "attachments": {},
   "cell_type": "markdown",
   "id": "452c2292-32fc-4941-b149-238c2cb36401",
   "metadata": {},
   "source": [
    "**LAB10-6 배열의 형태를 바꾸어 보자**\n",
    "\n",
    "![lab10-6.png](lab10-6.png)"
   ]
  },
  {
   "cell_type": "code",
   "execution_count": null,
   "id": "36a2ee5a-558f-4db5-96ad-6936d31680cd",
   "metadata": {},
   "outputs": [],
   "source": []
  },
  {
   "cell_type": "markdown",
   "id": "8af2e4b2-4187-4a85-a41c-7de9c85f243f",
   "metadata": {},
   "source": [
    "**LAB10-7** 평균과 중앙값 계산 연습\n",
    "\n",
    "![lab10-7.png](lab10-7.png)"
   ]
  },
  {
   "cell_type": "code",
   "execution_count": null,
   "id": "acc57ba8-db54-4104-a5ce-118fc3d93de8",
   "metadata": {},
   "outputs": [],
   "source": []
  },
  {
   "cell_type": "markdown",
   "id": "13a4ef8a-c639-45a7-a4fd-b96e515470df",
   "metadata": {},
   "source": [
    "## 10.11 상관관계 계산하기\n",
    "\n",
    "- 일반적으로 키가 큰 사람의 몸무게가 키가 작은 사람에 비해서 많이 나간다\n",
    "- 공부하는 시간이 길면 점수가 높다.\n",
    "- 운동을 시간이 길수록 몸무게가 적게 나간다.\n"
   ]
  },
  {
   "cell_type": "code",
   "execution_count": null,
   "id": "6bdbada6-54ac-4852-852d-9d20488c2e35",
   "metadata": {},
   "outputs": [],
   "source": [
    "heights = 175 + 10 * np.random.randn(1000)\n",
    "weights = (heights - 110) + 10 * np.random.randn(1000)\n",
    "np.corrcoef(heights, weights)"
   ]
  },
  {
   "cell_type": "code",
   "execution_count": null,
   "id": "53829835-154c-4a64-9aef-94b8a9807e49",
   "metadata": {},
   "outputs": [],
   "source": [
    "x = np.linspace(0, 100, 101)\n",
    "y = np.sin(x)\n",
    "np.corrcoef(x, y)"
   ]
  },
  {
   "cell_type": "code",
   "execution_count": null,
   "id": "817d58f6-fada-4e4f-873b-35e06ff14c36",
   "metadata": {},
   "outputs": [],
   "source": [
    "x = np.arange(100)\n",
    "y = x ** 2\n",
    "z = np.sin(3.14 * x / 100)"
   ]
  },
  {
   "cell_type": "code",
   "execution_count": null,
   "id": "822eac47-aa83-4d61-8ec4-9853a4995851",
   "metadata": {},
   "outputs": [],
   "source": [
    "np.corrcoef([x, y, z])"
   ]
  },
  {
   "cell_type": "code",
   "execution_count": null,
   "id": "2c507752-4e7f-47d3-b87f-ea36cf078788",
   "metadata": {},
   "outputs": [],
   "source": [
    "import matplotlib.pyplot as plt\n",
    "\n",
    "plt.figure(figsize=(10, 3))\n",
    "plt.subplot(1, 3, 1)\n",
    "plt.plot(x, y)\n",
    "plt.subplot(1, 3, 2)\n",
    "plt.plot(y, z)\n",
    "plt.subplot(1, 3, 3)\n",
    "plt.plot(x, z)\n",
    "plt.show()"
   ]
  },
  {
   "cell_type": "code",
   "execution_count": null,
   "id": "4a270d04-dfb9-4398-86ec-44af66acda5f",
   "metadata": {},
   "outputs": [],
   "source": []
  }
 ],
 "metadata": {
  "kernelspec": {
   "display_name": "Python 3 (ipykernel)",
   "language": "python",
   "name": "python3"
  },
  "language_info": {
   "codemirror_mode": {
    "name": "ipython",
    "version": 3
   },
   "file_extension": ".py",
   "mimetype": "text/x-python",
   "name": "python",
   "nbconvert_exporter": "python",
   "pygments_lexer": "ipython3",
   "version": "3.11.7"
  }
 },
 "nbformat": 4,
 "nbformat_minor": 5
}
